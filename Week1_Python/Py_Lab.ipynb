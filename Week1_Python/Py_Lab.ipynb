{
 "cells": [
  {
   "cell_type": "code",
   "execution_count": null,
   "id": "b794e9e5",
   "metadata": {},
   "outputs": [],
   "source": [
    "%matplotlib inline"
   ]
  },
  {
   "cell_type": "markdown",
   "id": "8786d184",
   "metadata": {
    "lines_to_next_cell": 0
   },
   "source": [
    "[A-1] 천만까지 합 구하기"
   ]
  },
  {
   "cell_type": "markdown",
   "id": "c05b317a",
   "metadata": {},
   "source": [
    "파이썬은 한줄한줄 실행하는 인터프리터이므로, for문으로 계산하는 것보다 한번에 계산할 수 있으면 그게 더 빠름"
   ]
  },
  {
   "cell_type": "code",
   "execution_count": 1,
   "id": "a4790c0a",
   "metadata": {},
   "outputs": [
    {
     "name": "stdout",
     "output_type": "stream",
     "text": [
      "time = 0:00:02.090529 50000005000000\n"
     ]
    }
   ],
   "source": [
    "import datetime\n",
    "\n",
    "tot = 0\n",
    "start = datetime.datetime.now()\n",
    "\n",
    "for i in range(10000001): tot += i\n",
    "\n",
    "end = datetime.datetime.now()\n",
    "print(\"time =\", (end - start), tot)"
   ]
  },
  {
   "cell_type": "markdown",
   "id": "b44fcf04",
   "metadata": {
    "lines_to_next_cell": 0
   },
   "source": [
    " [A-2] 천만까지 합 구하기"
   ]
  },
  {
   "cell_type": "code",
   "execution_count": 2,
   "id": "d9bc6b5c",
   "metadata": {},
   "outputs": [
    {
     "name": "stdout",
     "output_type": "stream",
     "text": [
      "time = 0:00:00.629537 50000005000000\n"
     ]
    }
   ],
   "source": [
    "import datetime\n",
    "\n",
    "start = datetime.datetime.now()\n",
    "\n",
    "tot = sum(range(10000001))\n",
    "\n",
    "end = datetime.datetime.now()\n",
    "print(\"time =\", (end - start), tot)"
   ]
  },
  {
   "cell_type": "markdown",
   "id": "7c54049f",
   "metadata": {
    "lines_to_next_cell": 0
   },
   "source": [
    " [B-1] 100까지 문자열 인쇄하기"
   ]
  },
  {
   "cell_type": "code",
   "execution_count": null,
   "id": "360303d0",
   "metadata": {},
   "outputs": [],
   "source": [
    "import datetime\n",
    "\n",
    "start = datetime.datetime.now()\n",
    "\n",
    "for i in range(101):\n",
    "    print(i, end=' ')\n",
    "\n",
    "end = datetime.datetime.now()\n",
    "print()\n",
    "print(\"time =\", (end - start))"
   ]
  },
  {
   "cell_type": "markdown",
   "id": "e3881deb",
   "metadata": {
    "lines_to_next_cell": 0
   },
   "source": [
    " [B-2] 100까지 문자열 인쇄하기"
   ]
  },
  {
   "cell_type": "code",
   "execution_count": null,
   "id": "1191ecdf",
   "metadata": {},
   "outputs": [],
   "source": [
    "import datetime\n",
    "\n",
    "start = datetime.datetime.now()\n",
    "\n",
    "s = ' '.join(str(i) for i in range(101))\n",
    "print(s)\n",
    "\n",
    "end = datetime.datetime.now()\n",
    "print(\"time =\", (end - start))"
   ]
  },
  {
   "cell_type": "markdown",
   "id": "764e5268",
   "metadata": {
    "lines_to_next_cell": 0
   },
   "source": [
    " [1-1] Hello Python"
   ]
  },
  {
   "cell_type": "code",
   "execution_count": null,
   "id": "9ae36ea0",
   "metadata": {},
   "outputs": [],
   "source": [
    "print('Hello')\n",
    "print(\"Python\")\n",
    "print('홍길동', '나이 =', 20, \"세\")"
   ]
  },
  {
   "cell_type": "markdown",
   "id": "9c71af77",
   "metadata": {
    "lines_to_next_cell": 0
   },
   "source": [
    " [1-2] 파이썬의 주석"
   ]
  },
  {
   "cell_type": "code",
   "execution_count": null,
   "id": "b06fd5bb",
   "metadata": {},
   "outputs": [],
   "source": [
    "print( \"Hello\" ) #Hello 인쇄합니다 print( \"Python\" )\n",
    "print( \"World\" )"
   ]
  },
  {
   "cell_type": "markdown",
   "id": "d78ef740",
   "metadata": {
    "lines_to_next_cell": 0
   },
   "source": [
    " [1-3] 들여쓰기"
   ]
  },
  {
   "cell_type": "code",
   "execution_count": null,
   "id": "d7270d2c",
   "metadata": {},
   "outputs": [],
   "source": [
    "print('Hello')\n",
    "  print(\"Python\")"
   ]
  },
  {
   "cell_type": "markdown",
   "id": "1c18d5d3",
   "metadata": {
    "lines_to_next_cell": 0
   },
   "source": [
    " [1-4] print 함수의 옵션"
   ]
  },
  {
   "cell_type": "code",
   "execution_count": null,
   "id": "087fbcc4",
   "metadata": {},
   "outputs": [],
   "source": [
    "print( \"Hi\", \"Python\" )\n",
    "\n",
    "print( \"Good\", \"Python\", sep = \"***\" )\n",
    "\n",
    "print( \"Hello\" )\n",
    "print( )\n",
    "print( \"Python\" )\n",
    "\n",
    "print( \"Welcome\", \"Python\", sep = \" ::: \", end = \" \")\n",
    "print( \"World!\" )"
   ]
  },
  {
   "cell_type": "markdown",
   "id": "36b2c147",
   "metadata": {
    "lines_to_next_cell": 0
   },
   "source": [
    " [1-5] 정수형(int) 상수"
   ]
  },
  {
   "cell_type": "code",
   "execution_count": null,
   "id": "7262f524",
   "metadata": {},
   "outputs": [],
   "source": [
    "print( 12346578901234567890 )\n",
    "print( 15, 0b1111, 0o17, 0xf )\n",
    "\n",
    "print( True == 1, 5 > 10)"
   ]
  },
  {
   "cell_type": "markdown",
   "id": "8ff622a0",
   "metadata": {
    "lines_to_next_cell": 0
   },
   "source": [
    " [1-6] 실수형(float) 상수"
   ]
  },
  {
   "cell_type": "code",
   "execution_count": null,
   "id": "6b749ec8",
   "metadata": {},
   "outputs": [],
   "source": [
    "print( 3.14, -3.14 )\n",
    "print( 1e-3, 1e3 )"
   ]
  },
  {
   "cell_type": "markdown",
   "id": "f25d6f6b",
   "metadata": {
    "lines_to_next_cell": 0
   },
   "source": [
    " [1-7] 변수"
   ]
  },
  {
   "cell_type": "code",
   "execution_count": null,
   "id": "2793381d",
   "metadata": {},
   "outputs": [],
   "source": [
    "abc1 = 10\n",
    "Abc1 = abc1 + 1\n",
    "my_name = 'KIM'\n",
    "print('abc1', abc1, 'Abc1', Abc1, 'my_name', my_name)\n",
    "abc1 = 20\n",
    "print(abc1)"
   ]
  },
  {
   "cell_type": "markdown",
   "id": "2ca6e0a4",
   "metadata": {
    "lines_to_next_cell": 0
   },
   "source": [
    " [1-8] 변수의 타입"
   ]
  },
  {
   "cell_type": "code",
   "execution_count": null,
   "id": "90d1d351",
   "metadata": {},
   "outputs": [],
   "source": [
    "a, b, c = 10, 3.14, 'hello'\n",
    "print( type(a), type(b), type(c) )\n",
    "\n",
    "a, b, c = b, c, 100\n",
    "print( type(a), type(b), type(c) )"
   ]
  },
  {
   "cell_type": "markdown",
   "id": "5a97adbf",
   "metadata": {
    "lines_to_next_cell": 0
   },
   "source": [
    " [1-9] 기본 산술 연산자의 이해"
   ]
  },
  {
   "cell_type": "code",
   "execution_count": null,
   "id": "7eaeb1ab",
   "metadata": {},
   "outputs": [],
   "source": [
    "a, b = 10, 3\n",
    "print( a**2, (-3)**2 )\n",
    "print( a+b, a-b, a*b, a/b )\n",
    "print( 10//3, 10%3, 2.5//2, 2.5%2 )\n",
    "print( 10+20/2, (10+20)/2 )\n",
    "\n",
    "print('Hello' + ' ' + 'Python')\n",
    "print('Hello' * 2)"
   ]
  },
  {
   "cell_type": "markdown",
   "id": "6917007a",
   "metadata": {
    "lines_to_next_cell": 0
   },
   "source": [
    " [1-10] 자리수 분리"
   ]
  },
  {
   "cell_type": "code",
   "execution_count": null,
   "id": "160d74c6",
   "metadata": {},
   "outputs": [],
   "source": [
    "n = 1234\n",
    "d1 = \n",
    "d2 =\n",
    "d3 =\n",
    "d4 = \n",
    "print( d1, d2, d3, d4 )"
   ]
  },
  {
   "cell_type": "markdown",
   "id": "f769ce78",
   "metadata": {
    "lines_to_next_cell": 0
   },
   "source": [
    " [1-11] 문자열 상수"
   ]
  },
  {
   "cell_type": "code",
   "execution_count": null,
   "id": "fcaf4065",
   "metadata": {},
   "outputs": [],
   "source": [
    "print( \"Hi\\nPyth\\ton\" )\n",
    "print( 'It\\'s nice' )\n",
    "print( \"Back Slash => \\\\\" )\n",
    "print( r\"Hi\\nPyth\\ton\" )"
   ]
  },
  {
   "cell_type": "markdown",
   "id": "27a83d6b",
   "metadata": {
    "lines_to_next_cell": 0
   },
   "source": [
    " [1-12] 디렉토리 형식 문자열 인쇄"
   ]
  },
  {
   "cell_type": "code",
   "execution_count": null,
   "id": "4ce4c8e0",
   "metadata": {},
   "outputs": [],
   "source": [
    "print( 'C:\\temp' )"
   ]
  },
  {
   "cell_type": "markdown",
   "id": "d0a41b71",
   "metadata": {
    "lines_to_next_cell": 0
   },
   "source": [
    " [1-13] 타입명"
   ]
  },
  {
   "cell_type": "code",
   "execution_count": null,
   "id": "26a99364",
   "metadata": {},
   "outputs": [],
   "source": [
    "print( type(int) )\n",
    "print( type(10) )\n",
    "a, b = int(3.14), int('10')\n",
    "print( a, type(a), b, type(b) )"
   ]
  },
  {
   "cell_type": "markdown",
   "id": "dc52b5e8",
   "metadata": {
    "lines_to_next_cell": 0
   },
   "source": [
    " [1-14] 데이터 타입(type) 변환"
   ]
  },
  {
   "cell_type": "code",
   "execution_count": null,
   "id": "74bb40b3",
   "metadata": {},
   "outputs": [],
   "source": [
    "print(str(10), str(3.14), str('apple'))\n",
    "print(int(4.89), int('13'), int(-10))\n",
    "print(float(5), float('3.14'), float(1.78))\n",
    "print(bool(1.5), bool(0.0), bool(True))"
   ]
  },
  {
   "cell_type": "markdown",
   "id": "97b9f83c",
   "metadata": {
    "lines_to_next_cell": 0
   },
   "source": [
    " [1-15] 문자열 정수 연산"
   ]
  },
  {
   "cell_type": "code",
   "execution_count": null,
   "id": "55226992",
   "metadata": {},
   "outputs": [],
   "source": [
    "a, b = '10', '20'\n",
    "r = a + b\n",
    "print(r)"
   ]
  },
  {
   "cell_type": "markdown",
   "id": "c8ce405b",
   "metadata": {
    "lines_to_next_cell": 0
   },
   "source": [
    " [1-16] 제품 판매가격 계산"
   ]
  },
  {
   "cell_type": "code",
   "execution_count": null,
   "id": "330188e0",
   "metadata": {},
   "outputs": [],
   "source": [
    "p, t = '123456', '12.5'\n",
    "\n",
    "# 코드 작성\n",
    "\n",
    "print( total )"
   ]
  },
  {
   "cell_type": "markdown",
   "id": "0653fccf",
   "metadata": {
    "lines_to_next_cell": 0
   },
   "source": [
    " [1-17] 키보드로 입력 및 타입 변환"
   ]
  },
  {
   "cell_type": "code",
   "execution_count": null,
   "id": "dbe560d2",
   "metadata": {},
   "outputs": [],
   "source": [
    "x = input()\n",
    "y = int(input())\n",
    "z = float(input())\n",
    "\n",
    "print(x, type(x))\n",
    "print(y, type(y))\n",
    "print(z, type(z))"
   ]
  },
  {
   "cell_type": "markdown",
   "id": "b15a5470",
   "metadata": {
    "lines_to_next_cell": 0
   },
   "source": [
    " [1-18] 두 정수 입력 받아 합 구하기"
   ]
  },
  {
   "cell_type": "code",
   "execution_count": null,
   "id": "c1e7a9a4",
   "metadata": {},
   "outputs": [],
   "source": [
    "# 코드 작성\n",
    "\n",
    "print( a + b )"
   ]
  },
  {
   "cell_type": "markdown",
   "id": "2275808a",
   "metadata": {
    "lines_to_next_cell": 0
   },
   "source": [
    " [1-19] split()을 이용한 이름 3개 입력 받기"
   ]
  },
  {
   "cell_type": "code",
   "execution_count": null,
   "id": "282a365f",
   "metadata": {},
   "outputs": [],
   "source": [
    "a, b, c = input().split()\n",
    "print( a, b, c )"
   ]
  },
  {
   "cell_type": "markdown",
   "id": "3328c488",
   "metadata": {
    "lines_to_next_cell": 0
   },
   "source": [
    " [1-20] ,로 분리된 2개의 정수를 한 줄에 입력 받기"
   ]
  },
  {
   "cell_type": "code",
   "execution_count": null,
   "id": "103e416c",
   "metadata": {},
   "outputs": [],
   "source": [
    "a, b = input().split( sep = ',')\n",
    "a, b = int(a), int(b)\n",
    "print( a + b )"
   ]
  },
  {
   "cell_type": "markdown",
   "id": "6d164d10",
   "metadata": {
    "lines_to_next_cell": 0
   },
   "source": [
    " [1-21] 정수 3개를 받아서 합계를 인쇄하는 코드를 설계"
   ]
  },
  {
   "cell_type": "code",
   "execution_count": null,
   "id": "9605e218",
   "metadata": {},
   "outputs": [],
   "source": [
    "# 코드 작성\n",
    "\n",
    "print( s )"
   ]
  },
  {
   "cell_type": "markdown",
   "id": "80b6698d",
   "metadata": {
    "lines_to_next_cell": 0
   },
   "source": [
    " [1-22] format 메서드를 이용한 인쇄"
   ]
  },
  {
   "cell_type": "code",
   "execution_count": 3,
   "id": "a2cfb588",
   "metadata": {},
   "outputs": [
    {
     "name": "stdout",
     "output_type": "stream",
     "text": [
      "10, 20\n",
      "2 + 2 = 4\n",
      "a = 10, b = 20\n"
     ]
    }
   ],
   "source": [
    "s1 = '{}, {}'.format(10, 20)\n",
    "s2 = '{0} + {0} = {2}'.format(2, 3, 2 + 2)\n",
    "s3 = 'a = {a}, b = {b}'.format(a = 10, b = 20)\n",
    "\n",
    "print(s1, s2, s3, sep = '\\n')"
   ]
  },
  {
   "cell_type": "markdown",
   "id": "1322e2ae",
   "metadata": {},
   "source": [
    "**object**\n",
    "* 현상이나 대상을 프로그램에서 처리하기 위하여 표현(모델링)한 것\n",
    "* 파이썬에서는 **객체(object)** 라는 단위로 메모리 위의 정보를 관리함\n",
    "* object는 class와 instance로 구분된다"
   ]
  },
  {
   "cell_type": "markdown",
   "id": "551eaeb3",
   "metadata": {},
   "source": [
    "**class**\n",
    "* object를 정의하는 특징을 요약하는 템플릿\n",
    "* 정적인 **attribute**(상수, 변수 개념) + 동적인 **method**(함수 개념)으로 구성됨"
   ]
  },
  {
   "cell_type": "markdown",
   "id": "ce710f65",
   "metadata": {},
   "source": [
    "**instance**\n",
    "* class에 의해 만들어진 실체"
   ]
  },
  {
   "cell_type": "markdown",
   "id": "d1064597",
   "metadata": {},
   "source": [
    "**예시) x = int(10)**\n",
    "* int class(파이썬에 내장된 class)를 이용하여 10을 int instance로 생성\n",
    "* 그리고 10이라는 int instance를 x라는 객체에 바인딩"
   ]
  },
  {
   "cell_type": "markdown",
   "id": "73822d35",
   "metadata": {
    "lines_to_next_cell": 0
   },
   "source": [
    "[2-1] Object, Class, Instance"
   ]
  },
  {
   "cell_type": "code",
   "execution_count": 4,
   "id": "7e0d5721",
   "metadata": {
    "scrolled": false
   },
   "outputs": [
    {
     "name": "stdout",
     "output_type": "stream",
     "text": [
      "<class 'int'> <class 'type'>\n",
      "10 <class 'int'>\n",
      "20 <class 'int'>\n",
      "10 <class 'int'>\n"
     ]
    }
   ],
   "source": [
    "print(int, type(int)) # int: 파이썬에 내장된 클래스\n",
    "\n",
    "x = int(10)        # x라는 객체에 정수10을 바인딩\n",
    "print(x, type(x))  # x의 type : int\n",
    "\n",
    "y = int('20')      # y라는 객체에 20 int instance 바인딩\n",
    "print(y, type(y))\n",
    "\n",
    "print(10, type(10))"
   ]
  },
  {
   "cell_type": "markdown",
   "id": "7260656c",
   "metadata": {
    "lines_to_next_cell": 0
   },
   "source": [
    " [2-2] Object의 요소와 관련된 built-in 함수"
   ]
  },
  {
   "cell_type": "markdown",
   "id": "bff0a4fc",
   "metadata": {},
   "source": [
    "* dir(obj): obj가 사용할 수 있는 주요 attribute과 method 등의 정보 반한\n",
    "* type(obj): obj의 type 반환\n",
    "* id(obj): obj의 identity 반환 (obj가 저장된 메모리 주소)\n",
    "* isinstance(obj, class): type(obj)과 class가 일치하면 true, 다르면 false\n",
    "* is, is not: 두 obj의 id가 같은지 비교하여 T,F 반환"
   ]
  },
  {
   "cell_type": "code",
   "execution_count": 8,
   "id": "85de416d",
   "metadata": {},
   "outputs": [
    {
     "name": "stdout",
     "output_type": "stream",
     "text": [
      "140707471578672 2130853364016\n",
      "True\n",
      "False\n",
      "True\n",
      "True False\n"
     ]
    },
    {
     "name": "stderr",
     "output_type": "stream",
     "text": [
      "<>:7: SyntaxWarning: \"is\" with a literal. Did you mean \"==\"?\n",
      "<>:7: SyntaxWarning: \"is not\" with a literal. Did you mean \"!=\"?\n",
      "<>:7: SyntaxWarning: \"is\" with a literal. Did you mean \"==\"?\n",
      "<>:7: SyntaxWarning: \"is not\" with a literal. Did you mean \"!=\"?\n",
      "C:\\Users\\chees\\AppData\\Local\\Temp\\ipykernel_21552\\567737916.py:7: SyntaxWarning: \"is\" with a literal. Did you mean \"==\"?\n",
      "  print(a is 3, a is not 3)    # a에 3 바인딩 되었으므로 id 같음\n",
      "C:\\Users\\chees\\AppData\\Local\\Temp\\ipykernel_21552\\567737916.py:7: SyntaxWarning: \"is not\" with a literal. Did you mean \"!=\"?\n",
      "  print(a is 3, a is not 3)    # a에 3 바인딩 되었으므로 id 같음\n"
     ]
    }
   ],
   "source": [
    "# print(dir(int), dir(3), sep = '\\n')\n",
    "print(id(int), id(3))         # id : 각각의 객체들마다 고유한 값\n",
    "print(isinstance(3, int))     # type(3) = int인지 확인 -> True 반환\n",
    "print(isinstance(int, int))   # type(int) = int -> int의 타입은 \"type\"\n",
    "print(isinstance(int, type))  # true\n",
    "a = 3\n",
    "print(a is 3, a is not 3)    # a에 3 바인딩 되었으므로 id 같음"
   ]
  },
  {
   "cell_type": "markdown",
   "id": "1dad5d13",
   "metadata": {
    "lines_to_next_cell": 0
   },
   "source": [
    " [2-3] Referencing"
   ]
  },
  {
   "cell_type": "markdown",
   "id": "f371ba12",
   "metadata": {},
   "source": [
    "* **Referencing** : class에 있는 method나 attribute를 참조(사용)하는 행위\n",
    "* class와 instance는 동일한 attribute와 method를 갖는다"
   ]
  },
  {
   "cell_type": "code",
   "execution_count": 12,
   "id": "d09991f0",
   "metadata": {},
   "outputs": [
    {
     "name": "stdout",
     "output_type": "stream",
     "text": [
      "7\n",
      "7\n",
      "7\n",
      "HELLO\n",
      "HELLO\n",
      "HELLO\n"
     ]
    }
   ],
   "source": [
    "print(int.__add__(3,4))  # int class(int)의 add 메서드(함수)를 활용하여 3+4 계산\n",
    "x = int(3)\n",
    "print(x.__add__(4))      # int instance(3)의 add 메서드를 활용하여 3+4 계산\n",
    "print((3).__add__(4))    # 상동\n",
    "\n",
    "print(str.upper(\"Hello\")) # str class의 upper메서드를 활용하여 HELLO로 변환\n",
    "x = str(\"Hello\")\n",
    "print(x.upper())          # x instance의 upper메서드 활용하여 HELLO로 변환\n",
    "print(\"Hello\".upper())"
   ]
  },
  {
   "cell_type": "markdown",
   "id": "cf3b3423",
   "metadata": {
    "lines_to_next_cell": 0
   },
   "source": [
    " [2-4] 연산자 및 Built-in 함수 Overloading"
   ]
  },
  {
   "cell_type": "code",
   "execution_count": 26,
   "id": "ad2469ac",
   "metadata": {},
   "outputs": [
    {
     "name": "stdout",
     "output_type": "stream",
     "text": [
      "3\n",
      "xy\n",
      "0.8999999999999999\n",
      "10\n",
      "3.8\n",
      "1200\n",
      "10.4\n",
      "3\n",
      "xy\n",
      "0.8999999999999999\n",
      "10\n",
      "3.8\n",
      "1200\n",
      "10.4\n"
     ]
    }
   ],
   "source": [
    "a = 1 + 2\n",
    "b = 'x' + 'y'\n",
    "c = 3.4 - 2.5\n",
    "\n",
    "d = abs(-10)\n",
    "e = abs(-3.8)\n",
    "f = round(1234, -2)\n",
    "g = round(10.434, 1)\n",
    "\n",
    "print(a,b,c,d,e,f,g, sep='\\n')\n",
    "\n",
    "a = int.__add__(1, 2)\n",
    "b = str.__add__('x', 'y')\n",
    "c = float.__sub__(3.4, 2.5)\n",
    "\n",
    "d = int.__abs__(-10)\n",
    "e = float.__abs__(-3.8)\n",
    "f = int.__round__(1234, -2)\n",
    "g = float.__round__(10.434, 1)\n",
    "\n",
    "print(a,b,c,d,e,f,g, sep='\\n')"
   ]
  },
  {
   "cell_type": "markdown",
   "id": "2b2d424c",
   "metadata": {},
   "source": [
    "**Iterable**\n",
    "* iterable은 자료를 집합으로 관리하는 객체\n",
    "* Iterable 내에 'container', 'range', 'iterator'가 있음\n",
    "* 문자열,튜플,리스트는 순서가 있는 sequence로, 인덱싱을 통한 **순서 변경 가능**\n",
    "* sequence가 아닌 container는 **순서 변경 불가**"
   ]
  },
  {
   "cell_type": "markdown",
   "id": "b61f0130",
   "metadata": {},
   "source": [
    "* iterator : 순서대로 다음 값을 리턴할 수 있는 객체"
   ]
  },
  {
   "attachments": {
    "image-2.png": {
     "image/png": "[encoded data removed]"
    }
   },
   "cell_type": "markdown",
   "id": "b37bf477",
   "metadata": {},
   "source": [
    "![image-2.png](attachment:image-2.png)"
   ]
  },
  {
   "cell_type": "markdown",
   "id": "52e22e24",
   "metadata": {
    "lines_to_next_cell": 0
   },
   "source": [
    " [3-1] Container의 생성"
   ]
  },
  {
   "cell_type": "markdown",
   "id": "7922d6f9",
   "metadata": {},
   "source": [
    "* ( ) : 튜플\n",
    "* [  ] : 리스트\n",
    "* { } : 집합\n",
    "* {key,value} : 사전"
   ]
  },
  {
   "cell_type": "code",
   "execution_count": 1,
   "id": "0391a4be",
   "metadata": {},
   "outputs": [
    {
     "name": "stdout",
     "output_type": "stream",
     "text": [
      "<class 'tuple'> (10, 20, 30, 20) 4 30 80\n",
      "<class 'list'> [10, 20, 30, 20] 4 10 80\n",
      "<class 'set'> {10, 20, 30} 3 10 60\n",
      "<class 'dict'> {1: 2, 'a': 10, 'Hello': 'Kim'} 3\n",
      "() [] set() {}\n",
      "(10,) [1] {2} {1: 2}\n"
     ]
    }
   ],
   "source": [
    "t = (10, 20, 30, 20)\n",
    "l = [10, 20, 30, 20]\n",
    "s = {10, 20, 30, 20}\n",
    "d = {1:2, 'a':10, 'Hello':'Kim'}\n",
    "\n",
    "print(type(t), t, len(t), max(t), sum(t))\n",
    "print(type(l), l, len(l), min(l), sum(t))\n",
    "print(type(s), s, len(s), min(s), sum(s))\n",
    "print(type(d), d, len(d))\n",
    "\n",
    "t, l, s, d = (), [], set(), {}\n",
    "print(t, l, s, d)\n",
    "\n",
    "t, l, s, d = (10,), [1], {2}, {1:2}\n",
    "print(t, l, s, d)"
   ]
  },
  {
   "cell_type": "markdown",
   "id": "61035c96",
   "metadata": {
    "lines_to_next_cell": 0
   },
   "source": [
    " [3-2] Container의 Item 접근"
   ]
  },
  {
   "cell_type": "code",
   "execution_count": 2,
   "id": "aa096208",
   "metadata": {},
   "outputs": [
    {
     "name": "stdout",
     "output_type": "stream",
     "text": [
      "H e o l\n",
      "1 3.14 name 3.14\n",
      "1 3.14 name 3.14\n",
      "1 3.14 name\n",
      "{1, 3.14, 'name'}\n"
     ]
    }
   ],
   "source": [
    "c = 'Hello'\n",
    "t = (1, 3.14, 'name')\n",
    "l = [1, 3.14, 'name']\n",
    "k = {'id':1, 2:3.14, 'tag':'name'}\n",
    "s = {1, 3.14, 'name', 1, 3.14}\n",
    "\n",
    "print(c[0], c[1], c[-1], c[-2])\n",
    "print(t[0], t[1], t[-1], t[-2])\n",
    "print(l[0], l[1], l[-1], l[-2])\n",
    "print(k['id'], k[2], k['tag'])\n",
    "print(s)"
   ]
  },
  {
   "cell_type": "markdown",
   "id": "0109df75",
   "metadata": {
    "lines_to_next_cell": 0
   },
   "source": [
    " [3-3] Mutable Container의 Item 수정"
   ]
  },
  {
   "cell_type": "code",
   "execution_count": 27,
   "id": "263bf626",
   "metadata": {},
   "outputs": [
    {
     "name": "stdout",
     "output_type": "stream",
     "text": [
      "Hello\n",
      "(1, 3.14, 'name')\n",
      "[1, 3.14, 'name']\n",
      "{'id': 1, 1: 3.14, 'tag': 'name'}\n"
     ]
    },
    {
     "ename": "TypeError",
     "evalue": "'str' object does not support item assignment",
     "output_type": "error",
     "traceback": [
      "\u001b[1;31m---------------------------------------------------------------------------\u001b[0m",
      "\u001b[1;31mTypeError\u001b[0m                                 Traceback (most recent call last)",
      "Cell \u001b[1;32mIn[27], line 8\u001b[0m\n\u001b[0;32m      4\u001b[0m k \u001b[38;5;241m=\u001b[39m {\u001b[38;5;124m'\u001b[39m\u001b[38;5;124mid\u001b[39m\u001b[38;5;124m'\u001b[39m:\u001b[38;5;241m1\u001b[39m, \u001b[38;5;241m1\u001b[39m:\u001b[38;5;241m3.14\u001b[39m, \u001b[38;5;124m'\u001b[39m\u001b[38;5;124mtag\u001b[39m\u001b[38;5;124m'\u001b[39m:\u001b[38;5;124m'\u001b[39m\u001b[38;5;124mname\u001b[39m\u001b[38;5;124m'\u001b[39m}\n\u001b[0;32m      6\u001b[0m \u001b[38;5;28mprint\u001b[39m(c, t, l, k, sep \u001b[38;5;241m=\u001b[39m \u001b[38;5;124m'\u001b[39m\u001b[38;5;130;01m\\n\u001b[39;00m\u001b[38;5;124m'\u001b[39m)\n\u001b[1;32m----> 8\u001b[0m \u001b[43mc\u001b[49m\u001b[43m[\u001b[49m\u001b[38;5;241;43m0\u001b[39;49m\u001b[43m]\u001b[49m \u001b[38;5;241m=\u001b[39m \u001b[38;5;124m'\u001b[39m\u001b[38;5;124mK\u001b[39m\u001b[38;5;124m'\u001b[39m\n\u001b[0;32m      9\u001b[0m t[\u001b[38;5;241m1\u001b[39m] \u001b[38;5;241m=\u001b[39m \u001b[38;5;241m5.125\u001b[39m\n\u001b[0;32m     10\u001b[0m l[\u001b[38;5;241m2\u001b[39m] \u001b[38;5;241m=\u001b[39m \u001b[38;5;124m'\u001b[39m\u001b[38;5;124mscore\u001b[39m\u001b[38;5;124m'\u001b[39m\n",
      "\u001b[1;31mTypeError\u001b[0m: 'str' object does not support item assignment"
     ]
    }
   ],
   "source": [
    "c = 'Hello'\n",
    "t = (1, 3.14, 'name')\n",
    "l = [1, 3.14, 'name']\n",
    "k = {'id':1, 1:3.14, 'tag':'name'}\n",
    "\n",
    "print(c, t, l, k, sep = '\\n')\n",
    "\n",
    "c[0] = 'K'       # str은 immutable. 수정 안됨\n",
    "t[1] = 5.125\n",
    "l[2] = 'score'\n",
    "k['id'] = 100\n",
    "\n",
    "print(c, t, l, k, sep = '\\n')"
   ]
  },
  {
   "cell_type": "markdown",
   "id": "de7d9795",
   "metadata": {
    "lines_to_next_cell": 0
   },
   "source": [
    " [3-4] Mutable Container의 Item 추가"
   ]
  },
  {
   "cell_type": "code",
   "execution_count": 29,
   "id": "45403a79",
   "metadata": {},
   "outputs": [
    {
     "name": "stdout",
     "output_type": "stream",
     "text": [
      "[1, 3.14, 'name']\n",
      "{'id': 1, 'rate': 3.14, 'tag': 'name'}\n",
      "{1, 2, 3, 5}\n",
      "\n",
      "\n",
      "[1, 'lew', 3.14, 'name', 'song']\n",
      "{'id': 1, 'rate': 3.14, 'tag': 'name', 'num': 200}\n",
      "{1, 2, 3, 5, 10}\n"
     ]
    }
   ],
   "source": [
    "l = [1, 3.14, 'name']\n",
    "k = {'id':1, 'rate':3.14, 'tag':'name'}\n",
    "s = {1, 3, 5, 2}\n",
    "\n",
    "print(l, k, s, sep = '\\n')\n",
    "print('\\n')\n",
    "\n",
    "l.append(\"song\")  # list 맨 끝에 item 추가\n",
    "l.insert(1,\"lew\") # list 지정한 위치에 item 추가\n",
    "k['num'] = 200    # k dict에 {num:200} 추가\n",
    "s.add(10)         # s 집합에 10 추가\n",
    "\n",
    "print(l, k, s, sep = '\\n')"
   ]
  },
  {
   "cell_type": "markdown",
   "id": "7bf52b9c",
   "metadata": {
    "lines_to_next_cell": 0
   },
   "source": [
    " [3-5] 새치기1"
   ]
  },
  {
   "cell_type": "code",
   "execution_count": null,
   "id": "f76da26e",
   "metadata": {},
   "outputs": [],
   "source": [
    "l = ['kim', 'lee', 'moon', 'lew', 'kang', 'song']\n",
    "\n",
    "# 코드 작성\n",
    "\n",
    "print(l)"
   ]
  },
  {
   "cell_type": "markdown",
   "id": "0d6ae2fd",
   "metadata": {
    "lines_to_next_cell": 0
   },
   "source": [
    " [3-6] 다중 컨테이너 생성과 아이템 접근"
   ]
  },
  {
   "cell_type": "code",
   "execution_count": 32,
   "id": "42dd6aba",
   "metadata": {},
   "outputs": [
    {
     "name": "stdout",
     "output_type": "stream",
     "text": [
      "((1, 3.14, 'name'), (10,), ('kim', 30, 5.12))\n",
      "([1, 3.14, 'name'], 'Yoon', {'a': 1, 'b': 3.14})\n",
      "1 5.12\n",
      "e 3.14\n"
     ]
    }
   ],
   "source": [
    "t1 = ((1, 3.14, 'name'), (10,),  ('kim', 30, 5.12))\n",
    "t2 = ([1, 3.14, 'name'], 'Yoon', {'a':1, 'b':3.14})\n",
    "l1 = [[1, 3.14, 'name'], [10],   ['kim', 30, 5.12]]\n",
    "l2 = [(1, 3.14, 'name'), 'Yoon', {'a':1, 'b':3.14}]\n",
    "\n",
    "print(t1, t2, sep = '\\n')\n",
    "print(t1[0][0],     t1[-1][-1])\n",
    "print(t2[0][2][3],  t2[2]['b'])"
   ]
  },
  {
   "cell_type": "markdown",
   "id": "4e769850",
   "metadata": {
    "lines_to_next_cell": 0
   },
   "source": [
    " [3-7] 튜플 pack, unpack"
   ]
  },
  {
   "cell_type": "markdown",
   "id": "99d39b78",
   "metadata": {},
   "source": [
    "* 패킹 : 말그대로 묶음. 튜플로 값을 묶는 것\n",
    "* 언패킹 : 튜플로 묶여있는 값을 풀어냄"
   ]
  },
  {
   "cell_type": "code",
   "execution_count": 4,
   "id": "0962e49b",
   "metadata": {},
   "outputs": [
    {
     "name": "stdout",
     "output_type": "stream",
     "text": [
      "<class 'tuple'> (1, 2, 3)\n",
      "<class 'tuple'> (1, 2, 3)\n",
      "<class 'tuple'> ('kim', 'lee', 'lew')\n",
      "1 2 3\n",
      "k i m\n"
     ]
    }
   ],
   "source": [
    "t1 = (1, 2, 3)  # tuple pack\n",
    "print( type(t1), t1 )\n",
    "\n",
    "t2 = 1, 2, 3\n",
    "print( type(t2), t2 )\n",
    "\n",
    "t3 = \"kim\", \"lee\", \"lew\"\n",
    "print( type(t3), t3 )\n",
    "\n",
    "t4 = 1, 2, 3\n",
    "a, b, c = t4\n",
    "print(a, b, c)\n",
    "\n",
    "a, b, c = \"kim\"  # tuple unpack\n",
    "print(a, b, c)"
   ]
  },
  {
   "cell_type": "markdown",
   "id": "62e37729",
   "metadata": {
    "lines_to_next_cell": 0
   },
   "source": [
    " [3-8] swap 구현"
   ]
  },
  {
   "cell_type": "markdown",
   "id": "4dec7945",
   "metadata": {},
   "source": [
    "**tuple unpacking**을 통해서 두 변수의 값을 **swap** 할 수 있음"
   ]
  },
  {
   "cell_type": "code",
   "execution_count": 8,
   "id": "0b366e71",
   "metadata": {},
   "outputs": [
    {
     "name": "stdout",
     "output_type": "stream",
     "text": [
      "10 20\n",
      "20 10\n"
     ]
    }
   ],
   "source": [
    "a = 10\n",
    "b = 20\n",
    "print(a, b)\n",
    "\n",
    "a, b = b, a   # tuple unpacking 방식으로 a와 b값 바꿈\n",
    "\n",
    "print(a, b)"
   ]
  },
  {
   "cell_type": "markdown",
   "id": "bd93b4ef",
   "metadata": {
    "lines_to_next_cell": 0
   },
   "source": [
    " [3-9] iterable 타입의 unpack"
   ]
  },
  {
   "cell_type": "code",
   "execution_count": 33,
   "id": "34fb0956",
   "metadata": {},
   "outputs": [
    {
     "name": "stdout",
     "output_type": "stream",
     "text": [
      "1 2 3 \n",
      "\n",
      "1 2 3 \n",
      "\n",
      "1 2 3 \n",
      "\n",
      "a b c \n",
      "\n",
      "s t r \n",
      "\n"
     ]
    }
   ],
   "source": [
    "t1, t2, t3 = (1,2,3)  # 튜플 언패킹\n",
    "l1, l2, l3 = [1,2,3]  # 리스트 언패킹\n",
    "s1, s2, s3 = {1,2,3}  # 집합 언패킹\n",
    "d1, d2, d3 = {'a':1, 'b':2, 'c':3}  # 딕셔너리 언패킹 (단, key만 언패킹)\n",
    "c1, c2, c3 = 'str'\n",
    "\n",
    "print(t1,t2,t3,'\\n')\n",
    "print(l1,l2,l3,'\\n')\n",
    "print(s1,s2,s3,'\\n')\n",
    "print(d1,d2,d3,'\\n')\n",
    "print(c1,c2,c3,'\\n')"
   ]
  },
  {
   "cell_type": "markdown",
   "id": "29647b2f",
   "metadata": {
    "lines_to_next_cell": 0
   },
   "source": [
    " [3-10] dict view 메서드"
   ]
  },
  {
   "cell_type": "code",
   "execution_count": 11,
   "id": "2f1e9a88",
   "metadata": {},
   "outputs": [
    {
     "name": "stdout",
     "output_type": "stream",
     "text": [
      "<class 'dict_keys'> dict_keys(['a', 'b']) a b\n",
      "<class 'dict_values'> dict_values([1, 2]) 1 2\n",
      "<class 'dict_items'> dict_items([('a', 1), ('b', 2)]) ('a', 1) ('b', 2)\n",
      "a b 1 2 ('a', 1) ('b', 2)\n"
     ]
    }
   ],
   "source": [
    "d = {'a':1, 'b':2}\n",
    "\n",
    "k = d.keys()   # dict의 key 반환\n",
    "v = d.values() # dict의 value 반환\n",
    "i = d.items()  # dict의 (key:value) 형식의 item 반환\n",
    "\n",
    "print(type(k), k, *k)\n",
    "print(type(v), v, *v)\n",
    "print(type(i), i, *i)\n",
    "\n",
    "a1, a2 = d.keys()\n",
    "b1, b2 = d.values()\n",
    "c1, c2 = d.items()\n",
    "\n",
    "print(a1, a2, b1, b2, c1, c2)"
   ]
  },
  {
   "cell_type": "markdown",
   "id": "70028026",
   "metadata": {
    "lines_to_next_cell": 0
   },
   "source": [
    " [3-11] 부분 Unpack 옵션 : *"
   ]
  },
  {
   "cell_type": "code",
   "execution_count": 10,
   "id": "171e74d1",
   "metadata": {},
   "outputs": [
    {
     "name": "stdout",
     "output_type": "stream",
     "text": [
      "10 [20, 30, 40, 50]\n",
      "[10, 20, 30, 40] 50\n",
      "10 20 [30] 40 50\n",
      "10 20 30 [] 40 50\n"
     ]
    }
   ],
   "source": [
    "t = (10, 20, 30, 40, 50)\n",
    "a, *b = t\n",
    "print(a, b)     \n",
    "*a, b = t\n",
    "print(a, b)     \n",
    "a, b, *c, d, e = t\n",
    "print(a, b, c, d, e)  \n",
    "a, b, c, *d, e, f = t\n",
    "print(a, b, c, d, e, f)"
   ]
  },
  {
   "cell_type": "markdown",
   "id": "fe689816",
   "metadata": {
    "lines_to_next_cell": 0
   },
   "source": [
    " [3-12] 일등과 꼴찌만 기억하는 사회"
   ]
  },
  {
   "cell_type": "code",
   "execution_count": null,
   "id": "d0f9d420",
   "metadata": {},
   "outputs": [],
   "source": [
    "# 코드 작성\n",
    "\n",
    "print(first, last)  "
   ]
  },
  {
   "cell_type": "markdown",
   "id": "f083c9ad",
   "metadata": {
    "lines_to_next_cell": 0
   },
   "source": [
    " [3-13] 컨테이너 변환 함수 이해"
   ]
  },
  {
   "cell_type": "code",
   "execution_count": 34,
   "id": "148aa410",
   "metadata": {},
   "outputs": [
    {
     "name": "stdout",
     "output_type": "stream",
     "text": [
      "3.14\n",
      "(1, 2, 3, 4)\n",
      "((1, 2, 3), (4, 8), (1, 2, 3), (6,))\n",
      "[1, 2, 3, 4, 4, 4, 5]\n",
      "[[1, 2, 3], [4, 8], [6], [4, 8]]\n",
      "\n",
      "(1, 2, 3, 4, 4, 4, 5)\n",
      "([1, 2, 3], [4, 8], [6], [4, 8])\n",
      "[1, 2, 3, 4, 4, 4, 5]\n",
      "[[1, 2, 3], [4, 8], [6], [4, 8]]\n"
     ]
    }
   ],
   "source": [
    "t1 = (1,2,3,4)\n",
    "t2 = ((1,2,3),(4,8),(1,2,3),(6,))\n",
    "l1 = [1,2,3,4,4,4,5]\n",
    "l2 = [[1,2,3],[4,8],[6],[4,8]]\n",
    "\n",
    "a, b, c = str(3.14), str(t1), str(t2)\n",
    "d, e    = str(l1),   str(l2)\n",
    "print(a, b, c, d, e, sep='\\n')\n",
    "print()\n",
    "\n",
    "t3, t4 = tuple(l1), tuple(l2)\n",
    "l3, l4 = list(l1),  list(l2)\n",
    "print(t3, t4, l3, l4, sep='\\n')"
   ]
  },
  {
   "cell_type": "markdown",
   "id": "f03221c4",
   "metadata": {
    "lines_to_next_cell": 0
   },
   "source": [
    " [3-14] 새치기2"
   ]
  },
  {
   "cell_type": "code",
   "execution_count": null,
   "id": "76c20145",
   "metadata": {},
   "outputs": [],
   "source": [
    "t = ('kim', 'lee', 'moon', 'lew', 'kang', 'song')\n",
    "\n",
    "# 코드 작성\n",
    "\n",
    "print(t)"
   ]
  },
  {
   "cell_type": "markdown",
   "id": "d1544601",
   "metadata": {
    "lines_to_next_cell": 0
   },
   "source": [
    " [3-15] dict 변환 함수 이해"
   ]
  },
  {
   "cell_type": "code",
   "execution_count": 35,
   "id": "4930cb68",
   "metadata": {},
   "outputs": [
    {
     "name": "stdout",
     "output_type": "stream",
     "text": [
      "{'a': 1, 'b': 2, 'c': 3}\n",
      "{'a': 10, 1: 5, 3.14: 'A'}\n",
      "{'a': 10, 'c': 40}\n",
      "{'a': 5, 'c': 40}\n",
      "{(1, 2): 'abc', (3, 4, 5): 10}\n",
      "{'a': 10, 'b': 3.5, 'xy': 'kim'}\n"
     ]
    }
   ],
   "source": [
    "l1 = [['a',1],['b',2],['c',3]]\n",
    "t1 = (('a',10),(1,5),(3.14,'A'))\n",
    "\n",
    "x = dict(l1), dict(t1)\n",
    "print(*x, sep='\\n')\n",
    "\n",
    "l2 = [['a',10],('c',20),['c',40]]   # list안의 list만 -> dict반환가능\n",
    "t2 = (['a',10],('a',5),('c',40))    # tuple안의 tuple만 -> dict반환 가능\n",
    "\n",
    "x = dict(l2), dict(t2)\n",
    "print(*x, sep='\\n')\n",
    "\n",
    "t3 = (((1,2), 'abc'), ((3,4,5), 10))\n",
    "print(dict(t3))\n",
    "\n",
    "d = dict(a = 10, b = 3.5, xy = 'kim')\n",
    "print(d)"
   ]
  },
  {
   "cell_type": "markdown",
   "id": "f92cefad",
   "metadata": {
    "lines_to_next_cell": 0
   },
   "source": [
    " [3-16] Lookup Table 활용"
   ]
  },
  {
   "cell_type": "code",
   "execution_count": 36,
   "id": "1668a1c1",
   "metadata": {},
   "outputs": [
    {
     "name": "stdout",
     "output_type": "stream",
     "text": [
      "HIGH\n",
      "HIGH\n"
     ]
    }
   ],
   "source": [
    "n = 10\n",
    "t = ('LOW', 'HIGH')\n",
    "print(t[n >= 10])   # n>=10 -> True -> 1 -> t[1]인 HIGH 반환\n",
    "\n",
    "d = {False : 'LOW', True : 'HIGH'}\n",
    "print(d[n >= 10])"
   ]
  },
  {
   "cell_type": "markdown",
   "id": "82bc577e",
   "metadata": {
    "lines_to_next_cell": 0
   },
   "source": [
    " [3-17] 과일 코드 출력"
   ]
  },
  {
   "cell_type": "code",
   "execution_count": null,
   "id": "5e3cad18",
   "metadata": {},
   "outputs": [],
   "source": [
    "s = input()\n",
    "\n",
    "# 코드 작성"
   ]
  },
  {
   "cell_type": "markdown",
   "id": "a0ff987b",
   "metadata": {
    "lines_to_next_cell": 0
   },
   "source": [
    " [3-18] range 함수"
   ]
  },
  {
   "cell_type": "markdown",
   "id": "5a4025d2",
   "metadata": {},
   "source": [
    "* built-in 함수 range -> iterable(immutable sequence) 생성\n",
    "* 규칙적인 연속된 값 생성시 tuple,list보다 **메모리** 절감 측면에서 유리하다\n",
    "* range는 생성 규칙이므로 자체를 인쇄하면 item들이 아닌 range 자체가 인쇄됨"
   ]
  },
  {
   "cell_type": "code",
   "execution_count": 37,
   "id": "421ea9ab",
   "metadata": {},
   "outputs": [
    {
     "name": "stdout",
     "output_type": "stream",
     "text": [
      "range(0, 5)\n",
      "48\n",
      "48\n"
     ]
    }
   ],
   "source": [
    "import sys\n",
    "\n",
    "print(range(5))\n",
    "print(sys.getsizeof(range(100)))\n",
    "print(sys.getsizeof(range(100000000))) # range(100)과 메모리사이즈 같음"
   ]
  },
  {
   "cell_type": "markdown",
   "id": "71df1295",
   "metadata": {
    "lines_to_next_cell": 0
   },
   "source": [
    " [3-19] range 함수의 속성"
   ]
  },
  {
   "cell_type": "markdown",
   "id": "4beccc15",
   "metadata": {},
   "source": [
    "* 다른 container들과 마찬가지로 인덱싱 활용 가능\n",
    "* step이 양수 : start부터 stop까지 step이 증가하면서 stop과 같거나 커지면 종료함\n",
    "* step이 음수 : start부터 stop까지 step이 감소하면서 stop과 같거나 작아지면 종료함"
   ]
  },
  {
   "cell_type": "code",
   "execution_count": 38,
   "id": "0e521b63",
   "metadata": {},
   "outputs": [
    {
     "name": "stdout",
     "output_type": "stream",
     "text": [
      "2 0 1\n",
      "1 [2, 3] 4\n",
      "range(1, 5)\n",
      "1 2 3 4\n",
      "0 1 2 3 4\n",
      "2 3 4\n",
      "0 2 4\n",
      "4 3 2 1 0\n"
     ]
    }
   ],
   "source": [
    "a = range(1,5)\n",
    "b, c = range(2)\n",
    "d, *e, f = a\n",
    "\n",
    "print(a[1], b, c)\n",
    "print(d, e, f)\n",
    "print(a)\n",
    "print(*a)\n",
    "\n",
    "print(*range(5))\n",
    "print(*range(2,5))\n",
    "print(*range(0,6,2))\n",
    "print(*range(4,-1,-1))"
   ]
  },
  {
   "cell_type": "markdown",
   "id": "6e776243",
   "metadata": {
    "lines_to_next_cell": 0
   },
   "source": [
    " [4-1] 컨테이너의 slot 구조 이해"
   ]
  },
  {
   "cell_type": "markdown",
   "id": "8418ca8b",
   "metadata": {},
   "source": [
    "* container는 객체를 저장X. 객체의 id를 저장.\n",
    "* 그 객체의 id가 저장된 하나하나가 slot"
   ]
  },
  {
   "cell_type": "markdown",
   "id": "d4438388",
   "metadata": {},
   "source": [
    "* map(function, iterable) : iterable 객체에 function 적용하는 함수\n",
    "* map 함수의 반환값을 map 객체이므로, 반드시 list나 tuple 형으로 변환해주어야 함"
   ]
  },
  {
   "cell_type": "code",
   "execution_count": 24,
   "id": "bbeeccde",
   "metadata": {},
   "outputs": [
    {
     "name": "stdout",
     "output_type": "stream",
     "text": [
      "1800608754944\n",
      "1800499757296\n",
      "1800499757328\n",
      "1800499757360\n",
      "1800499757296\n"
     ]
    }
   ],
   "source": [
    "l = [1,2,3,1]\n",
    "\n",
    "# print(id(1), id(2), id(3), '', sep = '\\n')\n",
    "print(*map(id, (l, l[0], l[1], l[2], l[3])), sep = '\\n') # tuple형 변환 -> unpacking"
   ]
  },
  {
   "cell_type": "markdown",
   "id": "c1a322a6",
   "metadata": {
    "lines_to_next_cell": 0
   },
   "source": [
    " [4-2] str 컨테이너의 구조"
   ]
  },
  {
   "cell_type": "markdown",
   "id": "3f7ee97b",
   "metadata": {},
   "source": [
    "* str도 container의 일종이므로, str내 각 원소에 map 함수 적용 가능"
   ]
  },
  {
   "cell_type": "code",
   "execution_count": 25,
   "id": "67ff55b6",
   "metadata": {},
   "outputs": [
    {
     "name": "stdout",
     "output_type": "stream",
     "text": [
      "1800501530352\n",
      "1800501156464\n",
      "1800504821040\n",
      "\n",
      "1800609151280\n",
      "1800501530352\n",
      "1800501156464\n",
      "1800504821040\n",
      "1800501530352\n"
     ]
    }
   ],
   "source": [
    "s = 'AB0A'\n",
    "\n",
    "print(*map(id, 'AB0'), '', sep = '\\n')\n",
    "print(*map(id, (s, *s)), sep = '\\n')"
   ]
  },
  {
   "cell_type": "markdown",
   "id": "0dff2b03",
   "metadata": {
    "lines_to_next_cell": 0
   },
   "source": [
    " [4-3] 다중 컨테이너의 구조 이해"
   ]
  },
  {
   "cell_type": "code",
   "execution_count": null,
   "id": "cd6d3409",
   "metadata": {},
   "outputs": [],
   "source": [
    "l = [[1,2,3,1],{1,2},1]\n",
    "print(*map(id, (l, *l)), sep = '\\n')\n",
    "print(*map(len, (l, l[0], l[1])))"
   ]
  },
  {
   "cell_type": "markdown",
   "id": "59493f23",
   "metadata": {
    "lines_to_next_cell": 0
   },
   "source": [
    " [4-4] Mutable 컨테이너의 아이템 변경"
   ]
  },
  {
   "cell_type": "code",
   "execution_count": null,
   "id": "fafaa483",
   "metadata": {},
   "outputs": [],
   "source": [
    "l = [(1,2,3,4),{5,6},[7,8,9]]\n",
    "\n",
    "print(len(l))\n",
    "print(*l)\n",
    "print(id(l[1]), id(l[2][1]))\n",
    "\n",
    "l[1] = 10\n",
    "l[2][1] = 20\n",
    "\n",
    "print(*l)\n",
    "print(id(l[1]), id(l[2][1]))"
   ]
  },
  {
   "cell_type": "markdown",
   "id": "22457366",
   "metadata": {
    "lines_to_next_cell": 0
   },
   "source": [
    " [4-5] Mutable 컨테이너의 아이템 추가"
   ]
  },
  {
   "cell_type": "code",
   "execution_count": null,
   "id": "c4ca6074",
   "metadata": {},
   "outputs": [],
   "source": [
    "l = [(1,2,3,4),{5,6},[7,8,9]]\n",
    "\n",
    "print(len(l))\n",
    "print(*l)\n",
    "\n",
    "l.insert(1,10)\n",
    "l[2].add(20)\n",
    "\n",
    "print(*l)"
   ]
  },
  {
   "cell_type": "markdown",
   "id": "36fe0ef9",
   "metadata": {
    "lines_to_next_cell": 0
   },
   "source": [
    " [4-6] Container의 Multiple Binding"
   ]
  },
  {
   "cell_type": "code",
   "execution_count": 26,
   "id": "6b8117d4",
   "metadata": {},
   "outputs": [
    {
     "name": "stdout",
     "output_type": "stream",
     "text": [
      "1800610331136\n",
      "1800610326016\n",
      "1800610331136\n",
      "True True False True\n",
      "10 1 10\n",
      "False True False True\n",
      "1800607529968\n",
      "1800609024176\n",
      "1800607529968\n",
      "1 1 1 False True\n"
     ]
    }
   ],
   "source": [
    "a = [1,2,3,4]\n",
    "b = [1,2,3,4]\n",
    "c = a\n",
    "print(*map(id, (a,b,c)), sep = '\\n')\n",
    "print(a == b, a == c, a is b, a is c)\n",
    "\n",
    "a[0] = 10\n",
    "print(a[0], b[0], c[0])    \n",
    "print(a == b, a == c, a is b, a is c)\n",
    "\n",
    "d = (1,2,3,4)\n",
    "e = (1,2,3,4)\n",
    "f = d\n",
    "print(*map(id, (d,e,f)), sep = '\\n')\n",
    "print(d[0], e[0], f[0], d is e, d is f)"
   ]
  },
  {
   "cell_type": "markdown",
   "id": "8dfb9029",
   "metadata": {
    "lines_to_next_cell": 0
   },
   "source": [
    " [4-7] 컨테이너의 +, * 연산"
   ]
  },
  {
   "cell_type": "code",
   "execution_count": null,
   "id": "9095c487",
   "metadata": {},
   "outputs": [],
   "source": [
    "s1 = (1,2)\n",
    "s2 = (3,4)\n",
    "\n",
    "print(s1 + s2, s1 * 3)\n",
    "print('ab' + 'cd', 3 * 'ab')"
   ]
  },
  {
   "cell_type": "markdown",
   "id": "71ba0a54",
   "metadata": {
    "lines_to_next_cell": 0
   },
   "source": [
    " [4-8] 다중 컨테이너의 +, * 연산"
   ]
  },
  {
   "cell_type": "code",
   "execution_count": null,
   "id": "0239b443",
   "metadata": {},
   "outputs": [],
   "source": [
    "s1 = [[1,2],[3,4]]\n",
    "s2 = [[5,6],[7,8]]\n",
    "\n",
    "s3 = s1 + s2\n",
    "s4 = s1 * 2\n",
    "\n",
    "s1[0][0] = 9\n",
    "\n",
    "print(s1, s2, s3, s4, sep = '\\n')\n",
    "print(*map(id,(*s1,*s2,*s3,*s4)), sep = '\\n')"
   ]
  },
  {
   "cell_type": "markdown",
   "id": "edbf45b3",
   "metadata": {
    "lines_to_next_cell": 0
   },
   "source": [
    " [4-9] 다중 컨테이너의 * 연산에 의한 다중 참조"
   ]
  },
  {
   "cell_type": "code",
   "execution_count": null,
   "id": "af61b64d",
   "metadata": {},
   "outputs": [],
   "source": [
    "a = [0] * 3\n",
    "b = [[0]] * 3\n",
    "c = [[0] * 3] * 3\n",
    "\n",
    "print(a,b,c, sep = '\\n')\n",
    "\n",
    "a[0] = 2\n",
    "b[0][0] = 3\n",
    "c[0][0] = 4\n",
    "\n",
    "print(a,b,c, sep = '\\n')"
   ]
  },
  {
   "cell_type": "markdown",
   "id": "b6548887",
   "metadata": {
    "lines_to_next_cell": 0
   },
   "source": [
    " [4-10] Slicing 동작의 이해"
   ]
  },
  {
   "cell_type": "code",
   "execution_count": null,
   "id": "32c0ee84",
   "metadata": {},
   "outputs": [],
   "source": [
    "a = [0, 1, 2, 3, 4, 5, 6]\n",
    "b = a[1:3]\n",
    "\n",
    "print(a[:], a[2:], a[:5], sep ='\\n')\n",
    "print(a[1:-2], a[::2], sep ='\\n')\n",
    "print(a[::-1], a[:3:-2], sep ='\\n')\n",
    "print(a[3::-1], a[-4:-1], sep ='\\n')      \n",
    "print(a[:-4:-1], b, b[1:4], sep ='\\n')"
   ]
  },
  {
   "cell_type": "markdown",
   "id": "a51a3548",
   "metadata": {
    "lines_to_next_cell": 0
   },
   "source": [
    " [6-11] 컨테이너의 아이템 부분 갱신"
   ]
  },
  {
   "cell_type": "code",
   "execution_count": null,
   "id": "36f38eb0",
   "metadata": {},
   "outputs": [],
   "source": [
    "l = [1,2]\n",
    "print(id(l), l, sep = '\\n')\n",
    "\n",
    "l.append((-1,'lee'))\n",
    "l += (5,'kim')\n",
    "l.extend([7,8])\n",
    "print(id(l), l, sep = '\\n')\n",
    "\n",
    "l[:] = [1,2,3,4]\n",
    "print(id(l), l, sep = '\\n')                \n",
    "\n",
    "l[1:3:] = [20,30,40]\n",
    "print(id(l), l, sep = '\\n')\n",
    "\n",
    "l[::2] = ('a','bc','def')\n",
    "print(id(l), l, sep = '\\n')\n",
    "\n",
    "del l[1:3]\n",
    "print(id(l), l, sep = '\\n')\n",
    "\n",
    "del l[:]\n",
    "print(id(l), l, sep = '\\n')\n",
    "\n",
    "l.append('lee')\n",
    "l.extend('kim')\n",
    "print(id(l), l, sep = '\\n')\n",
    "\n",
    "l.reverse()\n",
    "print(id(l), l, sep = '\\n')\n",
    "\n",
    "x = l.copy()\n",
    "y = l[::-1]\n",
    "print(x, y, sep = '\\n')\n",
    "\n",
    "l.clear()\n",
    "print(id(l), l, sep = '\\n')"
   ]
  },
  {
   "cell_type": "markdown",
   "id": "08b5cbc4",
   "metadata": {
    "lines_to_next_cell": 0
   },
   "source": [
    " [4-12] list의 copy 메서드와 copy 모듈"
   ]
  },
  {
   "cell_type": "code",
   "execution_count": null,
   "id": "244fe72b",
   "metadata": {},
   "outputs": [],
   "source": [
    "import copy\n",
    "\n",
    "l1 = [[1,2],[3,4]]\n",
    "l2 = l1.copy()\n",
    "l3 = copy.copy(l1)\n",
    "l4 = copy.deepcopy(l1)\n",
    "\n",
    "l1[0][0] = 10\n",
    "\n",
    "print(id(l1[0]),l1,sep='\\n')\n",
    "print(id(l2[0]),l2,sep='\\n')\n",
    "print(id(l3[0]),l3,sep='\\n')\n",
    "print(id(l4[0]),l4,sep='\\n')"
   ]
  },
  {
   "cell_type": "markdown",
   "id": "e1e70cb8",
   "metadata": {
    "lines_to_next_cell": 0
   },
   "source": [
    " [4-13] in, not in 연산"
   ]
  },
  {
   "cell_type": "code",
   "execution_count": null,
   "id": "b9e304cc",
   "metadata": {},
   "outputs": [],
   "source": [
    "t = ([1,2,3,1], {1,2}, (1,2,3))\n",
    "l = [[1,2,3,1], {1,2}, (1,2,3)]\n",
    "s = {1, 3, 5}\n",
    "d = {'a':1, 'b':2, 'c':3}\n",
    "r = range(1, 5)\n",
    "\n",
    "print({1,2} in t, (1,3) in l, 3 not in s, 'a' in d, 3 in r)\n",
    "print(('a',1) in d.items(), 2 in d.values(), 'c' in d.keys())"
   ]
  },
  {
   "cell_type": "markdown",
   "id": "8071a728",
   "metadata": {
    "lines_to_next_cell": 0
   },
   "source": [
    " [5-1] 주요 built-in 함수 이해 1"
   ]
  },
  {
   "cell_type": "code",
   "execution_count": null,
   "id": "aa5be5b9",
   "metadata": {},
   "outputs": [],
   "source": [
    "print(abs(-3), abs(-3.8))\n",
    "print(pow(20, 3), pow(4, 2, 3))\n",
    "\n",
    "a, b = divmod(10,3)\n",
    "print(a, b)\n",
    "print(divmod(10,3))\n",
    "\n",
    "print(max(1,  3.4,  5.7), min(1, -3.4, -5.7))\n",
    "print(max([10, 20, -2]),  min('kim', 'kang'))"
   ]
  },
  {
   "cell_type": "markdown",
   "id": "50c06a8c",
   "metadata": {
    "lines_to_next_cell": 0
   },
   "source": [
    " [5-2] 주요 built-in 함수 이해 2"
   ]
  },
  {
   "cell_type": "code",
   "execution_count": null,
   "id": "3a23872d",
   "metadata": {},
   "outputs": [],
   "source": [
    "print(round(3.37), round(3.73), round(-3.37), round(-3.73))\n",
    "print(round(3.5),  round(4.5),  round(-3.5),  round(-4.5))\n",
    "print(round(1236, -2), round(3.745, 1))"
   ]
  },
  {
   "cell_type": "markdown",
   "id": "1a4a72a7",
   "metadata": {
    "lines_to_next_cell": 0
   },
   "source": [
    " [5-3] eval, exec 함수 "
   ]
  },
  {
   "cell_type": "markdown",
   "id": "af7da81b",
   "metadata": {},
   "source": [
    "**eval**\n",
    "* 문자열로 표현되는 표현식(expression)을 실행해서 결과값을 받아오는 함수"
   ]
  },
  {
   "cell_type": "code",
   "execution_count": 27,
   "id": "56e9f1f7",
   "metadata": {
    "scrolled": true
   },
   "outputs": [
    {
     "name": "stdout",
     "output_type": "stream",
     "text": [
      "3\n",
      "good morning\n",
      "3\n",
      "-5\n"
     ]
    }
   ],
   "source": [
    "print(eval('1+2'))\n",
    "print(eval(\"'good ' + 'morning'\"))\n",
    "print(eval('max(1,2,3)'))\n",
    "\n",
    "s = '[10, 20, -5]'\n",
    "l = eval(s)\n",
    "print(min(l))"
   ]
  },
  {
   "cell_type": "code",
   "execution_count": 30,
   "id": "59ef7585",
   "metadata": {},
   "outputs": [
    {
     "name": "stdout",
     "output_type": "stream",
     "text": [
      "pd.DataFrame([['kim',90],['lee',50]])\n"
     ]
    },
    {
     "data": {
      "text/html": [
       "<div>\n",
       "<style scoped>\n",
       "    .dataframe tbody tr th:only-of-type {\n",
       "        vertical-align: middle;\n",
       "    }\n",
       "\n",
       "    .dataframe tbody tr th {\n",
       "        vertical-align: top;\n",
       "    }\n",
       "\n",
       "    .dataframe thead th {\n",
       "        text-align: right;\n",
       "    }\n",
       "</style>\n",
       "<table border=\"1\" class=\"dataframe\">\n",
       "  <thead>\n",
       "    <tr style=\"text-align: right;\">\n",
       "      <th></th>\n",
       "      <th>0</th>\n",
       "      <th>1</th>\n",
       "    </tr>\n",
       "  </thead>\n",
       "  <tbody>\n",
       "    <tr>\n",
       "      <th>0</th>\n",
       "      <td>kim</td>\n",
       "      <td>90</td>\n",
       "    </tr>\n",
       "    <tr>\n",
       "      <th>1</th>\n",
       "      <td>lee</td>\n",
       "      <td>50</td>\n",
       "    </tr>\n",
       "  </tbody>\n",
       "</table>\n",
       "</div>"
      ],
      "text/plain": [
       "     0   1\n",
       "0  kim  90\n",
       "1  lee  50"
      ]
     },
     "execution_count": 30,
     "metadata": {},
     "output_type": "execute_result"
    }
   ],
   "source": [
    "eval(input())   # pd.DataFrame(~) 식을 input하면 아래와 같은 데이터프레임 반환!"
   ]
  },
  {
   "cell_type": "markdown",
   "id": "44bebccb",
   "metadata": {
    "lines_to_next_cell": 0
   },
   "source": [
    " [5-4] 컨테이너 관련 built-in 함수 이해"
   ]
  },
  {
   "cell_type": "code",
   "execution_count": null,
   "id": "7bd1156c",
   "metadata": {},
   "outputs": [],
   "source": [
    "t1 = (1,4,2,3)\n",
    "t2 = ((1,2,3),(1,3),(0,))\n",
    "l1 = [1,4,2,3]\n",
    "l2 = ('kim','ko','han')\n",
    "\n",
    "print(len(t1),len(t2),len(t2[0]),len(l1),len(l2),len(l2[0]))\n",
    "print(min(t1),max(t2),max(t2[0]),min(l1),max(l2),max(l2[0]))\n",
    "\n",
    "print(sum(t1),sum(t1, 10),sum(t2[0]),sum(l1))\n",
    "print(sum(t2),sum(l2))\n",
    "\n",
    "s1 = sum(t2, ())\n",
    "print(s1)\n",
    "\n",
    "x1 = sorted(t1)\n",
    "print(type(x1), x1)\n",
    "print(sorted(t2, reverse = True), sorted(l2))"
   ]
  },
  {
   "cell_type": "markdown",
   "id": "05fa6afa",
   "metadata": {
    "lines_to_next_cell": 0
   },
   "source": [
    " [5-5] Sequence Type 메서드"
   ]
  },
  {
   "cell_type": "code",
   "execution_count": null,
   "id": "45bb9ae9",
   "metadata": {},
   "outputs": [],
   "source": [
    "t = (1,2,3,4,5,1,2,3)\n",
    "\n",
    "print(t.index(3))\n",
    "print(t.index(3,2))\n",
    "print(t.index(3,3))\n",
    "print(t.index(3,2,4))\n",
    "print(t.index(3,3,5))\n",
    "print(t.index(3,3,100))\n",
    "print(t.count(3))\n",
    "print(t.count(9))"
   ]
  },
  {
   "cell_type": "markdown",
   "id": "7df509aa",
   "metadata": {
    "lines_to_next_cell": 0
   },
   "source": [
    " [5-6] 과일 가격을 알려주세요"
   ]
  },
  {
   "cell_type": "code",
   "execution_count": null,
   "id": "c5ba483f",
   "metadata": {},
   "outputs": [],
   "source": [
    "f = ('apple', 'banana', 'mango', 'pineapple', 'orange')\n",
    "p = (1000, 800, 2000, 5200, 400)\n",
    "\n",
    "# 코드 작성"
   ]
  },
  {
   "cell_type": "markdown",
   "id": "29d9c1fa",
   "metadata": {
    "lines_to_next_cell": 0
   },
   "source": [
    " [5-7] dict를 이용한 과일 가격 알려주세요"
   ]
  },
  {
   "cell_type": "code",
   "execution_count": null,
   "id": "a93f54ef",
   "metadata": {},
   "outputs": [],
   "source": [
    "d = {'apple':1000, 'banana':800, 'mango':2000, 'pineapple':5200, 'orange':400}\n",
    "\n",
    "# 코드 작성"
   ]
  },
  {
   "cell_type": "markdown",
   "id": "3b4f9048",
   "metadata": {
    "lines_to_next_cell": 0
   },
   "source": [
    " [5-8] 실수 값들을 가까운 정수로 변환하여 인쇄"
   ]
  },
  {
   "cell_type": "code",
   "execution_count": null,
   "id": "adeedf42",
   "metadata": {},
   "outputs": [],
   "source": [
    "f = (3.14, -5.625, 100.4, 25.8)\n",
    "m = map(round, f)\n",
    "print(type(m), m, sep = '\\n')\n",
    "print(*m)"
   ]
  },
  {
   "cell_type": "markdown",
   "id": "f791f7d0",
   "metadata": {
    "lines_to_next_cell": 0
   },
   "source": [
    " [5-9] 인자 2개인 함수의 map 함수 사용"
   ]
  },
  {
   "cell_type": "code",
   "execution_count": null,
   "id": "7504ebc1",
   "metadata": {},
   "outputs": [],
   "source": [
    "v = (10, 4, 2, -10)\n",
    "e = (2,  3, 4,  2)\n",
    "\n",
    "# 코드 작성"
   ]
  },
  {
   "cell_type": "markdown",
   "id": "58bff6b8",
   "metadata": {
    "lines_to_next_cell": 0
   },
   "source": [
    " [5-10] zip 활용 RBG 이미지 묶기"
   ]
  },
  {
   "cell_type": "code",
   "execution_count": null,
   "id": "e3aac1cf",
   "metadata": {},
   "outputs": [],
   "source": [
    "r = (52, 255, 39, 132)\n",
    "g = (19, 63, 227, 197)\n",
    "b = (0, 68, 255, 187)\n",
    "\n",
    "# 코드 작성\n",
    "\n",
    "print(img)"
   ]
  },
  {
   "cell_type": "markdown",
   "id": "b95a5158",
   "metadata": {
    "lines_to_next_cell": 0
   },
   "source": [
    " [5-11] dict 형식으로 과일 tag 만들고 가격 출력하기"
   ]
  },
  {
   "cell_type": "code",
   "execution_count": null,
   "id": "2be0bdf8",
   "metadata": {},
   "outputs": [],
   "source": [
    "f = ('apple', 'orange', 'banana', 'mango')\n",
    "p = (100, 80, 120, 90)\n",
    "\n",
    "# 코드 작성\n",
    "\n",
    "print(tag)\n",
    "print(price)"
   ]
  },
  {
   "cell_type": "markdown",
   "id": "b9e74f31",
   "metadata": {
    "lines_to_next_cell": 0
   },
   "source": [
    " [5-12] enumerate 함수 분석"
   ]
  },
  {
   "cell_type": "markdown",
   "id": "1d58ac74",
   "metadata": {},
   "source": [
    "**zip**\n",
    "* iterable 객체를 인자로 받고, 각 객체가 담고 있는 원소를 튜플의 형태로 차례로 접근할 수 있는 iterator를 반환\n",
    "* iterator로 반환하므로, print하면 객체 자체 반환. 원소 접근을 위해선 unpack 필요"
   ]
  },
  {
   "cell_type": "markdown",
   "id": "ec92eb75",
   "metadata": {},
   "source": [
    "**enumerator**\n",
    "* zip과 유사하나, enumerator는 입력된 iterable 객체의 range와 튜플 형태로 묶어줌\n",
    "* 또는 초기값 지정 가능"
   ]
  },
  {
   "cell_type": "code",
   "execution_count": 34,
   "id": "af76bc88",
   "metadata": {},
   "outputs": [
    {
     "name": "stdout",
     "output_type": "stream",
     "text": [
      "(0, 'kim') (1, 'lee') (2, 'park')\n",
      "(0, 'kim') (1, 'lee') (2, 'park')\n",
      "(10, 'kim') (11, 'lee') (12, 'park')\n"
     ]
    }
   ],
   "source": [
    "t = ('kim', 'lee', 'park')\n",
    "x1 = zip(range(len(t)), t)  # (0,1,2)와 (kim,lee,park)을 각각 묶어서 튜플로 반환\n",
    "\n",
    "x2 = enumerate(t)      # t의 길이 = 3이므로 0,1,2와 묶어줌\n",
    "x3 = enumerate(t, 10)  # 10,11,12와 묶어줌\n",
    "\n",
    "print(*x1)\n",
    "print(*x2)\n",
    "print(*x3)"
   ]
  },
  {
   "cell_type": "code",
   "execution_count": 33,
   "id": "bdc045d5",
   "metadata": {},
   "outputs": [
    {
     "name": "stdout",
     "output_type": "stream",
     "text": [
      "<zip object at 0x000001A33D6D25C0>\n"
     ]
    }
   ],
   "source": [
    "print(x1)\n",
    "print(x2)\n",
    "print(x3)"
   ]
  },
  {
   "cell_type": "markdown",
   "id": "2a4e17bd",
   "metadata": {
    "lines_to_next_cell": 0
   },
   "source": [
    " [5-13] 과일 품목별 일련번호 부여하여 dict로 생성하기"
   ]
  },
  {
   "cell_type": "code",
   "execution_count": null,
   "id": "45793d1e",
   "metadata": {},
   "outputs": [],
   "source": [
    "f = ('apple', 'orange', 'banana', 'mango')\n",
    "\n",
    "tag = # 코드 작성\n",
    "\n",
    "print(tag)"
   ]
  },
  {
   "cell_type": "markdown",
   "id": "19faecf7",
   "metadata": {
    "lines_to_next_cell": 0
   },
   "source": [
    " [5-14] 개수가 지정되지 않은 정수들의 합"
   ]
  },
  {
   "cell_type": "code",
   "execution_count": null,
   "id": "6fb08949",
   "metadata": {},
   "outputs": [],
   "source": [
    "x = input().split()\n",
    "y = map(int, x)\n",
    "z = sum(y)\n",
    "print(z)\n",
    "\n",
    "#print(sum(map(int, input().split())))"
   ]
  },
  {
   "cell_type": "markdown",
   "id": "ca42c964",
   "metadata": {
    "lines_to_next_cell": 0
   },
   "source": [
    " [5-15] iterator 타입의 성격"
   ]
  },
  {
   "cell_type": "code",
   "execution_count": 40,
   "id": "943864c3",
   "metadata": {},
   "outputs": [
    {
     "name": "stdout",
     "output_type": "stream",
     "text": [
      "1 2 3\n",
      "6\n"
     ]
    }
   ],
   "source": [
    "t = map(int, input().split())\n",
    "print(sum(t))"
   ]
  },
  {
   "cell_type": "markdown",
   "id": "4f3cbfe2",
   "metadata": {
    "lines_to_next_cell": 0
   },
   "source": [
    " [5-16] Iterator의 개념"
   ]
  },
  {
   "cell_type": "code",
   "execution_count": null,
   "id": "939d632c",
   "metadata": {},
   "outputs": [],
   "source": [
    "x = map(int, [3.14, -5.25, -128])\n",
    "y = map(abs, x)\n",
    "\n",
    "print('[1]', *x)\n",
    "print('[2]', *y)"
   ]
  },
  {
   "cell_type": "markdown",
   "id": "70250e26",
   "metadata": {
    "lines_to_next_cell": 0
   },
   "source": [
    " [5-17] 최대값과 위치 찾기"
   ]
  },
  {
   "cell_type": "code",
   "execution_count": null,
   "id": "692b90e8",
   "metadata": {},
   "outputs": [],
   "source": [
    "x = map(int, input().split())\n",
    "\n",
    "# 코드 작성\n",
    "\n",
    "print(max_val)\n",
    "print(max_pos)"
   ]
  },
  {
   "cell_type": "markdown",
   "id": "b36f28bf",
   "metadata": {
    "lines_to_next_cell": 0
   },
   "source": [
    " [5-18] 리스트로 n개 입력 받아서 최대값 구하기"
   ]
  },
  {
   "cell_type": "code",
   "execution_count": null,
   "id": "aaa8d05c",
   "metadata": {},
   "outputs": [],
   "source": [
    "\n"
   ]
  },
  {
   "cell_type": "markdown",
   "id": "4a33a3a9",
   "metadata": {
    "lines_to_next_cell": 0
   },
   "source": [
    " [5-19] n명 이름 중복 제거하기"
   ]
  },
  {
   "cell_type": "code",
   "execution_count": null,
   "id": "c916b244",
   "metadata": {},
   "outputs": [],
   "source": [
    "\n"
   ]
  },
  {
   "cell_type": "markdown",
   "id": "38ab9ad1",
   "metadata": {
    "lines_to_next_cell": 0
   },
   "source": [
    " [5-20] n개 정수 입력 받아 오름차순, 내림차순으로 정렬하기"
   ]
  },
  {
   "cell_type": "code",
   "execution_count": null,
   "id": "3eb55f83",
   "metadata": {},
   "outputs": [],
   "source": [
    "\n"
   ]
  },
  {
   "cell_type": "markdown",
   "id": "f543146f",
   "metadata": {
    "lines_to_next_cell": 0
   },
   "source": [
    " [6-1] 함수의 정의 및 호출"
   ]
  },
  {
   "cell_type": "code",
   "execution_count": null,
   "id": "9e27e691",
   "metadata": {},
   "outputs": [],
   "source": [
    "def func1() : print('func1')\n",
    "\n",
    "def func2() :\n",
    "    print('func2')\n",
    "\n",
    "def func3() :\n",
    "    print('func3-1')\n",
    "    print('func3-2')\n",
    "\n",
    "func1()\n",
    "\n",
    "def func4() :\n",
    "    print('func4-1')\n",
    "    return\n",
    "    print('func4-2')\n",
    "\n",
    "func2()\n",
    "func3()\n",
    "func4()"
   ]
  },
  {
   "cell_type": "markdown",
   "id": "d12316fe",
   "metadata": {
    "lines_to_next_cell": 0
   },
   "source": [
    " [6-2] 함수의 리턴"
   ]
  },
  {
   "cell_type": "code",
   "execution_count": null,
   "id": "0a51628f",
   "metadata": {
    "lines_to_next_cell": 1
   },
   "outputs": [],
   "source": [
    "print('start')\n",
    "\n",
    "def func1() :\n",
    "    print('func1-1')\n",
    "    return\n",
    "    print('func1-2')\n",
    "    return None\n",
    "    print('func1-3')\n",
    "\n",
    "func1()\n",
    "print(func1())\n",
    "\n",
    "print('stop')"
   ]
  },
  {
   "cell_type": "markdown",
   "id": "28b52d10",
   "metadata": {
    "lines_to_next_cell": 0
   },
   "source": [
    " [6-3] 함수의 Parameter"
   ]
  },
  {
   "cell_type": "code",
   "execution_count": null,
   "id": "a2c32094",
   "metadata": {
    "lines_to_next_cell": 1
   },
   "outputs": [],
   "source": [
    "def func1(a) :\n",
    "    print('func1', a)\n",
    "\n",
    "def func2(a, b) :\n",
    "    c = a + b\n",
    "    print('func2', a, b, c)\n",
    "\n",
    "func1(10)\n",
    "func1('kim')\n",
    "\n",
    "func2(30, 40)\n",
    "func2('kim', 'lew')\n",
    "func2([1,2,3], [4,5,6])\n",
    "func2('kim', 10)"
   ]
  },
  {
   "cell_type": "markdown",
   "id": "e3e28fe6",
   "metadata": {
    "lines_to_next_cell": 0
   },
   "source": [
    " [6-4] 함수의 값 Return"
   ]
  },
  {
   "cell_type": "code",
   "execution_count": null,
   "id": "a0c498c3",
   "metadata": {
    "lines_to_next_cell": 1
   },
   "outputs": [],
   "source": [
    "def func(a) :\n",
    "    print(a)\n",
    "    return a + 1 \n",
    "\n",
    "func(10)\n",
    "x = func(20)\n",
    "print(x)\n",
    "print(func(30))"
   ]
  },
  {
   "cell_type": "markdown",
   "id": "b8f31569",
   "metadata": {
    "lines_to_next_cell": 0
   },
   "source": [
    " [6-5] return 식이 여럿인 함수"
   ]
  },
  {
   "cell_type": "markdown",
   "id": "3f8fcc07",
   "metadata": {},
   "source": [
    "**return이 여러개이면 tuple로 반환된다**"
   ]
  },
  {
   "cell_type": "code",
   "execution_count": 41,
   "id": "d8048335",
   "metadata": {
    "lines_to_next_cell": 1
   },
   "outputs": [
    {
     "name": "stdout",
     "output_type": "stream",
     "text": [
      "(13, 7, 30, 3)\n"
     ]
    }
   ],
   "source": [
    "def func(a, b) :\n",
    "    return a + b, a - b, a *  b, a // b\n",
    "\n",
    "print(func(10, 3))"
   ]
  },
  {
   "cell_type": "markdown",
   "id": "e1c9534d",
   "metadata": {
    "lines_to_next_cell": 0
   },
   "source": [
    " [6-6] 문자열 복제기"
   ]
  },
  {
   "cell_type": "code",
   "execution_count": null,
   "id": "3674435c",
   "metadata": {},
   "outputs": [],
   "source": [
    "def string_repeat(s, n) :\n",
    "\n",
    "    # 코드 작성\n",
    "\n",
    "    return x\n",
    "\n",
    "y = string_repeat('kim', 2)\n",
    "print(y)\n",
    "print(string_repeat('hello', 3))"
   ]
  },
  {
   "cell_type": "markdown",
   "id": "f815c1cd",
   "metadata": {
    "lines_to_next_cell": 0
   },
   "source": [
    " [6-7] 함수의 변수 사용"
   ]
  },
  {
   "cell_type": "code",
   "execution_count": null,
   "id": "0baade2a",
   "metadata": {
    "lines_to_next_cell": 1
   },
   "outputs": [],
   "source": [
    "cnt = 0\n",
    "\n",
    "def func() :\n",
    "    cnt += 1\n",
    "\n",
    "func()\n",
    "func()\n",
    "\n",
    "print(cnt)"
   ]
  },
  {
   "cell_type": "markdown",
   "id": "51d1732c",
   "metadata": {
    "lines_to_next_cell": 0
   },
   "source": [
    " [6-8] global 키워드"
   ]
  },
  {
   "cell_type": "markdown",
   "id": "0233ebfc",
   "metadata": {},
   "source": [
    "**Name Resolution: name 검색 규정**\n",
    "\n",
    "**읽기 : 현 scope -> 상위 name 검색**\n",
    "\n",
    "* 하위 local namespace -> 상위 local namespace -> global namespace -> built-in ~\n",
    "\n",
    "**쓰기 : 현 scope의 namespace에서만 검색함**"
   ]
  },
  {
   "cell_type": "code",
   "execution_count": 39,
   "id": "0c16fdde",
   "metadata": {
    "lines_to_next_cell": 1
   },
   "outputs": [
    {
     "name": "stdout",
     "output_type": "stream",
     "text": [
      "1\n",
      "10 20 35\n",
      "10 20 3\n"
     ]
    }
   ],
   "source": [
    "def f2( ):\n",
    "    global a\n",
    "    global b\n",
    "    a = 10\n",
    "    b = 20\n",
    "    c = 30 + d\n",
    "    print(a, b, c)\n",
    "\n",
    "a, c, d = 1, 3, 5\n",
    "print(a)  # 1 반환\n",
    "f2()      # a=10, b=20, c=30+5\n",
    "print(a, b, c) # 위에서 a=10, b=20 global 지정. c=3는 local"
   ]
  },
  {
   "cell_type": "markdown",
   "id": "494b144f",
   "metadata": {
    "lines_to_next_cell": 0
   },
   "source": [
    " [6-9-1] 함수의 parameter에 immutable argument의 전달"
   ]
  },
  {
   "cell_type": "code",
   "execution_count": 51,
   "id": "247c6af9",
   "metadata": {
    "lines_to_next_cell": 1
   },
   "outputs": [
    {
     "name": "stdout",
     "output_type": "stream",
     "text": [
      "100\n",
      "10\n"
     ]
    }
   ],
   "source": [
    "def f1(a) :\n",
    "    a = 100 # local a\n",
    "    print(a)\n",
    "    \n",
    "a = 10\n",
    "\n",
    "f1(a)    # 같은 a에 대해 local a가 이미 함수 안에 있으므로 local a 반환\n",
    "print(a) "
   ]
  },
  {
   "cell_type": "markdown",
   "id": "4a286b03",
   "metadata": {
    "lines_to_next_cell": 0
   },
   "source": [
    " [6-9-2] 함수의 parameter에 mutable argument의 전달"
   ]
  },
  {
   "cell_type": "code",
   "execution_count": 50,
   "id": "34a8683b",
   "metadata": {},
   "outputs": [
    {
     "name": "stdout",
     "output_type": "stream",
     "text": [
      "[100, 2, 3, 4, 200]\n",
      "[100, 2, 3, 4, 200]\n"
     ]
    }
   ],
   "source": [
    "def f2(x) :\n",
    "    x[0] = 100\n",
    "    x.append(200)\n",
    "    print(x)\n",
    "\n",
    "b = [1,2,3,4]  # global b\n",
    " \n",
    "f2(b)    # global b에 대해 f2 적용\n",
    "print(b)"
   ]
  },
  {
   "cell_type": "markdown",
   "id": "0bd0d4aa",
   "metadata": {
    "lines_to_next_cell": 0
   },
   "source": [
    " [6-19-1] Container의 unpack argument 전달 1"
   ]
  },
  {
   "cell_type": "code",
   "execution_count": null,
   "id": "2375b337",
   "metadata": {
    "lines_to_next_cell": 1
   },
   "outputs": [],
   "source": [
    "def func1(a,b):\n",
    "    print(a,b)\n",
    "\n",
    "t = (3,4)\n",
    "l = ['abc',400]\n",
    "\n",
    "func1(*t)\n",
    "func1(*l)"
   ]
  },
  {
   "cell_type": "markdown",
   "id": "fe61d496",
   "metadata": {
    "lines_to_next_cell": 0
   },
   "source": [
    " [6-19-2] Container의 unpack argument 전달 2"
   ]
  },
  {
   "cell_type": "code",
   "execution_count": null,
   "id": "5c512965",
   "metadata": {
    "lines_to_next_cell": 1
   },
   "outputs": [],
   "source": [
    "def func2(*v):\n",
    "    print(v)\n",
    "\n",
    "t = (3,4)\n",
    "l = ['abc',400]\n",
    "\n",
    "func2(*t)\n",
    "func2(*l)"
   ]
  },
  {
   "cell_type": "markdown",
   "id": "b3c83959",
   "metadata": {
    "lines_to_next_cell": 0
   },
   "source": [
    " [6-22] dict의 unpack argument 전달"
   ]
  },
  {
   "cell_type": "code",
   "execution_count": null,
   "id": "9cf16a1d",
   "metadata": {},
   "outputs": [],
   "source": [
    "def func1(a, b):\n",
    "    print(a, b)\n",
    "\n",
    "def func2(**v):\n",
    "    print(v)\n",
    "    print(*v.items())\n",
    "\n",
    "d = {'b':10, 'a':20}\n",
    "\n",
    "func1(**d)\n",
    "func2(**d)"
   ]
  },
  {
   "cell_type": "markdown",
   "id": "2d0bf4a3",
   "metadata": {
    "lines_to_next_cell": 0
   },
   "source": [
    " [7-1-1] 사용자 함수"
   ]
  },
  {
   "cell_type": "code",
   "execution_count": null,
   "id": "079f0ef0",
   "metadata": {},
   "outputs": [],
   "source": [
    "a = 10\n",
    "\n",
    "def f1() : print(1)\n",
    "def f2() : print(a + 1)\n",
    "def f3(x, y) : print(max(x, y))\n",
    "def f4(x, y) : return x + y\n",
    "\n",
    "f1()\n",
    "f2()\n",
    "f3(5, 10)\n",
    "print(f4(5, 10))"
   ]
  },
  {
   "cell_type": "markdown",
   "id": "960cb5e6",
   "metadata": {},
   "source": [
    "### **Lambda expression**\n",
    "* 수학의 람다 대수에서 비롯, 이름 충돌을 막기 위해 만드는 이름 없는 함수\n",
    "* 함수명이 namespace에 등록되지 않는 임시 사용 함수로서, **속도 개선**!\n",
    "* def 함수이름(매개변수) : 표현식\n",
    "* lambda 매개변수 : 표현식"
   ]
  },
  {
   "cell_type": "markdown",
   "id": "7dae925d",
   "metadata": {
    "lines_to_next_cell": 0
   },
   "source": [
    " [7-1-2] Lambda 식으로 이름없는 함수 만들기"
   ]
  },
  {
   "cell_type": "code",
   "execution_count": 16,
   "id": "eaf5ef4d",
   "metadata": {
    "lines_to_next_cell": 1
   },
   "outputs": [
    {
     "name": "stdout",
     "output_type": "stream",
     "text": [
      "1\n",
      "11\n",
      "15\n"
     ]
    }
   ],
   "source": [
    "a = 10\n",
    "l1 = lambda : print(1)\n",
    "l2 = lambda : print(a + 1)\n",
    "l3 = lambda x, y : print(x + y)\n",
    "# l4 = \n",
    "\n",
    "l1()\n",
    "l2()\n",
    "l3(5, 10)\n",
    "# print(l4(5, 10))"
   ]
  },
  {
   "cell_type": "markdown",
   "id": "0113e9e1",
   "metadata": {
    "lines_to_next_cell": 0
   },
   "source": [
    " [7-2] Lambda 함수 동작 분석"
   ]
  },
  {
   "cell_type": "markdown",
   "id": "21b6f8e9",
   "metadata": {},
   "source": [
    "map(func, obj) : object의 각 요소에 function 적용 (단, iterable obj여야 함)"
   ]
  },
  {
   "cell_type": "code",
   "execution_count": 4,
   "id": "a67c6f65",
   "metadata": {
    "lines_to_next_cell": 1
   },
   "outputs": [
    {
     "name": "stdout",
     "output_type": "stream",
     "text": [
      "1 9 16 49\n",
      "1 9 16 49\n"
     ]
    }
   ],
   "source": [
    "def sqr(x) :\n",
    "    return x ** 2\n",
    "\n",
    "y = map(sqr, [1,3,4,7])   # [1,3,4,7] 객체에 sqr 함수 적용\n",
    "print(*y)\n",
    "\n",
    "z = map(lambda x : x ** 2, [1,3,4,7])  # [1,3,4,7] 객체에 x**2 람다식 적용\n",
    "print(*z)"
   ]
  },
  {
   "cell_type": "markdown",
   "id": "72b5c535",
   "metadata": {
    "lines_to_next_cell": 0
   },
   "source": [
    " [7-3] tuple로 리턴되는 함수를 lambda 식으로 설계"
   ]
  },
  {
   "cell_type": "code",
   "execution_count": 18,
   "id": "e02aae7d",
   "metadata": {},
   "outputs": [
    {
     "name": "stdout",
     "output_type": "stream",
     "text": [
      "(7, -1, 12, 0.75)\n",
      "(7, -1, 12, 0.75)\n",
      "[7, -1, 12, 0.75]\n"
     ]
    }
   ],
   "source": [
    "def func(a, b) : return a+b, a-b, a*b, a/b\n",
    "\n",
    "print( func(3,4) )\n",
    "\n",
    "f1 = lambda a, b : (a+b, a-b, a*b, a/b)\n",
    "f2 = lambda a, b : [a+b, a-b, a*b, a/b]\n",
    "print( f1(3, 4) )\n",
    "print( f2(3, 4) )"
   ]
  },
  {
   "cell_type": "markdown",
   "id": "14bfc2aa",
   "metadata": {
    "lines_to_next_cell": 0
   },
   "source": [
    " [7-4-1] 다중 container의 대소 비교"
   ]
  },
  {
   "cell_type": "code",
   "execution_count": null,
   "id": "0f1b61cc",
   "metadata": {
    "lines_to_next_cell": 1
   },
   "outputs": [],
   "source": [
    "t = (('banana', 500, 'yellow'), ('apple', 600, 'red'), ('kiwi', 500, 'brown'))\n",
    "\n",
    "min_item = min(t)\n",
    "print('min =', min_item)"
   ]
  },
  {
   "cell_type": "markdown",
   "id": "f45c0764",
   "metadata": {
    "lines_to_next_cell": 0
   },
   "source": [
    " [7-4-2] min, max 함수의 비교 대상 지정"
   ]
  },
  {
   "cell_type": "markdown",
   "id": "413103e7",
   "metadata": {},
   "source": [
    "min 함수의 key를 지정해주면, iterable 객체 내의 어떤 값들을 비교할지 지정할 수 있음"
   ]
  },
  {
   "cell_type": "code",
   "execution_count": 21,
   "id": "bae8096c",
   "metadata": {
    "lines_to_next_cell": 1
   },
   "outputs": [
    {
     "name": "stdout",
     "output_type": "stream",
     "text": [
      "(10, 'kim') kim\n",
      "(21, 'choi') choi\n",
      "(8, 'song') song\n",
      "min #2 = (21, 'choi')\n"
     ]
    }
   ],
   "source": [
    "def func(x) :\n",
    "    print(x, x[1])\n",
    "    return x[1]\n",
    "    \n",
    "t = ((10, 'kim'),(21, 'choi'),(8, 'song'))\n",
    "\n",
    "# print('min #1 =', min(t))\n",
    "print('min #2 =', min(t, key = func))  # t의 두번째 요소들끼리 비교"
   ]
  },
  {
   "cell_type": "markdown",
   "id": "ee91c2f4",
   "metadata": {
    "lines_to_next_cell": 0
   },
   "source": [
    " [7-5] min, max 함수의 비교 대상 지정"
   ]
  },
  {
   "cell_type": "code",
   "execution_count": 23,
   "id": "87e4fe3d",
   "metadata": {},
   "outputs": [
    {
     "name": "stdout",
     "output_type": "stream",
     "text": [
      "('apple', 600, 'red') ('kiwi', 500, 'brown')\n",
      "('banana', 500, 'yellow') ('apple', 600, 'red')\n",
      "('kiwi', 500, 'brown') ('apple', 600, 'red')\n"
     ]
    }
   ],
   "source": [
    "def comp1(x) : return x[0]\n",
    "def comp2(x) : return x[1]\n",
    "def comp3(x) : return x[1], x[2]\n",
    "    \n",
    "t = (('banana', 500, 'yellow'), ('apple', 600, 'red'), ('kiwi', 500, 'brown'))\n",
    "\n",
    "print( min(t, key = comp1), max(t, key = comp1) )  # banana, apple, kiwi 비교\n",
    "print( min(t, key = comp2), max(t, key = comp2) )  # 500, 600, 500 비교\n",
    "print( min(t, key = comp3), max(t, key = comp3) )  # (500,yellow), (600,red), (500,brown) 비교"
   ]
  },
  {
   "cell_type": "markdown",
   "id": "983cef5e",
   "metadata": {
    "lines_to_next_cell": 0
   },
   "source": [
    " [7-6] key로 전달하는 함수를 lambda로 구현"
   ]
  },
  {
   "cell_type": "markdown",
   "id": "d95c0552",
   "metadata": {},
   "source": [
    "위의 사용자정의함수를 아래와 같은 lambda식으로 표현 가능"
   ]
  },
  {
   "cell_type": "code",
   "execution_count": 26,
   "id": "c503289e",
   "metadata": {},
   "outputs": [
    {
     "name": "stdout",
     "output_type": "stream",
     "text": [
      "('apple', 600, 'red')\n",
      "('banana', 500, 'yellow')\n",
      "('kiwi', 500, 'brown')\n"
     ]
    }
   ],
   "source": [
    "## def comp1(x) : return x[0]\n",
    "## def comp2(x) : return x[1]\n",
    "## def comp3(x) : return x[1], x[2]\n",
    "    \n",
    "t = (('banana', 500, 'yellow'), ('apple', 600, 'red'), ('kiwi', 500, 'brown'))\n",
    "\n",
    "print( min(t, key = lambda x : x[0]) ) # key = comp1 기능 \n",
    "print( min(t, key = lambda x : x[1]) ) # key = comp2 기능\n",
    "print( min(t, key = lambda x : x[1:]) ) # key = comp3 기능"
   ]
  },
  {
   "cell_type": "markdown",
   "id": "9e55e41e",
   "metadata": {
    "lines_to_next_cell": 0
   },
   "source": [
    " [7-7] sorted 함수의 정렬 기준 전달"
   ]
  },
  {
   "cell_type": "code",
   "execution_count": null,
   "id": "212922ee",
   "metadata": {},
   "outputs": [],
   "source": [
    "x = [('apple','red',500),('kiwi','brown',300),('banana','yellow',300)]\n",
    "\n",
    "y1 = sorted(x, key = lambda a : a[0], reverse = True)\n",
    "y2 = sorted(x, key = lambda a : a[1])\n",
    "y3 = sorted(x, key = lambda a : a[2])\n",
    "y4 = sorted(x, key = lambda a : (a[2], a[0]))\n",
    "\n",
    "print(x, y1, y2, y3, y4, sep = '\\n')"
   ]
  },
  {
   "cell_type": "markdown",
   "id": "20e5607d",
   "metadata": {
    "lines_to_next_cell": 0
   },
   "source": [
    " [7-8] 입력된 모든 실수 값들을 정수화(round)후 제곱하기"
   ]
  },
  {
   "cell_type": "code",
   "execution_count": null,
   "id": "77edaa69",
   "metadata": {},
   "outputs": [],
   "source": [
    "\n"
   ]
  },
  {
   "cell_type": "markdown",
   "id": "e6a89914",
   "metadata": {
    "lines_to_next_cell": 0
   },
   "source": [
    " [7-9] 오래된 와인을 찾아라"
   ]
  },
  {
   "cell_type": "code",
   "execution_count": null,
   "id": "796ac819",
   "metadata": {},
   "outputs": [],
   "source": [
    "\n"
   ]
  },
  {
   "cell_type": "markdown",
   "id": "310e1673",
   "metadata": {
    "lines_to_next_cell": 0
   },
   "source": [
    " [7-10] 창고 정리"
   ]
  },
  {
   "cell_type": "code",
   "execution_count": null,
   "id": "928a24d1",
   "metadata": {},
   "outputs": [],
   "source": [
    "x = eval(input())\n",
    "\n",
    "# 코드 작성"
   ]
  },
  {
   "cell_type": "markdown",
   "id": "a2f1d9b9",
   "metadata": {
    "lines_to_next_cell": 0
   },
   "source": [
    " [8-1] 비교 연산"
   ]
  },
  {
   "cell_type": "code",
   "execution_count": null,
   "id": "3f13334a",
   "metadata": {},
   "outputs": [],
   "source": [
    "a, b = 10, 10\n",
    "print(a == b, a != b, a < b, a > b, a <= b, a >= b)\n",
    "print(0 <= a <10, 0 <= b <= 10)\n",
    "\n",
    "a, b, c = 'kim', 'kim', 'kj'\n",
    "print(a == b, a != b, a < c, a > c, a <= b, a >= b)\n",
    "\n",
    "a = [1,2,3]\n",
    "print(3 in a, 2 not in a)\n",
    "\n",
    "a, b = [1,2,3], [1,2,3]\n",
    "c = a\n",
    "print(a is b, a is not c, a[1] is b[1], a[1] is b[1])"
   ]
  },
  {
   "cell_type": "markdown",
   "id": "a2de918b",
   "metadata": {
    "lines_to_next_cell": 0
   },
   "source": [
    " [8-2] 3 또는 7의 배수 판별"
   ]
  },
  {
   "cell_type": "code",
   "execution_count": null,
   "id": "08be24da",
   "metadata": {},
   "outputs": [],
   "source": [
    "\n",
    "\n",
    "\n"
   ]
  },
  {
   "cell_type": "markdown",
   "id": "efaaf168",
   "metadata": {
    "lines_to_next_cell": 0
   },
   "source": [
    " [8-3] all 함수와 any 함수"
   ]
  },
  {
   "cell_type": "code",
   "execution_count": null,
   "id": "b6c89caa",
   "metadata": {},
   "outputs": [],
   "source": [
    "print(all([True, 1, -1, 1.0, 'str']))\n",
    "print(all({True, None, -1, 1.0, 'str'}))\n",
    "print(any([None, True, 0, 0.0, '']))\n",
    "print(any((False, None, 0, 0.0, '')))"
   ]
  },
  {
   "cell_type": "markdown",
   "id": "528058a1",
   "metadata": {},
   "source": [
    "**Generator Expression**\n",
    "* 앞서 본 zip,enumerator,map 등과 마찬가지로 iterator를 생성해주는 함수\n",
    "* range보다 더 규칙이 복잡한 자료들을 뽑아내려면 어떻게 해야할까? (ex. for i in range(n))\n",
    "* **\"표현식 for 타겟 in iterable\"** : generator 식의 기본 형태!\n",
    "* generator 식은 반드시 ()로 묶어줘야 함"
   ]
  },
  {
   "cell_type": "markdown",
   "id": "9432fe4d",
   "metadata": {
    "lines_to_next_cell": 0
   },
   "source": [
    " [8-4] Generator Expression"
   ]
  },
  {
   "cell_type": "code",
   "execution_count": 1,
   "id": "a14d3dbf",
   "metadata": {},
   "outputs": [
    {
     "name": "stdout",
     "output_type": "stream",
     "text": [
      "<generator object <genexpr> at 0x000001B48BE580B0>\n",
      "1 -3 7 -2 8 \n",
      "\n",
      "1 9 49 4 64 \n",
      "\n",
      "1 3 7 2 8 \n",
      "\n"
     ]
    }
   ],
   "source": [
    "t = (1,-3,7,-2,8)\n",
    "\n",
    "a = (x for x in t)\n",
    "print(a)        # a를 print하면 객체 자체가 나옴\n",
    "print(*a,'\\n')  # 꼭 unpack 해서 print 해야함\n",
    "\n",
    "b = (x * x for x in t)\n",
    "print(*b, '\\n')\n",
    "\n",
    "c = (abs(x) for x in t)\n",
    "print(*c, '\\n')\n",
    "\n",
    "# d = (print(x) for x in t)\n",
    "# print(*d, '\\n')"
   ]
  },
  {
   "cell_type": "markdown",
   "id": "c3f16b55",
   "metadata": {
    "lines_to_next_cell": 0
   },
   "source": [
    " [8-5] Generator 식에 filter 기능 추가"
   ]
  },
  {
   "cell_type": "code",
   "execution_count": 24,
   "id": "3942df16",
   "metadata": {},
   "outputs": [
    {
     "name": "stdout",
     "output_type": "stream",
     "text": [
      "1 7 8 9\n",
      "1 49 64\n",
      "1 49 64\n"
     ]
    }
   ],
   "source": [
    "t = (1,-3,7,-2,8,9)\n",
    "\n",
    "a = (x for x in t if x > 0)\n",
    "print(*a)\n",
    "\n",
    "b = (x * x for x in t if x > 0 and x % 3) # if x > 0 and x % 3 : filter\n",
    "print(*b)\n",
    "\n",
    "c = (x * x for x in t if x > 0 if x % 3) # if x % 3 : filterr4\n",
    "print(*c)"
   ]
  },
  {
   "cell_type": "markdown",
   "id": "4ca4d777",
   "metadata": {
    "lines_to_next_cell": 0
   },
   "source": [
    " [8-6] 한 줄에 입력되는 여러 정수 입력 받기"
   ]
  },
  {
   "cell_type": "code",
   "execution_count": 25,
   "id": "a545c714",
   "metadata": {},
   "outputs": [
    {
     "name": "stdout",
     "output_type": "stream",
     "text": [
      "1 3 5 7 9\n",
      "25\n"
     ]
    }
   ],
   "source": [
    "x = [int(n) for n in input().split()]\n",
    "print(sum(x))"
   ]
  },
  {
   "cell_type": "markdown",
   "id": "3bae62ec",
   "metadata": {
    "lines_to_next_cell": 0
   },
   "source": [
    " [8-7-1] 모든 값을 제곱하여 list에 저장하기 => lambda와 map 활용"
   ]
  },
  {
   "cell_type": "code",
   "execution_count": null,
   "id": "54770402",
   "metadata": {},
   "outputs": [],
   "source": [
    "t = (1, 3, 7, 2, 6, 8)\n",
    "\n",
    "l = # 코드 작성\n",
    "\n",
    "print(l)"
   ]
  },
  {
   "cell_type": "markdown",
   "id": "cb92fc37",
   "metadata": {
    "lines_to_next_cell": 0
   },
   "source": [
    " [8-7-2] 모든 값을 제곱하여 list에 저장하기 => generator expression 활용"
   ]
  },
  {
   "cell_type": "code",
   "execution_count": null,
   "id": "9bac5a78",
   "metadata": {},
   "outputs": [],
   "source": [
    "t = (1, 3, 7, 2, 6, 8)\n",
    "\n",
    "l = # 코드 작성\n",
    "\n",
    "print(l)"
   ]
  },
  {
   "cell_type": "markdown",
   "id": "192955c5",
   "metadata": {
    "lines_to_next_cell": 0
   },
   "source": [
    " [8-8] ‘a’로 시작하는 단어의 앞 글자를 ‘*’로 변환하기"
   ]
  },
  {
   "cell_type": "code",
   "execution_count": null,
   "id": "25659c9c",
   "metadata": {},
   "outputs": [],
   "source": [
    "# 코드 작성\n",
    "\n",
    "print(*y)"
   ]
  },
  {
   "cell_type": "markdown",
   "id": "d472ba60",
   "metadata": {
    "lines_to_next_cell": 0
   },
   "source": [
    " [8-9] 2개의 생성식이 사용된 Generator"
   ]
  },
  {
   "cell_type": "markdown",
   "id": "748caa00",
   "metadata": {},
   "source": [
    "* 2개의 generator가 있으면 앞의 generator부터 순차적으로 사용 (일반적인 for문과 같음)"
   ]
  },
  {
   "cell_type": "code",
   "execution_count": 55,
   "id": "cc2c30a4",
   "metadata": {},
   "outputs": [
    {
     "name": "stdout",
     "output_type": "stream",
     "text": [
      "a1 a2 a3 a4 b1 b2 b3 b4 c1 c2 c3 c4\n"
     ]
    }
   ],
   "source": [
    "s1, s2 = 'abc', '1234'\n",
    "\n",
    "r = (x + y for x in s1 for y in s2)\n",
    "\n",
    "print(*r)"
   ]
  },
  {
   "cell_type": "markdown",
   "id": "d0ce0c36",
   "metadata": {
    "lines_to_next_cell": 0
   },
   "source": [
    " [8-10] 2차원 튜플을 1차원으로 변환"
   ]
  },
  {
   "cell_type": "markdown",
   "id": "c6b81eaf",
   "metadata": {},
   "source": [
    "* step1. for x in m -> m에서 x 추출\n",
    "* step2. for y in x -> x에서 y 추출\n",
    "* step3. 표현식 y 반환 "
   ]
  },
  {
   "cell_type": "code",
   "execution_count": 56,
   "id": "2f68fcad",
   "metadata": {},
   "outputs": [
    {
     "name": "stdout",
     "output_type": "stream",
     "text": [
      "(11, 2, 33, 4, 5, 6, 90, 10, 11, 12)\n",
      "2 90 184\n"
     ]
    }
   ],
   "source": [
    "m = ((11,2,33,4),(5,6),(90,10,11,12))\n",
    "r = tuple(y for x in m for y in x)\n",
    "\n",
    "\n",
    "print(r)\n",
    "print(min(r), max(r), sum(r))"
   ]
  },
  {
   "cell_type": "markdown",
   "id": "6a2da3bf",
   "metadata": {},
   "source": [
    "**Comprehensions**\n",
    "* generator expression을 이용하여 container를 생성\n",
    "* List / Set / Dict comprehension 등이 있음"
   ]
  },
  {
   "cell_type": "markdown",
   "id": "e3ac7f4c",
   "metadata": {},
   "source": [
    "* list comprehension : [ expression for target in iterable if expression if ~ ]\n",
    "* set comprehension : { expression for target in iterable if expression if ~ }\n",
    "* dict comprehension : { key : value for target in iterable if expression if ~ }"
   ]
  },
  {
   "cell_type": "markdown",
   "id": "268f75b9",
   "metadata": {
    "lines_to_next_cell": 0
   },
   "source": [
    " [8-11] Comprehension Expression"
   ]
  },
  {
   "cell_type": "code",
   "execution_count": 59,
   "id": "65789fc8",
   "metadata": {},
   "outputs": [
    {
     "name": "stdout",
     "output_type": "stream",
     "text": [
      "<class 'list'> [0, 1, 2, 3, 4]\n",
      "<class 'set'> {16, 1, 4, 9}\n",
      "<class 'dict'> {'a': 90, 'c': 95}\n",
      "{'a': 90, 'c': 95}\n"
     ]
    }
   ],
   "source": [
    "l = [x for x in range(5)]  # list comprehension\n",
    "print(type(l), l)\n",
    "\n",
    "s = {x * x for x in [1, 2, 3, 3, 4]}  # set comprehension\n",
    "print(type(s), s)\n",
    "\n",
    "t = (('a', 90), ('b', 80), ('c', 95))\n",
    "\n",
    "d1 = { x[0] : x[1] for x in t if x[1] > 85 }  # dict comprehension\n",
    "print(type(d1), d1)\n",
    "\n",
    "d2 = { k : v for k, v in t if v > 85 }\n",
    "print(d2)"
   ]
  },
  {
   "cell_type": "markdown",
   "id": "66396aa4",
   "metadata": {
    "lines_to_next_cell": 0
   },
   "source": [
    " [8-12] 귤 판매"
   ]
  },
  {
   "cell_type": "code",
   "execution_count": null,
   "id": "66f80d8d",
   "metadata": {},
   "outputs": [],
   "source": [
    "n = int(input())\n",
    "\n",
    "# 여기서 n은 이후 사용되지 않음\n",
    "# 두 번째줄의 값 들만 입력 받아서 사용하면 됨\n",
    "\n",
    "# 코드 작성"
   ]
  },
  {
   "cell_type": "markdown",
   "id": "3b432938",
   "metadata": {
    "lines_to_next_cell": 0
   },
   "source": [
    " [8-13] 선별된 귤을 모두 2배하기"
   ]
  },
  {
   "cell_type": "code",
   "execution_count": null,
   "id": "e28c146e",
   "metadata": {},
   "outputs": [],
   "source": [
    "n = int(input())\n",
    "\n",
    "# 여기서 n은 이후 사용되지 않음\n",
    "# 두 번째줄의 값 들만 입력 받아서 사용하면 됨\n",
    "\n",
    "# 코드 작성"
   ]
  },
  {
   "cell_type": "markdown",
   "id": "dacd0db4",
   "metadata": {
    "lines_to_next_cell": 0
   },
   "source": [
    " [8-14] * 연산을 이용한 다차원 List 생성"
   ]
  },
  {
   "cell_type": "code",
   "execution_count": 60,
   "id": "278d932a",
   "metadata": {},
   "outputs": [
    {
     "name": "stdout",
     "output_type": "stream",
     "text": [
      "[[], [], [], []]\n",
      "[[1, 2], [1, 2], [1, 2], [1, 2]]\n",
      "[[0, 0, 0], [0, 0, 0], [0, 0, 0], [0, 0, 0]]\n",
      "[[1, 0, 0], [1, 0, 0], [1, 0, 0], [1, 0, 0]]\n"
     ]
    }
   ],
   "source": [
    "x = [ [] ] * 4\n",
    "print(x)\n",
    "x[0].extend((1,2))\n",
    "print(x)\n",
    "\n",
    "y = [ [0] * 3 ] * 4\n",
    "print(y)\n",
    "y[0][0] = 1\n",
    "print(y)"
   ]
  },
  {
   "cell_type": "markdown",
   "id": "03f9f6df",
   "metadata": {
    "lines_to_next_cell": 0
   },
   "source": [
    " [8-15] Comprehension을 이용한 다차원 List 생성"
   ]
  },
  {
   "cell_type": "code",
   "execution_count": 58,
   "id": "724cd8e0",
   "metadata": {},
   "outputs": [
    {
     "name": "stdout",
     "output_type": "stream",
     "text": [
      "[[], [], [], []]\n",
      "[[1, 2], [], [], []]\n",
      "[[0, 0, 0], [0, 0, 0], [0, 0, 0], [0, 0, 0]]\n",
      "[[1, 0, 0], [0, 0, 0], [0, 0, 0], [0, 0, 0]]\n"
     ]
    }
   ],
   "source": [
    "x = [ [] for i in range(4) ]\n",
    "print(x)\n",
    "x[0].extend((1,2))\n",
    "print(x)\n",
    "\n",
    "y = [ [0 for j in range(3) ] for i in range(4) ]\n",
    "print(y)\n",
    "y[0][0] = 1\n",
    "print(y)"
   ]
  },
  {
   "cell_type": "markdown",
   "id": "8b4a7e45",
   "metadata": {
    "lines_to_next_cell": 0
   },
   "source": [
    " [9-1] if 문"
   ]
  },
  {
   "cell_type": "code",
   "execution_count": null,
   "id": "b56f6b09",
   "metadata": {},
   "outputs": [],
   "source": [
    "a, b = 10, 20\n",
    "\n",
    "if a: print('[1]')\n",
    "\n",
    "print('[2]')\n",
    "\n",
    "if a != b:\n",
    "    print('[3]')\n",
    "    \n",
    "print('[4]')\n",
    "\n",
    "if a > b:\n",
    "    print('[5]')\n",
    "    print('[6]')\n",
    "    \n",
    "print('[7]')"
   ]
  },
  {
   "cell_type": "markdown",
   "id": "a1ea0de2",
   "metadata": {
    "lines_to_next_cell": 0
   },
   "source": [
    " [9-2] else 문"
   ]
  },
  {
   "cell_type": "code",
   "execution_count": null,
   "id": "19b51747",
   "metadata": {},
   "outputs": [],
   "source": [
    "a, b = 10, 20\n",
    "\n",
    "if a > b: print('[1]')\n",
    "else: print('[2]')\n",
    "\n",
    "print('[3]')"
   ]
  },
  {
   "cell_type": "markdown",
   "id": "98466ca6",
   "metadata": {
    "lines_to_next_cell": 0
   },
   "source": [
    " [9-3-1] 여러개의 if 사용"
   ]
  },
  {
   "cell_type": "code",
   "execution_count": null,
   "id": "9561cd07",
   "metadata": {},
   "outputs": [],
   "source": [
    "a, b = 10, 20\n",
    "\n",
    "if a > b: print('[1]')\n",
    "if a < b : print('[2]')\n",
    "if a != b : print('[3]')"
   ]
  },
  {
   "cell_type": "markdown",
   "id": "d7ee53e9",
   "metadata": {
    "lines_to_next_cell": 0
   },
   "source": [
    " [9-3-2] elif 여러개의 사용"
   ]
  },
  {
   "cell_type": "code",
   "execution_count": null,
   "id": "9b29462c",
   "metadata": {},
   "outputs": [],
   "source": [
    "a, b = 10, 20\n",
    "\n",
    "if a > b: print('[1]')\n",
    "elif a < b : print('[2]')\n",
    "elif a != b : print('[3]')\n",
    "else: print('[4]')"
   ]
  },
  {
   "cell_type": "markdown",
   "id": "90598197",
   "metadata": {
    "lines_to_next_cell": 0
   },
   "source": [
    " [9-4-1] 비워둔 들여쓰기"
   ]
  },
  {
   "cell_type": "code",
   "execution_count": null,
   "id": "faf30fca",
   "metadata": {
    "lines_to_next_cell": 1
   },
   "outputs": [],
   "source": [
    "if True :\n",
    "    print('[1]')\n",
    "else:\n",
    "\n",
    "print('[2]')"
   ]
  },
  {
   "cell_type": "markdown",
   "id": "d8cff6b6",
   "metadata": {
    "lines_to_next_cell": 0
   },
   "source": [
    " [9-4-2] 비워둔 들여쓰기"
   ]
  },
  {
   "cell_type": "code",
   "execution_count": null,
   "id": "1a0f0594",
   "metadata": {},
   "outputs": [],
   "source": [
    "def func():\n",
    "\n",
    "print(\"[1]\")\n",
    "print(func())"
   ]
  },
  {
   "cell_type": "markdown",
   "id": "730b4dca",
   "metadata": {
    "lines_to_next_cell": 0
   },
   "source": [
    " [9-5-1] pass문 사용"
   ]
  },
  {
   "cell_type": "code",
   "execution_count": null,
   "id": "fc2c70a2",
   "metadata": {
    "lines_to_next_cell": 1
   },
   "outputs": [],
   "source": [
    "if True :\n",
    "    print('[1]')\n",
    "else:\n",
    "    pass\n",
    "\n",
    "print('[2]')"
   ]
  },
  {
   "cell_type": "markdown",
   "id": "fafcb325",
   "metadata": {
    "lines_to_next_cell": 0
   },
   "source": [
    " [9-5-2] pass문 사용"
   ]
  },
  {
   "cell_type": "code",
   "execution_count": null,
   "id": "61ec0a79",
   "metadata": {
    "lines_to_next_cell": 1
   },
   "outputs": [],
   "source": [
    "def func():\n",
    "    pass\n",
    "\n",
    "print(\"[1]\")\n",
    "print(func())"
   ]
  },
  {
   "cell_type": "markdown",
   "id": "dd2b5f87",
   "metadata": {
    "lines_to_next_cell": 0
   },
   "source": [
    " [9-6] 2,3,5 배수 확인 함수"
   ]
  },
  {
   "cell_type": "code",
   "execution_count": null,
   "id": "acb31360",
   "metadata": {
    "lines_to_next_cell": 1
   },
   "outputs": [],
   "source": [
    "def compare(num):\n",
    "    #코드 작성\n",
    "\n",
    "print('3 =>', compare(3))\n",
    "print('62 =>', compare(62))\n",
    "print('25 =>', compare(25))\n",
    "print('157 =>', compare(157))"
   ]
  },
  {
   "cell_type": "markdown",
   "id": "cd6702a1",
   "metadata": {
    "lines_to_next_cell": 0
   },
   "source": [
    " [9-7] 학점을 알려주세요 => if문으로 설계"
   ]
  },
  {
   "cell_type": "code",
   "execution_count": null,
   "id": "8b6f55a4",
   "metadata": {},
   "outputs": [],
   "source": [
    "def func(n) :\n",
    "    #코드 작성\n",
    "\n",
    "print(func(int(input())))"
   ]
  },
  {
   "cell_type": "markdown",
   "id": "58569e90",
   "metadata": {
    "lines_to_next_cell": 0
   },
   "source": [
    " [9-8] 주차요금"
   ]
  },
  {
   "cell_type": "code",
   "execution_count": null,
   "id": "96eb4549",
   "metadata": {},
   "outputs": [],
   "source": [
    "time = int(input())\n",
    "\n",
    "#코드 작성\n",
    "\n",
    "print(fee)"
   ]
  },
  {
   "cell_type": "markdown",
   "id": "1a49475b",
   "metadata": {
    "lines_to_next_cell": 0
   },
   "source": [
    " [9-9] for 문의 구성"
   ]
  },
  {
   "cell_type": "code",
   "execution_count": null,
   "id": "40c53683",
   "metadata": {},
   "outputs": [],
   "source": [
    "for i in range(10) :\n",
    "    print(i)\n",
    "\n",
    "print('end')\n",
    "\n",
    "t = (\"kim\", \"lee\", \"park\", \"lew\")\n",
    "for i in range(len(t)) : print(t[i])\n",
    "for x in t : print(x)\n",
    "\n",
    "l = [(1,2), (3,4), (5,6), (7,8)]\n",
    "\n",
    "for x in l :\n",
    "    print(x)"
   ]
  },
  {
   "cell_type": "markdown",
   "id": "c4eb84d6",
   "metadata": {
    "lines_to_next_cell": 0
   },
   "source": [
    " [9-10] Target List Unpack"
   ]
  },
  {
   "cell_type": "code",
   "execution_count": null,
   "id": "d89e9374",
   "metadata": {
    "lines_to_next_cell": 1
   },
   "outputs": [],
   "source": [
    "t1 = ((1,2),'AB', ['hello', 100], (3.14, 'pi'))\n",
    "t2 = ([1,2,3,4],('kim','lee','park'),(-1, -2))\n",
    "\n",
    "for a, b in t1 :\n",
    "    print(a, b)\n",
    "\n",
    "for a, b, *c in t2 :\n",
    "    print(a, b, c)\n",
    "\n",
    "for a, *b, c in t2 :\n",
    "    print(a, b, c)\n",
    "\n",
    "for i, x in enumerate('ABCD') :\n",
    "    print(i, x)"
   ]
  },
  {
   "cell_type": "markdown",
   "id": "623c4404",
   "metadata": {
    "lines_to_next_cell": 0
   },
   "source": [
    " [9-11] sum 함수 구현"
   ]
  },
  {
   "cell_type": "code",
   "execution_count": null,
   "id": "395f618e",
   "metadata": {},
   "outputs": [],
   "source": [
    "def my_sum(y) :\n",
    "    #코드 작성\n",
    "\n",
    "x = map(int, input().split())\n",
    "print(my_sum(x))"
   ]
  },
  {
   "cell_type": "markdown",
   "id": "54d17f25",
   "metadata": {
    "lines_to_next_cell": 0
   },
   "source": [
    " [9-12] 이름 위치 모두 찾기"
   ]
  },
  {
   "cell_type": "code",
   "execution_count": null,
   "id": "e52cde56",
   "metadata": {},
   "outputs": [],
   "source": [
    "t = ('kim','lee','park','kim','song','lee')\n",
    "\n",
    "# 코드 작성"
   ]
  },
  {
   "cell_type": "markdown",
   "id": "807da710",
   "metadata": {
    "lines_to_next_cell": 0
   },
   "source": [
    " [9-13-1] 귤 판매 시즌2 : comprehensions"
   ]
  },
  {
   "cell_type": "code",
   "execution_count": null,
   "id": "a8eea7e0",
   "metadata": {},
   "outputs": [],
   "source": [
    "n = int(input())\n",
    "\n",
    "l = [x for x in map(int, input().split()) if x >= 10]\n",
    "\n",
    "print(len(l))\n",
    "print(*l)"
   ]
  },
  {
   "cell_type": "markdown",
   "id": "eda8686c",
   "metadata": {
    "lines_to_next_cell": 0
   },
   "source": [
    " [9-13-2] 귤 판매 시즌2 : for"
   ]
  },
  {
   "cell_type": "code",
   "execution_count": null,
   "id": "57dd8509",
   "metadata": {},
   "outputs": [],
   "source": [
    "n = int(input())\n",
    "x = map(int, input().split())\n",
    "box = []\n",
    "\n",
    "# 코드 작성\n",
    "\n",
    "print(len(box))\n",
    "print(*box) "
   ]
  },
  {
   "cell_type": "markdown",
   "id": "0a6ae523",
   "metadata": {
    "lines_to_next_cell": 0
   },
   "source": [
    " [9-14] 이중 for 루프"
   ]
  },
  {
   "cell_type": "code",
   "execution_count": null,
   "id": "3b08df85",
   "metadata": {},
   "outputs": [],
   "source": [
    "for i in range(5) :\n",
    "    for j in range(5) :\n",
    "        print('*', end = '')\n",
    "    print()"
   ]
  },
  {
   "cell_type": "markdown",
   "id": "45eb15ce",
   "metadata": {
    "lines_to_next_cell": 0
   },
   "source": [
    " [9-15-1] 별 찍기 1"
   ]
  },
  {
   "cell_type": "code",
   "execution_count": null,
   "id": "46a2acb3",
   "metadata": {},
   "outputs": [],
   "source": [
    "코드 작성"
   ]
  },
  {
   "cell_type": "markdown",
   "id": "f409e65e",
   "metadata": {
    "lines_to_next_cell": 0
   },
   "source": [
    " [9-15-2] 별 찍기 2"
   ]
  },
  {
   "cell_type": "code",
   "execution_count": null,
   "id": "82d77013",
   "metadata": {},
   "outputs": [],
   "source": [
    "코드 작성"
   ]
  },
  {
   "cell_type": "markdown",
   "id": "ceca4558",
   "metadata": {
    "lines_to_next_cell": 0
   },
   "source": [
    " [9-15-3] 별 찍기 3"
   ]
  },
  {
   "cell_type": "code",
   "execution_count": null,
   "id": "202c40d5",
   "metadata": {},
   "outputs": [],
   "source": [
    "코드 작성"
   ]
  },
  {
   "cell_type": "markdown",
   "id": "2d17417e",
   "metadata": {
    "lines_to_next_cell": 0
   },
   "source": [
    " [9-15-4] 별 찍기 4"
   ]
  },
  {
   "cell_type": "code",
   "execution_count": null,
   "id": "e83fbcbb",
   "metadata": {},
   "outputs": [],
   "source": [
    "코드 작성"
   ]
  },
  {
   "cell_type": "markdown",
   "id": "1122e0c0",
   "metadata": {
    "lines_to_next_cell": 0
   },
   "source": [
    " [9-15-5] 별 찍기 5"
   ]
  },
  {
   "cell_type": "code",
   "execution_count": null,
   "id": "b7b31e0f",
   "metadata": {},
   "outputs": [],
   "source": [
    "코드 작성"
   ]
  },
  {
   "cell_type": "markdown",
   "id": "dd87ba4e",
   "metadata": {
    "lines_to_next_cell": 0
   },
   "source": [
    " [9-16-1] 이차원 튜플의 아이템 인쇄 1"
   ]
  },
  {
   "cell_type": "code",
   "execution_count": null,
   "id": "dc8597a6",
   "metadata": {},
   "outputs": [],
   "source": [
    "# 인덱스 번호를 이용하는 방식\n",
    "\n",
    "t = ((1,2,3),(4,5),(6,7,8,9))\n",
    "\n",
    "for i in range(len(t)) :\n",
    "    for j in range(len(t[i])) :\n",
    "        print(t[i][j], end = ' ')"
   ]
  },
  {
   "cell_type": "markdown",
   "id": "621c08cf",
   "metadata": {
    "lines_to_next_cell": 0
   },
   "source": [
    " [9-16-2] 이차원 튜플의 아이템 인쇄 2"
   ]
  },
  {
   "cell_type": "code",
   "execution_count": null,
   "id": "b4f9aefa",
   "metadata": {},
   "outputs": [],
   "source": [
    "# iterator 속성을 이용하는 방식\n",
    "\n",
    "t = ((1,2,3),(4,5),(6,7,8,9))\n",
    "\n",
    "for y in t :\n",
    "    for x in y :\n",
    "        print(x, end = ' ')"
   ]
  },
  {
   "cell_type": "markdown",
   "id": "8ab59c62",
   "metadata": {
    "lines_to_next_cell": 0
   },
   "source": [
    " [9-17] 행과 열을 바꿔서 이차원 튜플의 아이템 인쇄"
   ]
  },
  {
   "cell_type": "code",
   "execution_count": null,
   "id": "34fd8c9e",
   "metadata": {},
   "outputs": [],
   "source": [
    "t = ((1,2,3,4),(5,6,7,8),(9,10,11,12))\n",
    "\n",
    "# 코드 작성"
   ]
  },
  {
   "cell_type": "markdown",
   "id": "76dfa650",
   "metadata": {
    "lines_to_next_cell": 0
   },
   "source": [
    " [9-18] break, continue의 동작"
   ]
  },
  {
   "cell_type": "code",
   "execution_count": null,
   "id": "a194be3c",
   "metadata": {},
   "outputs": [],
   "source": [
    "for i in range(10) :\n",
    "    if i > 7 : break\n",
    "    if not i % 3 : continue\n",
    "    print(i)\n",
    "print('end => ', i)"
   ]
  },
  {
   "cell_type": "markdown",
   "id": "7d666330",
   "metadata": {
    "lines_to_next_cell": 0
   },
   "source": [
    " [9-19] 알밤만 담는 바구니"
   ]
  },
  {
   "cell_type": "code",
   "execution_count": null,
   "id": "8c3d964c",
   "metadata": {},
   "outputs": [],
   "source": [
    "m, n = map(int, input().split())\n",
    "l = []\n",
    "\n",
    "# 코드 작성\n"
   ]
  },
  {
   "cell_type": "markdown",
   "id": "c1683f7f",
   "metadata": {
    "lines_to_next_cell": 0
   },
   "source": [
    " [9-20] 알밤을 분류하여 담는 바구니"
   ]
  },
  {
   "cell_type": "code",
   "execution_count": null,
   "id": "844b4877",
   "metadata": {},
   "outputs": [],
   "source": [
    "l1 = []\n",
    "l2 = []\n",
    "\n",
    "m, n = map(int, input().split())\n",
    "\n",
    "# 코드 작성\n"
   ]
  },
  {
   "cell_type": "markdown",
   "id": "60f35ad3",
   "metadata": {
    "lines_to_next_cell": 0
   },
   "source": [
    " [9-21] 소수 판별 함수의 동작"
   ]
  },
  {
   "cell_type": "code",
   "execution_count": null,
   "id": "393d3e6a",
   "metadata": {},
   "outputs": [],
   "source": [
    "def prime(n):\n",
    "    for i in range(2, n):\n",
    "        if not n%i:\n",
    "            print('no prime', n)\n",
    "            break\n",
    "    else : print('prime', n)    \n",
    "\n",
    "prime(2)\n",
    "prime(7)\n",
    "prime(15)\t"
   ]
  },
  {
   "cell_type": "markdown",
   "id": "46b82919",
   "metadata": {
    "lines_to_next_cell": 0
   },
   "source": [
    " [9-22-1] for 문 안의 변수 유의사항"
   ]
  },
  {
   "cell_type": "code",
   "execution_count": null,
   "id": "83348057",
   "metadata": {},
   "outputs": [],
   "source": [
    "i = 2000\n",
    "print('[1]', i)\n",
    "\n",
    "for i in [1,2]:\n",
    "    print('  [2]', i)\n",
    "    i = 200\n",
    "    print('  [3]', i)\n",
    "print('[4]', i)"
   ]
  },
  {
   "cell_type": "markdown",
   "id": "77449660",
   "metadata": {
    "lines_to_next_cell": 0
   },
   "source": [
    " [9-22-2] for 문 안의 변수 유의사항"
   ]
  },
  {
   "cell_type": "code",
   "execution_count": null,
   "id": "d37a33be",
   "metadata": {},
   "outputs": [],
   "source": [
    "i = 200\n",
    "print('[1]', i)\n",
    "\n",
    "for i in [1,2,3]:\n",
    "    i += 20\n",
    "    print('  [2]', i)\n",
    "print('[3]', i)"
   ]
  },
  {
   "cell_type": "markdown",
   "id": "c221f9c2",
   "metadata": {
    "lines_to_next_cell": 0
   },
   "source": [
    " [9-23-1] while 문의 구성 1"
   ]
  },
  {
   "cell_type": "code",
   "execution_count": null,
   "id": "29b385db",
   "metadata": {},
   "outputs": [],
   "source": [
    "a = 0\n",
    "\n",
    "while a < 5 :\n",
    "    print('[1]', a)\n",
    "    a += 1\n",
    "print('[2]', a)"
   ]
  },
  {
   "cell_type": "markdown",
   "id": "6e2708eb",
   "metadata": {
    "lines_to_next_cell": 0
   },
   "source": [
    " [9-23-2] while 문의 구성 2"
   ]
  },
  {
   "cell_type": "code",
   "execution_count": null,
   "id": "3cca609d",
   "metadata": {},
   "outputs": [],
   "source": [
    "a = 0\n",
    "\n",
    "while a < 5 :\n",
    "    if a > 4 :\n",
    "        break\n",
    "    print('[1]', a)\n",
    "    a += 1\n",
    "else :\n",
    "    print('[2]', a)\n",
    "print('[3]', a)"
   ]
  },
  {
   "cell_type": "markdown",
   "id": "f338d3dd",
   "metadata": {
    "lines_to_next_cell": 0
   },
   "source": [
    " [9-24] while에 의한 무한 루프"
   ]
  },
  {
   "cell_type": "code",
   "execution_count": null,
   "id": "f7fdb0b2",
   "metadata": {},
   "outputs": [],
   "source": [
    "i = 0\n",
    "\n",
    "while True :\n",
    "    print(i)\n",
    "    i += 1\n",
    "print('EXIT')"
   ]
  },
  {
   "cell_type": "markdown",
   "id": "d87fed81",
   "metadata": {
    "lines_to_next_cell": 0
   },
   "source": [
    " [9-25] 조건에 맞는 입력이 들어올 때 까지 입력 받기"
   ]
  },
  {
   "cell_type": "code",
   "execution_count": null,
   "id": "73f7d6c3",
   "metadata": {},
   "outputs": [],
   "source": [
    " 코드 작성\n",
    "\n"
   ]
  },
  {
   "cell_type": "markdown",
   "id": "466f7815",
   "metadata": {
    "lines_to_next_cell": 0
   },
   "source": [
    " [10-1] list Method 이해"
   ]
  },
  {
   "cell_type": "code",
   "execution_count": null,
   "id": "8fa7ee1b",
   "metadata": {},
   "outputs": [],
   "source": [
    "l = [1]\n",
    "print(l)\n",
    "\n",
    "l.append(4)\n",
    "l.insert(1, 5)\n",
    "l.append((3, 'KIM'))\n",
    "l.extend((6, 'LEW'))\n",
    "print(l)\n",
    "\n",
    "l.remove(1)\n",
    "print(l)\n",
    "\n",
    "x = l.pop()\n",
    "y = l.pop(2)\n",
    "print(x, y)\n",
    "print(l)\n",
    "\n",
    "l= [1,8,10,4,5]\n",
    "print(l)\n",
    "l.reverse()\n",
    "print(l)\n",
    "l.sort()\n",
    "print(l)\n",
    "l.sort(reverse = True)\n",
    "print(l)"
   ]
  },
  {
   "cell_type": "markdown",
   "id": "174644ee",
   "metadata": {
    "lines_to_next_cell": 0
   },
   "source": [
    " [10-2] 전학생 자리 배치"
   ]
  },
  {
   "cell_type": "code",
   "execution_count": null,
   "id": "92db479f",
   "metadata": {},
   "outputs": [],
   "source": [
    "a = [1,4,7,10]\n",
    "\n",
    "while True:\n",
    "    m = int(input())\n",
    "\n",
    "    # 코드 작성\n",
    "        \n",
    "    print(a)"
   ]
  },
  {
   "cell_type": "markdown",
   "id": "e6700324",
   "metadata": {
    "lines_to_next_cell": 0
   },
   "source": [
    " [10-3] str 메서드 활용 연습 1"
   ]
  },
  {
   "cell_type": "code",
   "execution_count": null,
   "id": "732ccb80",
   "metadata": {},
   "outputs": [],
   "source": [
    "s1 = 'Hello? Hello!'\n",
    "print(s1.upper())\n",
    "print(s1.lower())\n",
    "print(s1.replace('ll', '---'))\n",
    "print(s1.replace('ll', '*', 1))\n",
    "print(s1.split(sep = 'e'))\n",
    "print(s1.split('l'))\n",
    "\n",
    "s2 = '010-1234-5678'\n",
    "print(s2.split('-'))\n",
    "print(s2.split('-', maxsplit = 1))\n",
    "print(s2.rsplit('-', maxsplit = 1))\n",
    "\n",
    "s3 = ' Hi Low '      # 공백 하나씩\n",
    "print(s3.split())\n",
    "print(s3.split(' '))\n",
    "\n",
    "s4 = '  Hi  Low  '   # 공백 두개씩\n",
    "print(s4.split())\n",
    "print(s4.split(' ')) # 공백 하나"
   ]
  },
  {
   "cell_type": "markdown",
   "id": "ab6a1982",
   "metadata": {
    "lines_to_next_cell": 0
   },
   "source": [
    " [10-4] splitlines 기능"
   ]
  },
  {
   "cell_type": "code",
   "execution_count": null,
   "id": "b5e373e5",
   "metadata": {},
   "outputs": [],
   "source": [
    "print('ABC\\n'.split('\\n'))\n",
    "print('ABC\\n'.splitlines())\n",
    "print('AB\\n\\rCD E\\n\\nFG\\r\\rAB\\r\\n\\r'.splitlines())\n",
    "print('AB\\n\\rCD E\\n\\nFG\\r\\rAB\\r\\n\\r'.splitlines(keepends=True))"
   ]
  },
  {
   "cell_type": "markdown",
   "id": "dd087374",
   "metadata": {
    "lines_to_next_cell": 0
   },
   "source": [
    " [10-5] join 기능"
   ]
  },
  {
   "cell_type": "code",
   "execution_count": null,
   "id": "52da3df5",
   "metadata": {},
   "outputs": [],
   "source": [
    "s1 = ['010', '1234', '5678']\n",
    "print(str.join('',s1))\n",
    "print(' '.join(s1))\n",
    "print('-'.join(s1))\n",
    "print(':::'.join(s1))"
   ]
  },
  {
   "cell_type": "markdown",
   "id": "395cee8a",
   "metadata": {
    "lines_to_next_cell": 0
   },
   "source": [
    " [10-6] 파일의 문장수와 문장별 단어수 인쇄"
   ]
  },
  {
   "cell_type": "code",
   "execution_count": null,
   "id": "9d467d07",
   "metadata": {},
   "outputs": [],
   "source": [
    "f = open('test.txt', 'r', encoding='utf8')\n",
    "d = f.read()\n",
    "f.close()\n",
    "\n",
    "# 코드 작성"
   ]
  },
  {
   "cell_type": "markdown",
   "id": "e478ca4f",
   "metadata": {
    "lines_to_next_cell": 0
   },
   "source": [
    " [10-7-1] 문자열 연결하여 인쇄하기 1"
   ]
  },
  {
   "cell_type": "code",
   "execution_count": null,
   "id": "17290547",
   "metadata": {},
   "outputs": [],
   "source": [
    "import datetime\n",
    "\n",
    "l = [str(x) for x in range(100)]\n",
    "\n",
    "start = datetime.datetime.now()\n",
    "\n",
    "print(*l, sep = '-')\n",
    "\n",
    "end = datetime.datetime.now()\n",
    "print(end - start)"
   ]
  },
  {
   "cell_type": "markdown",
   "id": "bd585103",
   "metadata": {
    "lines_to_next_cell": 0
   },
   "source": [
    " [10-7-2] 문자열 연결하여 인쇄하기 2"
   ]
  },
  {
   "cell_type": "code",
   "execution_count": null,
   "id": "e829725b",
   "metadata": {},
   "outputs": [],
   "source": [
    "import datetime\n",
    "\n",
    "l = [str(x) for x in range(100)]\n",
    "\n",
    "start = datetime.datetime.now()\n",
    "\n",
    "# 코드 작성\n",
    "\n",
    "end = datetime.datetime.now()\n",
    "print(end - start)"
   ]
  },
  {
   "cell_type": "markdown",
   "id": "772f7da7",
   "metadata": {
    "lines_to_next_cell": 0
   },
   "source": [
    " [10-8] str 메서드 활용 연습 3"
   ]
  },
  {
   "cell_type": "code",
   "execution_count": null,
   "id": "dd5318ab",
   "metadata": {},
   "outputs": [],
   "source": [
    "s1 ='    Nice to meet you!  '\n",
    "s2 ='aabbcaxb?bxacbbaa'\n",
    "\n",
    "print(s1.strip())\n",
    "print(s1.rstrip())\n",
    "print(s1.lstrip())\n",
    "print(s2.strip('axb?'))\n",
    "print(s2.rstrip('axb?'))\n",
    "print(s2.lstrip('axb?'))\n",
    "print('Hello python'.swapcase())\n",
    "print('hello pyTHON'.title())\n",
    "print('hello pyTHON'.capitalize())\n",
    "print('Hello'.center(20))\n",
    "print('Hello'.center(20, '-'))\n",
    "print('Hello'.ljust(20, '-'))\n",
    "print('Hello'.rjust(20, '-'))\n",
    "print('3250'.zfill(20))\n",
    "print('A\\tB'.expandtabs())\n",
    "print('A\\tB'.expandtabs(4))\n",
    "print('010-1234-5678'.partition('-'))\n",
    "print('010-1234-5678'.rpartition('-'))\n",
    "print('010-1234-5678'.partition('*'))"
   ]
  },
  {
   "cell_type": "markdown",
   "id": "600087b7",
   "metadata": {
    "lines_to_next_cell": 0
   },
   "source": [
    " [10-9] str 메서드 활용 연습 4"
   ]
  },
  {
   "cell_type": "code",
   "execution_count": null,
   "id": "cf126973",
   "metadata": {},
   "outputs": [],
   "source": [
    "s2 ='aabbcaxb?bxacbbaa'\n",
    "\n",
    "print(s2.find('bb'), s2.find('bb', 3, -1), s2.rfind('bb'))\n",
    "print(s2.index('bb'), s2.index('bb', 3, -1), s2.rindex('bb'))\n",
    "\n",
    "print(s2.startswith('aab'), s2.startswith('abb'))\n",
    "print(s2.endswith('baa'), s2.endswith('bba'))\n",
    "print(s2.count('bb'), s2.count('bb', 3, -1))\n",
    "\n",
    "print('A B5CD!'.isupper(), 'A b5cD!'.islower())\n",
    "print('AbC'.isalpha(), 'AbC1'.isalpha())\n",
    "print('aA123'.isalnum(), 'a#123'.isalnum())\n",
    "print('12'.isdecimal(), '12'.isdigit(), '12'.isnumeric())\n",
    "print('3²'.isdecimal(), '3²'.isdigit(), '3²'.isnumeric())\n",
    "print( '½'.isdecimal(),  '½'.isdigit(),  '½'.isnumeric())\n",
    "print('\\x41'.isprintable(), '\\t'.isprintable())\n",
    "print('Hi Low'.istitle(), '\\t '.isspace(), '½'.isascii())\n",
    "print('_s1'.isidentifier(), '1x'.isidentifier())"
   ]
  },
  {
   "cell_type": "markdown",
   "id": "962e5ffe",
   "metadata": {
    "lines_to_next_cell": 0
   },
   "source": [
    " [10-10] 문자열 전처리 및 한 문장으로 만들기"
   ]
  },
  {
   "cell_type": "code",
   "execution_count": null,
   "id": "dc8c94a0",
   "metadata": {},
   "outputs": [],
   "source": [
    "s = ('   Willtek   python     ', 'Good  \\t Morning~', '   Have a good day!!   ')\n",
    "\n",
    "# 코드 작성\n",
    "\n",
    "print(r)"
   ]
  },
  {
   "cell_type": "markdown",
   "id": "91220ab0",
   "metadata": {
    "lines_to_next_cell": 0
   },
   "source": [
    " [10-11] set 연산자 및 메서드 동작 이해"
   ]
  },
  {
   "cell_type": "markdown",
   "id": "5d53cc09",
   "metadata": {},
   "source": [
    "* s.add(x) : item 삽입\n",
    "* s.remove(x) : item 삭제. x가 s에 포함되어 있지 않으면 keyerror 발생\n",
    "* s.discard(x) : item 삭제. x가 s에 포함되어 있지 않아도 에러 발생하지 않음\n",
    "* s.pop() : 집합에서 임의의 item을 제거하고 반환. item이 없으면 keyerror 발생\n",
    "* s.clear() : 집합의 모든 item 제거\n",
    "* s.copy() : 얕은 복사본을 반환"
   ]
  },
  {
   "cell_type": "code",
   "execution_count": null,
   "id": "faf7ef2d",
   "metadata": {},
   "outputs": [],
   "source": [
    "t = (1, 3, 5, 5, 7, 9)\n",
    "l = [1, 3, 3, 8]\n",
    "print(set(t), len(set(t)))\n",
    "print(set(t) & set(l))\n",
    "print(set(t) | set(l))\n",
    "print(set(t) - set(l))\n",
    "print(set(t) ^ set(l))\n",
    "s = {1,2}\n",
    "s.add(-1)\n",
    "print(s)"
   ]
  },
  {
   "cell_type": "markdown",
   "id": "40191f09",
   "metadata": {
    "lines_to_next_cell": 0
   },
   "source": [
    " [10-12] 빵을 두 군데서 받은 학생은 모두 몇 명?"
   ]
  },
  {
   "cell_type": "code",
   "execution_count": null,
   "id": "a074285f",
   "metadata": {},
   "outputs": [],
   "source": [
    "x = ('kim', 'lee', 'park', 'song', 'moon', 'lew')\n",
    "y = ('min', 'park', 'kong', 'mo', 'lew')\n",
    "\n",
    "# 코드 작성\n",
    "\n",
    "print( num )"
   ]
  },
  {
   "cell_type": "markdown",
   "id": "503e3fdd",
   "metadata": {
    "lines_to_next_cell": 0
   },
   "source": [
    " [10-13] 없어진 학생은?"
   ]
  },
  {
   "cell_type": "code",
   "execution_count": null,
   "id": "3219aa86",
   "metadata": {},
   "outputs": [],
   "source": [
    "K = int(input())\n",
    "\n",
    "for x in range(K):\n",
    "    N, M = (int(y) for y in input().split())\n",
    "    r = [int(y) for y in input().split()]\n",
    "     \n",
    "    # 코드 작성"
   ]
  },
  {
   "cell_type": "markdown",
   "id": "a972e6c6",
   "metadata": {
    "lines_to_next_cell": 0
   },
   "source": [
    " [10-14] dict 메서드 이해"
   ]
  },
  {
   "cell_type": "code",
   "execution_count": null,
   "id": "9a876b11",
   "metadata": {},
   "outputs": [],
   "source": [
    "d = {'a': 1, 'b' : 2}\n",
    "\n",
    "d['a'] = 10\n",
    "d['c'] = 30\n",
    "print(d)\n",
    "\n",
    "d.setdefault('a', 100)\n",
    "d.setdefault('d', 400)\n",
    "print(d)\n",
    "\n",
    "print(d['a'])\n",
    "print(d['e'])\n",
    "\n",
    "print(d.get('b', 200))\n",
    "print(d.get('e', 500))\n",
    "print(d)\n",
    "\n",
    "d1 = dict.fromkeys((100, 'XYZ', 3.14), 0)\n",
    "d2 = dict.fromkeys('abcde', 'hi')\n",
    "d3 = dict.fromkeys('123')\n",
    "d4 = {k : 0 for k in (100, 'XYZ', 3.14)}\n",
    "print(d1, d2, d3, d4, sep = '\\n')"
   ]
  },
  {
   "cell_type": "markdown",
   "id": "f51598b7",
   "metadata": {
    "lines_to_next_cell": 0
   },
   "source": [
    " [10-15] 문자별 횟수 세기"
   ]
  },
  {
   "cell_type": "code",
   "execution_count": null,
   "id": "e8251895",
   "metadata": {
    "lines_to_next_cell": 1
   },
   "outputs": [],
   "source": [
    "n = '2378C946C736B8B30B38B478749ZZ928623234234'\n",
    "\n",
    "c1 = {}\n",
    "\n",
    "for x in set(n):\n",
    "    c1[x] = n.count(x)\n",
    "\n",
    "c2 = dict(map(lambda x : (x, n.count(x)), set(n)))\n",
    "\n",
    "c3 = {x : n.count(x) for x in set(n)}\n",
    "\n",
    "print(c1, c2, c3, sep = '\\n')"
   ]
  },
  {
   "cell_type": "markdown",
   "id": "89335858",
   "metadata": {
    "lines_to_next_cell": 0
   },
   "source": [
    " [11-1-1] 함수를 이용한 마트 셀프 계산기 설계"
   ]
  },
  {
   "cell_type": "code",
   "execution_count": null,
   "id": "c8f665bf",
   "metadata": {
    "lines_to_next_cell": 1
   },
   "outputs": [],
   "source": [
    "def mart_calc(x) :\n",
    "    global s\n",
    "    s += x\n",
    "\n",
    "s = 0\n",
    "\n",
    "mart_calc(10)\n",
    "mart_calc(30)\n",
    "\n",
    "print(s)"
   ]
  },
  {
   "cell_type": "markdown",
   "id": "c741a55b",
   "metadata": {
    "lines_to_next_cell": 0
   },
   "source": [
    " [11-1-2] 여럿이 사용하는 마트 셀프 계산기 설계"
   ]
  },
  {
   "cell_type": "code",
   "execution_count": null,
   "id": "ddd492b7",
   "metadata": {
    "lines_to_next_cell": 1
   },
   "outputs": [],
   "source": [
    "def mart_calc(n, x) :\n",
    "    s[n] += x\n",
    "\n",
    "s = [0] * 5\n",
    "\n",
    "mart_calc(0, 10)\n",
    "mart_calc(1, 100)\n",
    "mart_calc(0, 30)\n",
    "mart_calc(1, 300)\n",
    "\n",
    "print(s[0], s[1])"
   ]
  },
  {
   "cell_type": "markdown",
   "id": "4635c318",
   "metadata": {
    "lines_to_next_cell": 0
   },
   "source": [
    " [11-2] class를 이용한 마트 셀프 계산기 설계"
   ]
  },
  {
   "cell_type": "code",
   "execution_count": 4,
   "id": "7275767f",
   "metadata": {
    "lines_to_next_cell": 1
   },
   "outputs": [
    {
     "name": "stdout",
     "output_type": "stream",
     "text": [
      "40 500\n",
      "90 0\n"
     ]
    }
   ],
   "source": [
    "class Mart_Calc :  # Mart_Calc 클래스\n",
    "    s = 0\n",
    "\n",
    "    def add(self, x) :  # Mart_Calc의 add라는 method(함수) 생성\n",
    "        self.s += x     # s는 instance 변수로 새로 생성됨\n",
    "\n",
    "usr1 = Mart_Calc()   # Mart_Calc의 class의 생성자로 usr1, usr2 instance 생성.\n",
    "usr2 = Mart_Calc()   # usr1과 usr는 독립적인 object로 사용됨\n",
    "\n",
    "usr1.add(10)   # usr1 instance의 add 메서드를 referencing\n",
    "usr2.add(100)  # usr2 instance의 add 메서드를 referencing\n",
    "\n",
    "usr1.add(30)\n",
    "usr2.add(400)\n",
    "\n",
    "print(usr1.s, usr2.s)\n",
    "# print(type(Mart_Calc))\n",
    "# print(type(usr1))\n",
    "\n",
    "Mart_Calc.add(usr1, 50)  # Mart_Calc class의 add 메서드를 직접 referencing\n",
    "print(usr1.s, Mart_Calc.s)"
   ]
  },
  {
   "cell_type": "markdown",
   "id": "5099153c",
   "metadata": {
    "lines_to_next_cell": 0
   },
   "source": [
    " [11-3] Class의 변수와 Namespace 운영"
   ]
  },
  {
   "cell_type": "code",
   "execution_count": 48,
   "id": "1467c310",
   "metadata": {
    "lines_to_next_cell": 1
   },
   "outputs": [
    {
     "name": "stdout",
     "output_type": "stream",
     "text": [
      "{'self': <__main__.Mart_Calc object at 0x000001F0270CC7F0>, 'x': 10}\n"
     ]
    }
   ],
   "source": [
    "class Mart_Calc :\n",
    "    s = 0                # class 변수 : 모든 instance에서 공통 사용\n",
    "\n",
    "    def add(self, x) :\n",
    "        self.s += x      # instance 변수 : 모든 method에서 공통 사용\n",
    "        print(locals())  # add메서드의 로컬에 x는 포함되나 s는 instance에서 global이므로 포함되지 않음\n",
    "\n",
    "usr1 = Mart_Calc()\n",
    "usr1.add(10)  # x만 출력됨"
   ]
  },
  {
   "cell_type": "markdown",
   "id": "e1d97b27",
   "metadata": {
    "lines_to_next_cell": 0
   },
   "source": [
    " [11-4] Instance 생성과 초기화자"
   ]
  },
  {
   "cell_type": "markdown",
   "id": "feb62ccf",
   "metadata": {},
   "source": [
    "* class변수와 instance변수를 혼용하지 않는 것이 좋음\n",
    "* 이를 위하여 instance 생성 시 변수 등을 초기화 하는 기능이 필요함"
   ]
  },
  {
   "cell_type": "code",
   "execution_count": 58,
   "id": "ee10871c",
   "metadata": {
    "lines_to_next_cell": 1
   },
   "outputs": [
    {
     "name": "stdout",
     "output_type": "stream",
     "text": [
      "Mart Self Calculator\n",
      "\n",
      "\n",
      "결제할 금액 => 40원\n",
      "결제할 금액 => 430원\n",
      "\n",
      "\n",
      "2\n",
      "40 40\n",
      "430 430\n"
     ]
    }
   ],
   "source": [
    "class Mart_Calc :\n",
    "    \"Mart Self Calculator\"\n",
    "    cnt = 0\n",
    "    m = \"결제할 금액\"\n",
    "\n",
    "    def __init__(self, x) :   # init는 \"초기화자\" : 실행시 초기동작정의, instance 변수 초기화 등 진행\n",
    "        self.s = x            # self.변수명 -> instance.변수 (instance 내부에서 global처럼 사용됨).\n",
    "                              # 따라서 __init_에서 만든 self.s를 다른 method에서도 사용 가능함\n",
    "        Mart_Calc.cnt += 1\n",
    "        \n",
    "    def add(self, x) :\n",
    "        self.s += x          \n",
    "        print(f'{Mart_Calc.m} => {self.s}원')\n",
    "        return self.s\n",
    "\n",
    "print(Mart_Calc.__doc__)  # \"Mart Self Calculator\" 출력\n",
    "\n",
    "print('\\n')\n",
    "\n",
    "usr1 = Mart_Calc(10)  # init 메서드의 x에 10을 전달 -> s = 10\n",
    "usr2 = Mart_Calc(30)  # init 메서드의 x에 30을 전달 -> s = 30\n",
    "\n",
    "r1 = usr1.add(30)     # add 메서드의 x에 30 전달 -> s = 10 + 30 출력 (기존 s=10 사라지지 않고 남아있음)\n",
    "r2 = usr2.add(400)    # add 메서드의 x에 400 전달 -> s = 30 + 400 출력\n",
    "\n",
    "print('\\n')\n",
    "\n",
    "print(Mart_Calc.cnt)\n",
    "print(r1, usr1.s)\n",
    "print(r2, usr2.s)"
   ]
  },
  {
   "cell_type": "markdown",
   "id": "a52e7cf7",
   "metadata": {
    "lines_to_next_cell": 0
   },
   "source": [
    " [11-5-1] Instance 소멸자"
   ]
  },
  {
   "cell_type": "markdown",
   "id": "eebfdaa5",
   "metadata": {},
   "source": [
    "* del(instance)로 instance를 소멸, __del__로 소멸 동작 수행"
   ]
  },
  {
   "cell_type": "code",
   "execution_count": 59,
   "id": "3036e724",
   "metadata": {
    "lines_to_next_cell": 1
   },
   "outputs": [
    {
     "name": "stdout",
     "output_type": "stream",
     "text": [
      "2 40 430\n",
      "2\n"
     ]
    }
   ],
   "source": [
    "class Mart_Calc :\n",
    "    cnt = 0\n",
    "\n",
    "    def __init__(self, x) :\n",
    "        self.s = x\n",
    "        Mart_Calc.cnt += 1\n",
    "        \n",
    "    def add(self, x) :\n",
    "        self.s += x\n",
    "\n",
    "usr1 = Mart_Calc(10)\n",
    "usr2 = Mart_Calc(30)\n",
    "\n",
    "usr1.add(30)\n",
    "usr2.add(400)\n",
    "\n",
    "print(Mart_Calc.cnt, usr1.s, usr2.s)\n",
    "\n",
    "del(usr2)             # usr2 instance를 소멸시킴\n",
    "print(Mart_Calc.cnt)  # 그런데, instance는 소멸됐지만, Class 변수 cnt는 불변"
   ]
  },
  {
   "cell_type": "markdown",
   "id": "4db65aaf",
   "metadata": {
    "lines_to_next_cell": 0
   },
   "source": [
    " [11-5-2] Instance 소멸시 동작 추가"
   ]
  },
  {
   "cell_type": "code",
   "execution_count": 60,
   "id": "e86759bb",
   "metadata": {},
   "outputs": [
    {
     "name": "stdout",
     "output_type": "stream",
     "text": [
      "2 40 430\n",
      "1\n"
     ]
    }
   ],
   "source": [
    "class Mart_Calc :\n",
    "    cnt = 0\n",
    "\n",
    "    def __init__(self, x) :\n",
    "        self.s = x\n",
    "        Mart_Calc.cnt += 1\n",
    "        \n",
    "    def add(self, x) :\n",
    "        self.s += x\n",
    "\n",
    "    def __del__(self) :     # __del__을 정의하면 소멸자 사용시 호출함\n",
    "        Mart_Calc.cnt -= 1\n",
    "\n",
    "usr1 = Mart_Calc(10)\n",
    "usr2 = Mart_Calc(30)\n",
    "\n",
    "r1 = usr1.add(30)\n",
    "r2 = usr2.add(400)\n",
    "\n",
    "print(Mart_Calc.cnt, usr1.s, usr2.s)\n",
    "\n",
    "del(usr2)             # usr2 instance를 소멸시키니\n",
    "print(Mart_Calc.cnt)  # 기존 cnt에서 -1 됨"
   ]
  },
  {
   "cell_type": "markdown",
   "id": "184a8886",
   "metadata": {
    "lines_to_next_cell": 0
   },
   "source": [
    " [11-6] class 변수 정리"
   ]
  },
  {
   "cell_type": "code",
   "execution_count": 61,
   "id": "dbd26b01",
   "metadata": {
    "lines_to_next_cell": 1,
    "scrolled": false
   },
   "outputs": [
    {
     "name": "stdout",
     "output_type": "stream",
     "text": [
      "1 10\n",
      "0 41 41\n",
      "0 53 53\n"
     ]
    },
    {
     "ename": "AttributeError",
     "evalue": "'Mart_Calc' object has no attribute 'tax'",
     "output_type": "error",
     "traceback": [
      "\u001b[1;31m---------------------------------------------------------------------------\u001b[0m",
      "\u001b[1;31mAttributeError\u001b[0m                            Traceback (most recent call last)",
      "Cell \u001b[1;32mIn[61], line 31\u001b[0m\n\u001b[0;32m     28\u001b[0m usr1\u001b[38;5;241m.\u001b[39madd2(\u001b[38;5;241m10\u001b[39m)\n\u001b[0;32m     29\u001b[0m \u001b[38;5;28mprint\u001b[39m(Mart_Calc\u001b[38;5;241m.\u001b[39mcnt, usr1\u001b[38;5;241m.\u001b[39ms, total)\n\u001b[1;32m---> 31\u001b[0m \u001b[38;5;28mprint\u001b[39m(\u001b[43musr1\u001b[49m\u001b[38;5;241;43m.\u001b[39;49m\u001b[43mtax\u001b[49m)\n",
      "\u001b[1;31mAttributeError\u001b[0m: 'Mart_Calc' object has no attribute 'tax'"
     ]
    }
   ],
   "source": [
    "total = 0\n",
    "\n",
    "class Mart_Calc :\n",
    "    cnt = 0\n",
    "\n",
    "    def __init__(self, x) :\n",
    "        self.s = x\n",
    "        Mart_Calc.cnt += 1\n",
    "        print(Mart_Calc.cnt, self.s)\n",
    "        \n",
    "    def add1(self, x) :\n",
    "        global total\n",
    "        tax = 1\n",
    "        self.s += x + tax    # parameter x와 tax는 method 내부의 local 변수로 취급됨.\n",
    "        total = self.s       # 따라서 locals()로 인쇄하면 x, tax가 나오게 되며 method 내부에서만 유효함\n",
    "\n",
    "    def add2(self, x) :\n",
    "        global total\n",
    "        tax = 2\n",
    "        self.s += x + tax\n",
    "        total = self.s\n",
    "\n",
    "usr1 = Mart_Calc(10)  # init 메서드의 x에 10 전달 -> s = 10, cnt = 1\n",
    "\n",
    "usr1.add1(30)         # add1 메서드의 x에 30 전달 -> s = 10 + 30 + 1 = 41 출력 (cnt=0)\n",
    "print(Mart_Calc.cnt, usr1.s, total)\n",
    "\n",
    "usr1.add2(10)         # add2 메서드의 x에 10 전달 -> s = 41 + 10 + 2 = 53 출력 (cnt=0)\n",
    "print(Mart_Calc.cnt, usr1.s, total)\n",
    "\n",
    "print(usr1.tax)       # tax는 local 변수로 호출하면 에러남"
   ]
  },
  {
   "cell_type": "markdown",
   "id": "57022bab",
   "metadata": {
    "lines_to_next_cell": 0
   },
   "source": [
    " [11-7-1] class attribute 확인"
   ]
  },
  {
   "cell_type": "markdown",
   "id": "cf4a8cb8",
   "metadata": {},
   "source": [
    "* dir(class)를 통해 해당 class의 attribute 확인 가능"
   ]
  },
  {
   "cell_type": "code",
   "execution_count": 66,
   "id": "7adcedde",
   "metadata": {
    "lines_to_next_cell": 1
   },
   "outputs": [
    {
     "name": "stdout",
     "output_type": "stream",
     "text": [
      "['__class__', '__delattr__', '__dict__', '__dir__', '__doc__', '__eq__', '__format__', '__ge__', '__getattribute__', '__gt__', '__hash__', '__init__', '__init_subclass__', '__le__', '__lt__', '__module__', '__ne__', '__new__', '__reduce__', '__reduce_ex__', '__repr__', '__setattr__', '__sizeof__', '__str__', '__subclasshook__', '__weakref__', 'add']\n",
      "['__class__', '__delattr__', '__dict__', '__dir__', '__doc__', '__eq__', '__format__', '__ge__', '__getattribute__', '__gt__', '__hash__', '__init__', '__init_subclass__', '__le__', '__lt__', '__module__', '__ne__', '__new__', '__reduce__', '__reduce_ex__', '__repr__', '__setattr__', '__sizeof__', '__str__', '__subclasshook__', '__weakref__', 'add', 's']\n"
     ]
    }
   ],
   "source": [
    "class Mart_Calc :\n",
    "\n",
    "    def __init__(self, x) :\n",
    "        self.s = x\n",
    "        \n",
    "    def add(self, x) :\n",
    "        self.s += x\n",
    "\n",
    "usr1 = Mart_Calc(10)\n",
    "\n",
    "print(dir(Mart_Calc)) # 자동으로 몇 가지 special method가 있으며, 생성한 변수 및 함수가 attribute 목록에 있음\n",
    "print(dir(usr1))"
   ]
  },
  {
   "cell_type": "markdown",
   "id": "950489e3",
   "metadata": {
    "lines_to_next_cell": 0
   },
   "source": [
    " [11-7-2] 연산자와 Built-In 함수 Overloading"
   ]
  },
  {
   "cell_type": "markdown",
   "id": "3970e957",
   "metadata": {},
   "source": [
    "* overloading : 연산자나 내장함수의 실제 처리를 class의 메서드에 넘겨서 수행"
   ]
  },
  {
   "cell_type": "code",
   "execution_count": 67,
   "id": "6e47d902",
   "metadata": {
    "lines_to_next_cell": 1
   },
   "outputs": [
    {
     "name": "stdout",
     "output_type": "stream",
     "text": [
      "40\n",
      "True\n",
      "False\n",
      "100\n"
     ]
    }
   ],
   "source": [
    "class Mart_Calc :\n",
    "    def __init__(self, x) :\n",
    "        self.s = x\n",
    "\n",
    "    def __add__(self, x) :\n",
    "        return self.s + x     # \"+\" 실행 시 add 메서드 수행\n",
    "     \n",
    "    def __gt__(self, x) :\n",
    "        return self.s > x.s   # \">\" 실행 시 gt 메서드 수행\n",
    "\n",
    "    def __abs__(self) :\n",
    "        return -self.s        # \"-\" 실행 시 abs 메서드 수행\n",
    "\n",
    "usr1 = Mart_Calc(10)\n",
    "usr2 = Mart_Calc(-100)\n",
    "\n",
    "print(usr1 + 30)\n",
    "print(usr1 > usr2)\n",
    "print(usr2 > usr1)\n",
    "print(abs(usr2))"
   ]
  },
  {
   "cell_type": "markdown",
   "id": "3709613f",
   "metadata": {
    "lines_to_next_cell": 0
   },
   "source": [
    " [11-8-1] Child Class 생성과 상속(Inheritance)"
   ]
  },
  {
   "cell_type": "markdown",
   "id": "81240290",
   "metadata": {},
   "source": [
    "* 반복되는 attribute는 **상속** 클래스를 통해 기본으로 있도록 만들 수 있음"
   ]
  },
  {
   "cell_type": "code",
   "execution_count": 68,
   "id": "664de9a6",
   "metadata": {
    "lines_to_next_cell": 1
   },
   "outputs": [
    {
     "name": "stdout",
     "output_type": "stream",
     "text": [
      "Mart_Calc\n",
      "-20\n"
     ]
    }
   ],
   "source": [
    "class Mart_Calc :\n",
    "\n",
    "    def __init__(self, x) :\n",
    "        self.s = x\n",
    "        print(\"Mart_Calc\")\n",
    "        \n",
    "    def add(self, x) :\n",
    "        self.s += x\n",
    "\n",
    "class New_Calc(Mart_Calc):   # child class 생성 -> Mart_Calc의 attribute 그대로 상속.\n",
    "\n",
    "    def __init__(self, x) :  # 부모 class의 생성자 사용. 물론 새롭게 정의해도 무방\n",
    "        super().__init__(x)\n",
    "\n",
    "    def sub(self, x) :       # 부모와 무관한 새 method.\n",
    "        self.s -= x\n",
    "\n",
    "usr1 = New_Calc(10)\n",
    "usr1.add(10)  # 부모 클래스의 add 메서드 수행 -> s = 10 + 10 = 20\n",
    "usr1.sub(40)  # 자식 클래스의 sub 메서드 수행 -> s = 20 - 40 = -20\n",
    "\n",
    "print(usr1.s)"
   ]
  },
  {
   "cell_type": "markdown",
   "id": "1102397e",
   "metadata": {
    "lines_to_next_cell": 0
   },
   "source": [
    " [11-8-2] Method Overriding"
   ]
  },
  {
   "cell_type": "code",
   "execution_count": 73,
   "id": "3fcd8a3d",
   "metadata": {
    "lines_to_next_cell": 1
   },
   "outputs": [
    {
     "name": "stdout",
     "output_type": "stream",
     "text": [
      "add\n",
      "[<class '__main__.New_Calc'>, <class '__main__.Mart_Calc'>, <class 'object'>]\n"
     ]
    }
   ],
   "source": [
    "class Mart_Calc :\n",
    "\n",
    "    def __init__(self, x) :\n",
    "        self.s = x\n",
    "        \n",
    "    def add(self, x) :\n",
    "        self.s += x\n",
    "\n",
    "class New_Calc(Mart_Calc):\n",
    "\n",
    "    def __init__(self, x) :\n",
    "        super().__init__(x)\n",
    "        \n",
    "    def add(self, x) :      # 부모와 동일한 \"add\" 메서드 재정의 -> 자식 메서드의 add를 우선적으로 수행\n",
    "        print('add')\n",
    "        \n",
    "usr1 = New_Calc(10)\n",
    "usr1.add(30)           # 자식 클래스의 add 메서드 수행 -> 'add' 출력\n",
    "\n",
    "print(New_Calc.mro())  # class명.mro()를 통해 상속관계 표시 : 자식 -> 부모 순으로 출력. 앞에 나올수록 우선순위 높음"
   ]
  },
  {
   "cell_type": "markdown",
   "id": "c2c7eb9e",
   "metadata": {
    "lines_to_next_cell": 0
   },
   "source": [
    " [11-9] 다중 상속"
   ]
  },
  {
   "cell_type": "markdown",
   "id": "9031be7b",
   "metadata": {},
   "source": [
    "* 여러 class로부터 상속 가능 -> 상속 순서대로 우선권이 있음"
   ]
  },
  {
   "cell_type": "code",
   "execution_count": 75,
   "id": "ed43cab6",
   "metadata": {
    "lines_to_next_cell": 1
   },
   "outputs": [
    {
     "name": "stdout",
     "output_type": "stream",
     "text": [
      "20\n",
      "[<class '__main__.Son'>, <class '__main__.Father'>, <class '__main__.Mother'>, <class 'object'>]\n",
      "50\n",
      "100\n",
      "80\n"
     ]
    }
   ],
   "source": [
    "class Father :\n",
    "\n",
    "    def __init__(self, x) :\n",
    "        self.s = x + 10\n",
    "        \n",
    "    def add(self, x) :\n",
    "        self.s += x + 10\n",
    "\n",
    "    def double(self) :\n",
    "        self.s *= 2\n",
    "\n",
    "class Mother :\n",
    "\n",
    "    def __init__(self, x) :\n",
    "        self.s = x\n",
    "        \n",
    "    def add(self, x) :\n",
    "        self.s += x\n",
    "\n",
    "    def sub(self, x) :\n",
    "        self.s -= x\n",
    "        \n",
    "class Son(Father, Mother) :   # father, mother 순으로 상속. father이 mother보다 우선순위 높음\n",
    "    \n",
    "    def __init__(self, x) :\n",
    "        super().__init__(x)\n",
    "\n",
    "        \n",
    "usr1 = Son(10)    # Father의 init 사용 -> s = 10 + 10 = 20 출력\n",
    "print(usr1.s)\n",
    "print(Son.mro())\n",
    "\n",
    "usr1.add(20)      # 우선 순위가 더 높은 Father의 add 메서드 수행 -> s = x(20) + 10 = 30 반환하고나서\n",
    "                  # Mother의 add 메서드 수행 -> s = s(30) + x(20) = 50 반환\n",
    "print(usr1.s)\n",
    "\n",
    "usr1.double()     # Father의 double 메서드 수행 -> s = 50*2 = 100 반환\n",
    "print(usr1.s)\n",
    "\n",
    "usr1.sub(20)     # Mother의 sub 메서드 수행 -> s = 100-20 = 80 반환\n",
    "print(usr1.s)"
   ]
  },
  {
   "cell_type": "markdown",
   "id": "92d3d39c",
   "metadata": {
    "lines_to_next_cell": 0
   },
   "source": [
    " [11-10] Class method, Static method"
   ]
  },
  {
   "cell_type": "code",
   "execution_count": 76,
   "id": "912c8101",
   "metadata": {},
   "outputs": [
    {
     "ename": "TypeError",
     "evalue": "Mart_Calc.add() missing 1 required positional argument: 'x'",
     "output_type": "error",
     "traceback": [
      "\u001b[1;31m---------------------------------------------------------------------------\u001b[0m",
      "\u001b[1;31mTypeError\u001b[0m                                 Traceback (most recent call last)",
      "Cell \u001b[1;32mIn[76], line 20\u001b[0m\n\u001b[0;32m     18\u001b[0m usr1 \u001b[38;5;241m=\u001b[39m Mart_Calc(\u001b[38;5;241m10\u001b[39m)\n\u001b[0;32m     19\u001b[0m usr1\u001b[38;5;241m.\u001b[39madd(\u001b[38;5;241m30\u001b[39m)\n\u001b[1;32m---> 20\u001b[0m \u001b[43mMart_Calc\u001b[49m\u001b[38;5;241;43m.\u001b[39;49m\u001b[43madd\u001b[49m\u001b[43m(\u001b[49m\u001b[38;5;241;43m40\u001b[39;49m\u001b[43m)\u001b[49m\n\u001b[0;32m     21\u001b[0m Mart_Calc\u001b[38;5;241m.\u001b[39madd(usr1, \u001b[38;5;241m40\u001b[39m)\n\u001b[0;32m     22\u001b[0m \u001b[38;5;28mprint\u001b[39m(usr1\u001b[38;5;241m.\u001b[39ms)\n",
      "\u001b[1;31mTypeError\u001b[0m: Mart_Calc.add() missing 1 required positional argument: 'x'"
     ]
    }
   ],
   "source": [
    "class Mart_Calc :\n",
    "    total = 0\n",
    "    \n",
    "    def __init__(self, x) :\n",
    "        self.s = x\n",
    "        \n",
    "    def add(self, x) :\n",
    "        self.s += x\n",
    "\n",
    "    @classmethod\n",
    "    def add_cls(cls, x) :\n",
    "        cls.total += x\n",
    "\n",
    "    @staticmethod\n",
    "    def mul(x, y) :\n",
    "        return x * y\n",
    "        \n",
    "usr1 = Mart_Calc(10)\n",
    "usr1.add(30)\n",
    "Mart_Calc.add(40)\n",
    "Mart_Calc.add(usr1, 40)\n",
    "print(usr1.s)\n",
    "\n",
    "usr1.add_cls(5)\n",
    "Mart_Calc.add_cls(10)\n",
    "print(Mart_Calc.total, usr1.total)\n",
    "\n",
    "print(usr1.mul(3, 4))\n",
    "print(Mart_Calc.mul(5, 8))"
   ]
  },
  {
   "cell_type": "markdown",
   "id": "408420ef",
   "metadata": {
    "lines_to_next_cell": 0
   },
   "source": [
    " [11-11] try ~ except"
   ]
  },
  {
   "cell_type": "markdown",
   "id": "2e7ae0ca",
   "metadata": {},
   "source": [
    "**Exception** : run time때 발생하는 모든 오류\n",
    "* try 코드를 시도해보고 오류 발생 안하면 실행, 오류가 발생하면 except로 이동\n",
    "* except의 오류 이름과 동일한 경우 예외 코드 실행, 이름이 맞지 않으면 실행되지 않음"
   ]
  },
  {
   "cell_type": "markdown",
   "id": "b6219966",
   "metadata": {},
   "source": [
    "Python의 exception 종류와 이름 : docs.python.org/3/library/exceptions.html"
   ]
  },
  {
   "cell_type": "code",
   "execution_count": 77,
   "id": "53f407f9",
   "metadata": {},
   "outputs": [
    {
     "name": "stdout",
     "output_type": "stream",
     "text": [
      "20 20\n"
     ]
    }
   ],
   "source": [
    "try :\n",
    "    a = 200\n",
    "except NameError :\n",
    "   print('NameError 1')\n",
    "\n",
    "try :\n",
    "    a = b\n",
    "except NameError :\n",
    "    print('NameError 2')\n",
    "    b = 50\n",
    "    a = b\n",
    "\n",
    "print(a, b)"
   ]
  },
  {
   "cell_type": "markdown",
   "id": "deadfa18",
   "metadata": {
    "lines_to_next_cell": 0
   },
   "source": [
    " [11-12-1] 오류 이름이 맞지 않는 경우"
   ]
  },
  {
   "cell_type": "code",
   "execution_count": 78,
   "id": "8178b876",
   "metadata": {},
   "outputs": [],
   "source": [
    "try :\n",
    "    a = b\n",
    "except TypeError : \n",
    "    print('TypeError')\n",
    "    b = 50"
   ]
  },
  {
   "cell_type": "markdown",
   "id": "317ace43",
   "metadata": {
    "lines_to_next_cell": 0
   },
   "source": [
    " [11-12-2] Exception: 모든 오류에 대응"
   ]
  },
  {
   "cell_type": "code",
   "execution_count": 79,
   "id": "8213167d",
   "metadata": {},
   "outputs": [
    {
     "name": "stdout",
     "output_type": "stream",
     "text": [
      "20 20\n"
     ]
    }
   ],
   "source": [
    "try :\n",
    "    a = b\n",
    "except Exception : \n",
    "    print('Error')\n",
    "    b = 50\n",
    "    a = b\n",
    "\n",
    "print(a, b)"
   ]
  },
  {
   "cell_type": "markdown",
   "id": "d81e29f6",
   "metadata": {
    "lines_to_next_cell": 0
   },
   "source": [
    " [11-13] Error Object와 오류 내용의 인쇄"
   ]
  },
  {
   "cell_type": "code",
   "execution_count": 80,
   "id": "e1214981",
   "metadata": {},
   "outputs": [
    {
     "name": "stdout",
     "output_type": "stream",
     "text": [
      "<class 'ValueError'>\n",
      "ValueError invalid literal for int() with base 10: '3.14'\n",
      "3\n"
     ]
    }
   ],
   "source": [
    "try :\n",
    "    a = int('3.14')\n",
    "except Exception as e :\n",
    "    print(type(e))\n",
    "    print(type(e).__name__, e)\n",
    "    a = int(3.14)\n",
    "\n",
    "print(a)"
   ]
  },
  {
   "cell_type": "markdown",
   "id": "1404997c",
   "metadata": {
    "lines_to_next_cell": 0
   },
   "source": [
    " [11-14-1] else"
   ]
  },
  {
   "cell_type": "code",
   "execution_count": 81,
   "id": "0ac96640",
   "metadata": {},
   "outputs": [
    {
     "name": "stdout",
     "output_type": "stream",
     "text": [
      "40\n"
     ]
    }
   ],
   "source": [
    "try :\n",
    "    a = 10\n",
    "except NameError :\n",
    "    print('NameError')\n",
    "    a = 20\n",
    "else :\n",
    "    a += 30\n",
    "    \n",
    "print(a)"
   ]
  },
  {
   "cell_type": "markdown",
   "id": "f995eccb",
   "metadata": {
    "lines_to_next_cell": 0
   },
   "source": [
    " [11-14-2] finally"
   ]
  },
  {
   "cell_type": "code",
   "execution_count": 82,
   "id": "d871fc04",
   "metadata": {},
   "outputs": [
    {
     "name": "stdout",
     "output_type": "stream",
     "text": [
      "80\n"
     ]
    }
   ],
   "source": [
    "try :\n",
    "    a = 10\n",
    "except NameError :\n",
    "    print('NameError')\n",
    "    a = 20\n",
    "    a = b\n",
    "else :\n",
    "    a += 30\n",
    "finally :\n",
    "    a += 40\n",
    "\n",
    "print(a)  "
   ]
  },
  {
   "cell_type": "markdown",
   "id": "973bdd6d",
   "metadata": {
    "lines_to_next_cell": 0
   },
   "source": [
    " [11-15] 다양한 오류 대응"
   ]
  },
  {
   "cell_type": "code",
   "execution_count": null,
   "id": "cb1ee245",
   "metadata": {
    "lines_to_next_cell": 1
   },
   "outputs": [],
   "source": [
    "n = int(input())\n",
    "t = (1, 'kim', 2)\n",
    "\n",
    "try :\n",
    "    if n == 2 :\n",
    "        a = b\n",
    "    else :\n",
    "        a = t[n] + 1\n",
    "except TypeError as e : # 1\n",
    "    print(type(e).__name__, e)\n",
    "    a = 10\n",
    "except NameError : # 2\n",
    "    print(type(e).__name__, e)    \n",
    "    a = 20\n",
    "except IndexError : # 3\n",
    "    print(type(e).__name__, e)    \n",
    "    a = 30\n",
    "finally :\n",
    "    print(a)"
   ]
  },
  {
   "cell_type": "markdown",
   "id": "5b6451ad",
   "metadata": {
    "lines_to_next_cell": 0
   },
   "source": [
    " [12-1] 모듈 import"
   ]
  },
  {
   "cell_type": "code",
   "execution_count": null,
   "id": "6f9bbfa5",
   "metadata": {
    "lines_to_next_cell": 1
   },
   "outputs": [],
   "source": [
    "def add(a, b):\n",
    "\treturn 'add?'\n",
    "\n",
    "import my_module\n",
    "print(add(3,4), my_module.add(3,4), my_module.sub(3,4))\n",
    "\n",
    "import my_module as mm\n",
    "print(mm.add(3,4), mm.sub(3,4))\n",
    "\n",
    "import my_module as mm, your_module as ym\n",
    "print(mm.add(3,4), mm.sub(3,4))\n",
    "print(ym.mul(3,4), ym.div(3,4))"
   ]
  },
  {
   "cell_type": "markdown",
   "id": "637a63dc",
   "metadata": {
    "lines_to_next_cell": 0
   },
   "source": [
    " [12-2] 모듈의 특정 이름(name) import"
   ]
  },
  {
   "cell_type": "code",
   "execution_count": null,
   "id": "3462f3b6",
   "metadata": {},
   "outputs": [],
   "source": [
    "def add(a, b):\n",
    "    return 'add?'\n",
    "\n",
    "import my_module as mm\n",
    "from my_module import add\n",
    "\n",
    "print(add(3,4))\n",
    "print(mm.add(3,4), mm.sub(3,4))\n",
    "\n",
    "from my_module import add, sub\n",
    "print(add(3,4), sub(3,4))\n",
    "\n",
    "from my_module import *\n",
    "print(add(3,4), sub(3,4))"
   ]
  },
  {
   "cell_type": "markdown",
   "id": "944315e8",
   "metadata": {
    "lines_to_next_cell": 0
   },
   "source": [
    " [12-3] 패키지 import"
   ]
  },
  {
   "cell_type": "code",
   "execution_count": null,
   "id": "b1e79bd7",
   "metadata": {},
   "outputs": [],
   "source": [
    "import my_package.my_module as mm\n",
    "print(mm.add(3,4), mm.sub(3,4))\n",
    "\n",
    "from my_package import my_module as mm\n",
    "print(mm.add(3,4), mm.sub(3,4))\n",
    "\n",
    "from my_package.my_module import add, sub\n",
    "print(add(3,4), sub(3,4))\n",
    "\n",
    "from my_package.my_module import *\n",
    "print(add(3,4), sub(3,4))\n",
    "\n",
    "import sys\n",
    "sys.path.append(r'.\\my_package\\files')\n",
    "\n",
    "import my_module2 as mm2\n",
    "sys.path.pop()\n",
    "\n",
    "print(mm2.add(3,4), mm2.sub(3,4))"
   ]
  },
  {
   "cell_type": "markdown",
   "id": "3acedc87",
   "metadata": {
    "lines_to_next_cell": 0
   },
   "source": [
    " [12-4] import 예시"
   ]
  },
  {
   "cell_type": "code",
   "execution_count": null,
   "id": "4a49701c",
   "metadata": {},
   "outputs": [],
   "source": [
    "import pprint as pp\n",
    "from sys import getsizeof, getrefcount\n",
    "\n",
    "pp.pprint(globals())\n",
    "print(getsizeof(1234567890))\n",
    "print(getrefcount(1))\t"
   ]
  },
  {
   "cell_type": "markdown",
   "id": "dd57c1a8",
   "metadata": {
    "lines_to_next_cell": 0
   },
   "source": [
    " [12-5] pandas 모듈을 import 예시"
   ]
  },
  {
   "cell_type": "code",
   "execution_count": null,
   "id": "0b4de974",
   "metadata": {},
   "outputs": [],
   "source": [
    "import pandas as pd\n",
    "from          import DataFrame\n",
    "\n",
    "a = pd.DataFrame()\n",
    "b = DataFrame()\n",
    "\n",
    "print(a, b, sep = '\\n')"
   ]
  },
  {
   "cell_type": "markdown",
   "id": "30dcf788",
   "metadata": {
    "lines_to_next_cell": 0
   },
   "source": [
    " [13-1] 폴더 및 파일 경로 조작"
   ]
  },
  {
   "cell_type": "code",
   "execution_count": null,
   "id": "b52cf283",
   "metadata": {},
   "outputs": [],
   "source": [
    "import os\n",
    "\n",
    "cwd = os.getcwd()\n",
    "print(cwd)\n",
    "os.chdir(r'.\\files\\test')\n",
    "print(os.getcwd())\n",
    "os.chdir(cwd)\n",
    "\n",
    "print(os.path.abspath(r'.\\files\\test'))\n",
    "print(os.path.isabs(cwd + r'\\files'))\n",
    "print(os.path.relpath(r'.\\files\\test'))\n",
    "print(os.path.relpath(r'.\\files\\test\\f0.csv', r'C:\\\\'))\n",
    "\n",
    "s = cwd + r'\\files\\test\\f0.csv'\n",
    "print(os.path.basename(s))\n",
    "print(os.path.dirname(s))\n",
    "print(os.path.splitext(s))\n",
    "print(os.path.isdir(cwd))\n",
    "print(os.path.isfile(s))\n",
    "print(os.path.join(cwd, r'abc.bin'))\n",
    "print(os.path.sep, s.split(os.path.sep))"
   ]
  },
  {
   "cell_type": "markdown",
   "id": "5fd1c714",
   "metadata": {
    "lines_to_next_cell": 0
   },
   "source": [
    " [13-2] Directory의 File 목록 추출"
   ]
  },
  {
   "cell_type": "code",
   "execution_count": null,
   "id": "cec9f86e",
   "metadata": {},
   "outputs": [],
   "source": [
    "import os, glob\n",
    "s = r'.\\files'\n",
    "g1 = os.listdir(s)\n",
    "g2 = glob.glob(os.path.join(s, '*'))\n",
    "g3 = glob.glob(os.path.join(s, r'test\\*.csv'))\n",
    "g4 = [os.path.basename(x) for x in glob.glob(r'.\\files\\test\\f[0-3].csv')]\n",
    "g5 = [os.path.basename(x) for x in glob.glob(r'.\\files\\test\\f?.c??')]\n",
    "print(g1, g2, g3, g4, g5, sep = '\\n')"
   ]
  },
  {
   "cell_type": "markdown",
   "id": "fd7ab9b2",
   "metadata": {
    "lines_to_next_cell": 0
   },
   "source": [
    " [13-3] glob 활용 예"
   ]
  },
  {
   "cell_type": "code",
   "execution_count": null,
   "id": "ead5485e",
   "metadata": {},
   "outputs": [],
   "source": [
    "import os\n",
    "import glob\n",
    "\n",
    "def dir_print(d, n) :\n",
    "    print('-' * 3 * n + d.split(os.path.sep)[-1])\n",
    "    x = sorted(glob.iglob(os.path.join(d, r'*')), key = lambda s : os.path.isfile(s))\n",
    "    \n",
    "    for f in x :\n",
    "        if os.path.isdir(f) :\n",
    "            dir_print(f, n + 1)\n",
    "        else :\n",
    "            print('-' * 3 * (n + 1) + os.path.basename(f), end = ' ')\n",
    "            print('(', os.path.getsize(f), ')')\n",
    "    return\n",
    "\n",
    "cwd = os.getcwd()\n",
    "dir_print(cwd, 0)"
   ]
  },
  {
   "cell_type": "markdown",
   "id": "fba2f72e",
   "metadata": {
    "lines_to_next_cell": 0
   },
   "source": [
    " [13-4] 폴더 생성, 파일 복사, 이름 변경, 이동"
   ]
  },
  {
   "cell_type": "code",
   "execution_count": null,
   "id": "3643fe4c",
   "metadata": {},
   "outputs": [],
   "source": [
    "import os\n",
    "import shutil\n",
    "\n",
    "shutil.rmtree(r'.\\test1', ignore_errors = True)\n",
    "os.mkdir(r'.\\test1')\n",
    "print(os.listdir('.'))\n",
    "\n",
    "os.makedirs(r'.\\test1\\test2\\test3', exist_ok = True)\n",
    "print(os.listdir(r'.\\test1'))\n",
    "print(os.listdir(r'.\\test1\\test2'))\n",
    "\n",
    "shutil.copyfile(r'.\\test.txt', r'.\\test1\\test_cpy.txt')\n",
    "os.rename(r'.\\test1\\test_cpy.txt', r'.\\test1\\test_new.txt')\n",
    "shutil.move(r'.\\test1\\test_new.txt', r'.\\test1\\test2')\n",
    "print(os.listdir(r'.\\test1\\test2'))\n",
    "\n",
    "os.rename(r'.\\test1\\test2\\test_new.txt', r'.\\test1\\test_ren.txt')\n",
    "print(os.listdir(r'.\\test1'))\n",
    "print(os.listdir(r'.\\test1\\test2'))"
   ]
  },
  {
   "cell_type": "markdown",
   "id": "3542ef2a",
   "metadata": {
    "lines_to_next_cell": 0
   },
   "source": [
    " [13-5] 폴더 복사, 폴더 삭제, 파일 삭제"
   ]
  },
  {
   "cell_type": "code",
   "execution_count": null,
   "id": "095f426d",
   "metadata": {},
   "outputs": [],
   "source": [
    "import os\n",
    "import shutil\n",
    "\n",
    "shutil.rmtree(r'.\\test_cpy', ignore_errors = True)\n",
    "shutil.copytree(r'.\\test1', r'.\\test_cpy')\n",
    "print(os.listdir(r'.'))\n",
    "\n",
    "print(os.listdir(r'.\\test1'))\n",
    "os.remove(r'.\\test1\\test_ren.txt')\n",
    "print(os.listdir(r'.\\test1'))\n",
    "\n",
    "os.rmdir(r'.\\test1\\test2\\test3')\n",
    "print(os.listdir(r'.\\test1\\test2'))"
   ]
  },
  {
   "cell_type": "markdown",
   "id": "1f57cdd9",
   "metadata": {
    "lines_to_next_cell": 0
   },
   "source": [
    " [13-6] os.walk 동작 이해"
   ]
  },
  {
   "cell_type": "code",
   "execution_count": null,
   "id": "c3159c73",
   "metadata": {},
   "outputs": [],
   "source": [
    "import os\n",
    "\n",
    "g = os.walk('.\\my_package')\n",
    "\n",
    "for path, dname, fname in g :\n",
    "    print(path, dname, fname, sep = '\\n')"
   ]
  },
  {
   "cell_type": "markdown",
   "id": "280db199",
   "metadata": {
    "lines_to_next_cell": 0
   },
   "source": [
    " [13-7] 파일이 존재하는 현재 폴더부터 모든 폴더 이름 인쇄"
   ]
  },
  {
   "cell_type": "code",
   "execution_count": null,
   "id": "0a89a91d",
   "metadata": {},
   "outputs": [],
   "source": [
    "import os\n",
    "\n",
    "def search_file(d, n) :\n",
    "    l = []\n",
    "    for path, dname, fname in os.walk(d) :\n",
    "        if n  in fname :\n",
    "            l.append(path)\n",
    "    return l\n",
    "\n",
    "s = search_file(os.getcwd(),'f3.csv')\n",
    "print(*s, sep = '\\n')"
   ]
  },
  {
   "cell_type": "markdown",
   "id": "43fe1fd0",
   "metadata": {
    "lines_to_next_cell": 0
   },
   "source": [
    " [13-8] Text 계통 파일 열기, 읽기, 쓰기"
   ]
  },
  {
   "cell_type": "code",
   "execution_count": null,
   "id": "b9192fb8",
   "metadata": {},
   "outputs": [],
   "source": [
    "import os\n",
    "\n",
    "cwd = os.getcwd()\n",
    "file = os.path.join(cwd, r'f1.csv')\n",
    "w = 'lee,A,55,66,77'\n",
    "\n",
    "f1 = open(file, 'w')\n",
    "f1.write(w)\n",
    "f1.close()\n",
    "\n",
    "f1 = open(file, 'r')\n",
    "d1 = f1.read()\n",
    "f1.close()\n",
    "print(d1, end = '\\n\\n')"
   ]
  },
  {
   "cell_type": "markdown",
   "id": "919b61f7",
   "metadata": {
    "lines_to_next_cell": 0
   },
   "source": [
    " [13-9-1] File Stream의 이해 - 1"
   ]
  },
  {
   "cell_type": "code",
   "execution_count": null,
   "id": "b7dd0de1",
   "metadata": {},
   "outputs": [],
   "source": [
    "f4 = open(r'.\\f4.csv', 'r+')\n",
    "f4.write('lee,A,55,66,77')\n",
    "d4 = f4.read()\n",
    "f4.close()\n",
    "print(d4)"
   ]
  },
  {
   "cell_type": "markdown",
   "id": "9569ff2e",
   "metadata": {
    "lines_to_next_cell": 0
   },
   "source": [
    " [13-9-2] File Stream의 이해 - 2"
   ]
  },
  {
   "cell_type": "code",
   "execution_count": null,
   "id": "af0b1d61",
   "metadata": {},
   "outputs": [],
   "source": [
    "f4 = open(r'.\\f4_new.csv', 'r+')\n",
    "print(f4.tell())\n",
    "f4.read()\n",
    "print(f4.tell())\n",
    "f4.write('lee,A,55,66,77')\n",
    "print(f4.tell())\n",
    "f4.seek(0)\n",
    "print(f4.tell())\n",
    "d4 = f4.read()\n",
    "f4.close()\n",
    "print(d4)"
   ]
  },
  {
   "cell_type": "markdown",
   "id": "593a4322",
   "metadata": {
    "lines_to_next_cell": 0
   },
   "source": [
    " [13-10] Text 파일 쓰기 : write, writelines"
   ]
  },
  {
   "cell_type": "code",
   "execution_count": null,
   "id": "075359f8",
   "metadata": {},
   "outputs": [],
   "source": [
    "w1 = 'lee,A,55,66,77'\n",
    "w2 = ['choi,A,39,56,29', 'lew,B,70,80,60']\n",
    "w3 = ['park,B,72,67,80\\n', 'song,B,65,70,90\\n']\n",
    "\n",
    "f2 = open(r'.\\f2.csv', 'r')\n",
    "d2 = f2.read()\n",
    "f2.close()\n",
    "print(d2)\n",
    "\n",
    "f2 = open(r'.\\f2.csv', 'a')\n",
    "f2.write(w1 + '\\n')\n",
    "f2.write('\\n'.join(w2) + '\\n')\n",
    "f2.writelines(w3)\n",
    "f2.close()\n",
    "\n",
    "f2 = open(r'.\\f2.csv', 'r')\n",
    "d2 = f2.read()\n",
    "f2.close()\n",
    "print(d2)"
   ]
  },
  {
   "cell_type": "markdown",
   "id": "b2cd4e17",
   "metadata": {
    "lines_to_next_cell": 0
   },
   "source": [
    " [13-11] Text 파일 읽기 : read, readline, readlines"
   ]
  },
  {
   "cell_type": "code",
   "execution_count": null,
   "id": "cc277155",
   "metadata": {},
   "outputs": [],
   "source": [
    "f3 = open(r'.\\files\\f3.csv', 'r')\n",
    "d = f3.readline()\n",
    "l = f3.readlines()\n",
    "f3.close()\n",
    "print(d)\n",
    "print(l, end = '\\n\\n')\n",
    "\n",
    "f3 = open(r'.\\files\\f3.csv', 'r')\n",
    "l = list(f3)\n",
    "f3.close()\n",
    "print(l)\n",
    "\n",
    "f3 = open(r'.\\files\\f3.csv', 'r')\n",
    "f5 = open(r'.\\f5.csv', 'w')\n",
    "f3.readline()\n",
    "l = []\n",
    "\n",
    "for n, s in enumerate(f3, 1) :\n",
    "    l.append(str(n) + ',' + s)\n",
    "\n",
    "f5.writelines(l)\n",
    "f3.close()\n",
    "f5.close()\n",
    "print(l)"
   ]
  },
  {
   "cell_type": "markdown",
   "id": "7acbf531",
   "metadata": {
    "lines_to_next_cell": 0
   },
   "source": [
    " [13-12-1] 안전한 파일 열기"
   ]
  },
  {
   "cell_type": "code",
   "execution_count": null,
   "id": "5c252c31",
   "metadata": {},
   "outputs": [],
   "source": [
    "import os\n",
    "\n",
    "f = r'.\\test.txt'\n",
    "\n",
    "if os.access(f, os.F_OK|os.R_OK|os.W_OK) :\n",
    "    with open(f, 'r+') as fp :\n",
    "        d = fp.read()\n",
    "    print(d)\n",
    "else : \n",
    "    print('File Error')"
   ]
  },
  {
   "cell_type": "markdown",
   "id": "bf61f3fc",
   "metadata": {
    "lines_to_next_cell": 0
   },
   "source": [
    " [13-12-2] 파일 핸들링 오류 처리"
   ]
  },
  {
   "cell_type": "code",
   "execution_count": null,
   "id": "4c180621",
   "metadata": {},
   "outputs": [],
   "source": [
    "try :\n",
    "    with open(r'a.txt', 'r') as fp :\n",
    "        d = fp.read()\n",
    "        print(d)\n",
    "except IOError : \n",
    "    print('File Open Error')"
   ]
  },
  {
   "cell_type": "markdown",
   "id": "4823ce4a",
   "metadata": {
    "lines_to_next_cell": 0
   },
   "source": [
    " [13-13] 파일 복사 프로그램 "
   ]
  },
  {
   "cell_type": "code",
   "execution_count": null,
   "id": "f1388f10",
   "metadata": {},
   "outputs": [],
   "source": [
    "import os\n",
    "import shutil\n",
    "\n",
    "f = input()\n",
    "n = input()\n",
    "\n",
    "# 코드 작성"
   ]
  },
  {
   "cell_type": "markdown",
   "id": "0cf095d1",
   "metadata": {
    "lines_to_next_cell": 0
   },
   "source": [
    " [13-14-1] pickle 모듈, pickling"
   ]
  },
  {
   "cell_type": "code",
   "execution_count": null,
   "id": "f0f94e67",
   "metadata": {},
   "outputs": [],
   "source": [
    "import pickle\n",
    "\n",
    "with open(r'test.txt', 'r') as fp :\n",
    "    d = fp.readlines()[:4]\n",
    "    print(d)\n",
    "\n",
    "with open(r'pk1.pkl', 'wb') as fp :\n",
    "    pickle.dump((10,'kim',30), fp)\n",
    "    pickle.dump(d, fp)"
   ]
  },
  {
   "cell_type": "markdown",
   "id": "985c0a56",
   "metadata": {
    "lines_to_next_cell": 0
   },
   "source": [
    " [13-14-2] pickle 모듈, unpickling"
   ]
  },
  {
   "cell_type": "code",
   "execution_count": null,
   "id": "002e091c",
   "metadata": {},
   "outputs": [],
   "source": [
    "import pickle\n",
    "\n",
    "with open(r'pk1.pkl', 'rb') as fp :\n",
    "    t = pickle.load(fp)\n",
    "    f = pickle.load(fp)\n",
    "\n",
    "print(t, f, sep = '\\n')"
   ]
  },
  {
   "cell_type": "markdown",
   "id": "92742465",
   "metadata": {
    "lines_to_next_cell": 0
   },
   "source": [
    " [13-15-1] shelve 모듈, 보존 가능한 dict 변수 생성"
   ]
  },
  {
   "cell_type": "code",
   "execution_count": null,
   "id": "5498eb09",
   "metadata": {},
   "outputs": [],
   "source": [
    "import shelve\n",
    "\n",
    "slv1 = shelve.open('slv1')\n",
    "slv1['day'] = 0\n",
    "slv1['sale'] = ['note', 'pen', 'ink', 'cup']\n",
    "slv1.close()"
   ]
  },
  {
   "cell_type": "markdown",
   "id": "305c030c",
   "metadata": {
    "lines_to_next_cell": 0
   },
   "source": [
    " [13-15-2] shelve 모듈, 보존 가능한 dict 변수 사용"
   ]
  },
  {
   "cell_type": "code",
   "execution_count": null,
   "id": "be2cad78",
   "metadata": {},
   "outputs": [],
   "source": [
    "import shelve\n",
    "\n",
    "slv1 = shelve.open('slv1')\n",
    "s = slv1['sale']\n",
    "d = slv1['day']\n",
    "slv1['day'] = (d + 1) % 4\n",
    "slv1['price'] = 1000\n",
    "p = slv1['price']\n",
    "slv1.close()\n",
    "\n",
    "print(s, d, s[d], p, sep = '\\n')"
   ]
  },
  {
   "cell_type": "markdown",
   "id": "25195d63",
   "metadata": {
    "lines_to_next_cell": 0
   },
   "source": [
    " [13-16] Text 파일 조작 연습"
   ]
  },
  {
   "cell_type": "code",
   "execution_count": null,
   "id": "7f77453e",
   "metadata": {},
   "outputs": [],
   "source": [
    " 코드 작성"
   ]
  },
  {
   "cell_type": "markdown",
   "id": "1a779141",
   "metadata": {
    "lines_to_next_cell": 0
   },
   "source": [
    " [14-1] 정규식 모듈 기본 함수 이해"
   ]
  },
  {
   "cell_type": "code",
   "execution_count": null,
   "id": "6767d8ec",
   "metadata": {},
   "outputs": [],
   "source": [
    "import re\n",
    "\n",
    "r1 = re.split(r'\\d', 'abc1de2ABC')\n",
    "r2 = re.split(r'\\d+', 'abc1de21ABC345xyZA')\n",
    "r3 = re.split(r'\\d+', 'abc1de21ABC345xyZA', 2)\n",
    "r4 = re.sub(r'\\d{4}', 'XXXX', '010-1234-5678')\n",
    "r5 = re.sub(r'\\d{4}', 'XXXX', '010-1234-5678', 1)\n",
    "r6 = re.sub(r'\\d{6}$', 'xxxxxx', '280203-1347654')\n",
    "r7 = re.findall(r'[a-z]{2,3}', 'abc1de2ABC')\n",
    "r8 = re.match(r'\\d{3}', '123-456-7890')\n",
    "r9 = re.match(r'\\d{4}', '123-456-7890')\n",
    "r10 = re.search(r'\\d{4}', '123-456-7890')\n",
    "\n",
    "print(r1, r2, r3, r4, r5, r6, r7, r8, r9, r10, sep='\\n')"
   ]
  },
  {
   "cell_type": "markdown",
   "id": "f9a70eb5",
   "metadata": {
    "lines_to_next_cell": 0
   },
   "source": [
    " [14-2-1] re.Match Object - 1"
   ]
  },
  {
   "cell_type": "code",
   "execution_count": null,
   "id": "d5103235",
   "metadata": {},
   "outputs": [],
   "source": [
    "import re\n",
    "\n",
    "ptn = re.compile(r'\\d{4}')\n",
    "r = re.search(ptn, '123-456-7890')\n",
    "\n",
    "print(r)"
   ]
  },
  {
   "cell_type": "markdown",
   "id": "16192297",
   "metadata": {
    "lines_to_next_cell": 0
   },
   "source": [
    " [14-2-2] re.Match Object - 2"
   ]
  },
  {
   "cell_type": "code",
   "execution_count": null,
   "id": "6acafb04",
   "metadata": {},
   "outputs": [],
   "source": [
    "import re\n",
    "\n",
    "r = re.search(r'\\d{4}', '123-456-7890')\n",
    "\n",
    "if r :\n",
    "    print(r.re, r.string)\n",
    "    print(r.start(), r.end(), r.span(), r.group())\n",
    "else :\n",
    "    print('Search Fail')"
   ]
  },
  {
   "cell_type": "markdown",
   "id": "0985c1a6",
   "metadata": {
    "lines_to_next_cell": 0
   },
   "source": [
    " [14-3] findall, finditer"
   ]
  },
  {
   "cell_type": "code",
   "execution_count": null,
   "id": "cccf0353",
   "metadata": {},
   "outputs": [],
   "source": [
    "import re\n",
    "\n",
    "r = re.findall('[a-zA-Z]+', 'abc1de21ABC345xyZA98')\n",
    "print(r)"
   ]
  },
  {
   "cell_type": "markdown",
   "id": "83392a3b",
   "metadata": {
    "lines_to_next_cell": 0
   },
   "source": [
    " [14-4] search의 반복적 사용"
   ]
  },
  {
   "cell_type": "code",
   "execution_count": null,
   "id": "e884a957",
   "metadata": {},
   "outputs": [],
   "source": [
    "import re\n",
    "\n",
    "s = 'abc1de21ABC345xyZA98'\n",
    "pos = 0\n",
    "\n",
    "while True :\n",
    "    r = re.search('[a-zA-Z]+', s[pos:])\n",
    "    if r :\n",
    "        print(pos + r.start(), pos + r.end(), r.group())\n",
    "        pos += r.end()\n",
    "    else :\n",
    "        break"
   ]
  },
  {
   "cell_type": "markdown",
   "id": "16dfbfe4",
   "metadata": {
    "lines_to_next_cell": 0
   },
   "source": [
    " [14-5] re의 flag 옵션"
   ]
  },
  {
   "cell_type": "code",
   "execution_count": null,
   "id": "d30829ee",
   "metadata": {},
   "outputs": [],
   "source": [
    "import re\n",
    "\n",
    "r1 = re.search(r'.+', 'Willtek\\nPython\\n')\n",
    "r2 = re.search(r'.+', 'Willtek\\nPython\\n', re.S)\n",
    "\n",
    "print(r1.group(), r2.group(), sep = '\\n')\n",
    "\n",
    "r3 = re.findall('will', 'WILLtekwillTEKwiLLtek')\n",
    "r4 = re.findall('will', 'WILLtekwillTEKwiLLtek', re.I)\n",
    "\n",
    "print(r3, r4, sep = '\\n')\n",
    "\n",
    "r5 = re.findall(r'^Will.*', 'Willtek\\nWillson\\n')\n",
    "r6 = re.findall(r'^Will.*', 'Willtek\\nWillson\\n', re.M)\n",
    "\n",
    "print(r5, r6, sep = '\\n')"
   ]
  },
  {
   "cell_type": "markdown",
   "id": "e3c46a12",
   "metadata": {
    "lines_to_next_cell": 0
   },
   "source": [
    " [14-6] re 그룹"
   ]
  },
  {
   "cell_type": "code",
   "execution_count": null,
   "id": "0d209a0b",
   "metadata": {},
   "outputs": [],
   "source": [
    "import re\n",
    "\n",
    "r = re.search(r'([a-zA-Z]+)\\s+(\\d+)-(\\d+)', 'Kim  3-12-27')\n",
    "\n",
    "print(r.group(), r.group(0))\n",
    "print(r.group(1), r.group(2), r.group(3))\n",
    "print(r.group(3,1), r.groups())\n",
    "print()\n",
    "\n",
    "r = re.search(r'(?P<name>[a-zA-Z]+)\\s+(?P<grade>\\d+)-(?P<class>\\d+)', 'Kim 3-12-27')\n",
    "\n",
    "print(r.group(), r.group(0))\n",
    "print(r.group(1), r.group(2), r.group(3))\n",
    "print(r.group('name'), r.group('grade'))\n",
    "print(r.group('class',1) ,r.groups())\n",
    "print(r.groupdict())"
   ]
  },
  {
   "cell_type": "markdown",
   "id": "279e8b5c",
   "metadata": {
    "lines_to_next_cell": 0
   },
   "source": [
    " [14-7] fullmatch"
   ]
  },
  {
   "cell_type": "code",
   "execution_count": null,
   "id": "0b512b26",
   "metadata": {},
   "outputs": [],
   "source": [
    "import re\n",
    "\n",
    "x = ['010-1234-5678', '(031)274-8323', '011-274-1234', '010-8888-9999']\n",
    "\n",
    "for y in x :\n",
    "    r = re.fullmatch(r'\\d{3}-\\d{4}-\\d{4}', y)\n",
    "    if r :\n",
    "        print(r.group())"
   ]
  },
  {
   "cell_type": "markdown",
   "id": "89e2bb8d",
   "metadata": {
    "lines_to_next_cell": 0
   },
   "source": [
    " [14-8] 복잡한 re 그룹 탐색"
   ]
  },
  {
   "cell_type": "code",
   "execution_count": null,
   "id": "0c28f868",
   "metadata": {},
   "outputs": [],
   "source": [
    "import re\n",
    "\n",
    "x = ['(010)1234-5678', '( 018 )  292-1111', '011-274 - 1234', ' 010) 8888 -9999']\n",
    "\n",
    "for y in x :\n",
    "    r = re.search(r'[\\(\\s]*\\s*(\\d{3})\\s*[\\)]*\\s*(\\d{3,4})\\s*-s*(\\d{4})', y)\n",
    "    if r :\n",
    "        print('-'.join(r.groups()))"
   ]
  },
  {
   "cell_type": "markdown",
   "id": "2d58b28a",
   "metadata": {
    "lines_to_next_cell": 0
   },
   "source": [
    " [14-9] 암호 적합성 검사"
   ]
  },
  {
   "cell_type": "code",
   "execution_count": null,
   "id": "edda5014",
   "metadata": {},
   "outputs": [],
   "source": [
    "import re\n",
    "\n",
    "pw = ['$Abcd1234$', '!Abcd1234', 'willTek337^^', '****P2thon13', '((Acce55))', '!!@@AxCd%%12', 'Willtek!!']\n",
    "\n",
    "def check_pw(s) :\n",
    "    \n",
    "    # 코드 작성\n",
    "\n",
    "for s in pw :\n",
    "    print(check_pw(s))"
   ]
  },
  {
   "cell_type": "markdown",
   "id": "9593bbd6",
   "metadata": {
    "lines_to_next_cell": 0
   },
   "source": [
    " [C] "
   ]
  },
  {
   "cell_type": "code",
   "execution_count": null,
   "id": "8af03d62",
   "metadata": {},
   "outputs": [],
   "source": [
    "import sys\n",
    "\n",
    "f1 = open('score1.csv', 'r')\n",
    "d = f1.read()\n",
    "f1.close()\n",
    "\n",
    "print(d)\n",
    "\n",
    "# 코드 작성\n",
    "\n",
    "f2 = open('score2.csv', 'w')\n",
    "f2.write(r)\n",
    "f2.close()"
   ]
  }
 ],
 "metadata": {
  "jupytext": {
   "cell_metadata_filter": "-all",
   "main_language": "python",
   "notebook_metadata_filter": "-all"
  },
  "kernelspec": {
   "display_name": "Python 3 (ipykernel)",
   "language": "python",
   "name": "python3"
  },
  "language_info": {
   "codemirror_mode": {
    "name": "ipython",
    "version": 3
   },
   "file_extension": ".py",
   "mimetype": "text/x-python",
   "name": "python",
   "nbconvert_exporter": "python",
   "pygments_lexer": "ipython3",
   "version": "3.10.9"
  },
  "varInspector": {
   "cols": {
    "lenName": 16,
    "lenType": 16,
    "lenVar": 40
   },
   "kernels_config": {
    "python": {
     "delete_cmd_postfix": "",
     "delete_cmd_prefix": "del ",
     "library": "var_list.py",
     "varRefreshCmd": "print(var_dic_list())"
    },
    "r": {
     "delete_cmd_postfix": ") ",
     "delete_cmd_prefix": "rm(",
     "library": "var_list.r",
     "varRefreshCmd": "cat(var_dic_list()) "
    }
   },
   "types_to_exclude": [
    "module",
    "function",
    "builtin_function_or_method",
    "instance",
    "_Feature"
   ],
   "window_display": false
  }
 },
 "nbformat": 4,
 "nbformat_minor": 5
}
