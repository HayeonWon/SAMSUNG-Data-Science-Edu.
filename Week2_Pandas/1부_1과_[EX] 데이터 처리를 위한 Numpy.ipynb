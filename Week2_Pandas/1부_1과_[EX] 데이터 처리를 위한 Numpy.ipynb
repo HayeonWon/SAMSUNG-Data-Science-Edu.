{
 "cells": [
  {
   "cell_type": "code",
   "execution_count": 1,
   "metadata": {},
   "outputs": [],
   "source": [
    "from IPython.core.interactiveshell import InteractiveShell\n",
    "InteractiveShell.ast_node_interactivity = \"all\"\n",
    "\n",
    "def prt(*pVPK) :\n",
    "    print(*pVPK, sep = '\\n\\n', end = '\\n\\n')\n",
    "    \n",
    "import numpy as np\n",
    "import datetime, sys    "
   ]
  },
  {
   "cell_type": "markdown",
   "metadata": {},
   "source": [
    "### [예제1] Python List 와 NumPy 배열"
   ]
  },
  {
   "cell_type": "markdown",
   "metadata": {},
   "source": [
    "* numpy 배열 함수는 실수, 정수, 문자를 다 가질 수 있음\n",
    "\n",
    "    ex) np.array(['A','B'])"
   ]
  },
  {
   "cell_type": "code",
   "execution_count": null,
   "metadata": {},
   "outputs": [],
   "source": []
  },
  {
   "cell_type": "code",
   "execution_count": 2,
   "metadata": {
    "scrolled": true
   },
   "outputs": [
    {
     "name": "stdout",
     "output_type": "stream",
     "text": [
      "time:  0:00:01.417604\n",
      "size:  160000056\n"
     ]
    }
   ],
   "source": [
    "# [1]\n",
    "# list와 list comprehension 생성\n",
    "# numpy 보다 느림\n",
    "\n",
    "start = datetime.datetime.now()\n",
    "l = list(range(20000000))\n",
    "a = [i+2 for i in l]\n",
    "end = datetime.datetime.now()\n",
    "\n",
    "print('time: ', end - start)\n",
    "print('size: ', sys.getsizeof(l))"
   ]
  },
  {
   "cell_type": "code",
   "execution_count": 3,
   "metadata": {},
   "outputs": [
    {
     "name": "stdout",
     "output_type": "stream",
     "text": [
      "time:  0:00:00.231287\n",
      "size:  80000096\n"
     ]
    }
   ],
   "source": [
    "# [2]\n",
    "# numpy 배열 생성\n",
    "# python list 보다 빠르고 크기도 작음\n",
    "\n",
    "# arrange : array 생성 함수\n",
    "\n",
    "start = datetime.datetime.now()\n",
    "a = np.arange(20000000)\n",
    "a = a + 2\n",
    "end = datetime.datetime.now()\n",
    "\n",
    "print('time: ', end - start)\n",
    "print('size: ', sys.getsizeof(a))"
   ]
  },
  {
   "cell_type": "markdown",
   "metadata": {},
   "source": [
    "### [예제2] ndarry 생성"
   ]
  },
  {
   "cell_type": "code",
   "execution_count": 4,
   "metadata": {
    "scrolled": true
   },
   "outputs": [
    {
     "name": "stdout",
     "output_type": "stream",
     "text": [
      "<class 'numpy.ndarray'> 1 (3,) int32\n",
      "<class 'numpy.ndarray'> 2 (4, 3) int32\n",
      "<class 'numpy.ndarray'> 3 (2, 4, 3) int32\n"
     ]
    }
   ],
   "source": [
    "# [1-1] \n",
    "\n",
    "a1 = np.array([1,2,3])\n",
    "a2 = np.array([[1,2,3],[4,5,6],[7,8,9],[10,11,12]])\n",
    "a3 = np.array([a2, a2])\n",
    "\n",
    "print(type(a1), a1.ndim, a1.shape, a1.dtype) # type=np.ndarray, ndim=1(1차원), shape=3, dtype=int32\n",
    "print(type(a2), a2.ndim, a2.shape, a2.dtype) # type=np.ndarray, ndim=2(2차원), shape=(4,3), dtype=int \n",
    "print(type(a3), a3.ndim, a3.shape, a3.dtype) # type=np.ndarray, ndim=1(3차원), shape=(2,4,3), dtype=int "
   ]
  },
  {
   "cell_type": "code",
   "execution_count": 5,
   "metadata": {},
   "outputs": [
    {
     "name": "stdout",
     "output_type": "stream",
     "text": [
      "2 [2 3] 6 6\n",
      "[[4 5 6]]\n",
      "[[2 3]\n",
      " [5 6]]\n"
     ]
    }
   ],
   "source": [
    "# [1-2] \n",
    "\n",
    "a1 = np.array([1,2,3])\n",
    "a2 = np.array([[1,2,3],[4,5,6],[7,8,9],[10,11,12]])\n",
    "a3 = np.array([a2, a2])\n",
    "\n",
    "print(a1[1], a1[1:], a2[1][2], a2[1,2])\n",
    "print(a2[0:2][1:]) # a2[0:2] 결과에 [1:] 실행\n",
    "print(a2[0:2, 1:]) # a2의 0~1행, 1~마지막열 추출"
   ]
  },
  {
   "cell_type": "code",
   "execution_count": 6,
   "metadata": {
    "scrolled": false
   },
   "outputs": [
    {
     "name": "stdout",
     "output_type": "stream",
     "text": [
      "[1 2 3 4] int32\n",
      "[0. 1. 2. 3. 4. 5. 6. 7. 8. 9.] float64\n",
      "[1. 2. 3. 4.] float64\n",
      "[0 1 2 3 4] int32\n"
     ]
    }
   ],
   "source": [
    "# [2-1] \n",
    "\n",
    "a = np.array((1,2,3,4))\n",
    "b = np.array(range(0,10), dtype = float) # dtype = float : float64 타입으로 생성\n",
    "c = np.array(a, dtype = float)\n",
    "d = np.arange(5)\n",
    "\n",
    "print(a, a.dtype)\n",
    "print(b, b.dtype)\n",
    "print(c, c.dtype)\n",
    "print(d, d.dtype)"
   ]
  },
  {
   "cell_type": "code",
   "execution_count": 7,
   "metadata": {},
   "outputs": [
    {
     "name": "stdout",
     "output_type": "stream",
     "text": [
      "[0. 1. 2. 3. 4. 5.] float64\n",
      "[2. 3. 4. 5. 6.] float64\n",
      "[2 4 6] int32\n",
      "[2.  2.2 2.4 2.6 2.8] float64\n",
      "[10  9  8  7  6] int32\n"
     ]
    }
   ],
   "source": [
    "# [2-2] \n",
    "\n",
    "e = np.arange(5.9)\n",
    "f = np.arange(2, 7, dtype = float)\n",
    "g = np.arange(2, 7, 2)\n",
    "h = np.arange(2, 3, 0.2)\n",
    "i = np.arange(10, 5, -1)\n",
    "\n",
    "print(e, e.dtype)\n",
    "print(f, f.dtype)\n",
    "print(g, g.dtype)\n",
    "print(h, h.dtype)\n",
    "print(i, i.dtype)"
   ]
  },
  {
   "cell_type": "markdown",
   "metadata": {},
   "source": [
    "### [예제3] reshape 메서드"
   ]
  },
  {
   "cell_type": "code",
   "execution_count": 8,
   "metadata": {},
   "outputs": [
    {
     "name": "stdout",
     "output_type": "stream",
     "text": [
      "[[ 0  1  2  3]\n",
      " [ 4  5  6  7]\n",
      " [ 8  9 10 11]]\n",
      "[[ 0  1  2  3]\n",
      " [ 4  5  6  7]\n",
      " [ 8  9 10 11]]\n",
      "[[ 0  1  2]\n",
      " [ 3  4  5]\n",
      " [ 6  7  8]\n",
      " [ 9 10 11]]\n"
     ]
    }
   ],
   "source": [
    "# [1] \n",
    "# x의 개수와 reshape 개수가 반드시 같아야함!\n",
    "\n",
    "x = np.arange(12)\n",
    "r1 = np.reshape(x, (3,4))\n",
    "r2 = x.reshape(3,4)\n",
    "r3 = np.arange(12).reshape(4,3)\n",
    "\n",
    "print(r1)\n",
    "print(r2)\n",
    "print(r3)"
   ]
  },
  {
   "cell_type": "code",
   "execution_count": 9,
   "metadata": {},
   "outputs": [
    {
     "name": "stdout",
     "output_type": "stream",
     "text": [
      "[[1 2 3]\n",
      " [4 5 6]] (2, 3)\n",
      "[[1 2]\n",
      " [3 4]\n",
      " [5 6]] (3, 2)\n",
      "[1 2 3 4 5 6] (6,)\n"
     ]
    }
   ],
   "source": [
    "# [2] \n",
    "# -1(음수) -> 해당 축은 item수 자동 계산\n",
    "\n",
    "a = np.array([[1,2,3],[4,5,6]])\n",
    "r3 = a.reshape(-1,3)        # 0축 item 수 자동계산\n",
    "r4 = a.reshape(3, -3768743) # 1축 item 수 자동계산\n",
    "r5 = a.reshape(-1)\n",
    "\n",
    "print(r3, r3.shape)\n",
    "print(r4, r4.shape)\n",
    "print(r5, r5.shape)"
   ]
  },
  {
   "cell_type": "markdown",
   "metadata": {},
   "source": [
    "### [예제4] ndarry 연산"
   ]
  },
  {
   "cell_type": "code",
   "execution_count": 10,
   "metadata": {},
   "outputs": [
    {
     "name": "stdout",
     "output_type": "stream",
     "text": [
      "[ 6  8 10 12]\n",
      "\n"
     ]
    }
   ],
   "source": [
    "# [1]\n",
    "# element-wise : 배열간의 연산은 대응되는 item 간의 연산\n",
    "\n",
    "a1 = np.array([1,2,3,4])\n",
    "a2 = np.array([5,6,7,8])\n",
    "r1 = a1 + a2\n",
    "\n",
    "prt(r1)"
   ]
  },
  {
   "cell_type": "code",
   "execution_count": 11,
   "metadata": {},
   "outputs": [
    {
     "name": "stdout",
     "output_type": "stream",
     "text": [
      "[1 2 3 4]\n",
      "\n",
      "[[ 0  1  2  3]\n",
      " [ 4  5  6  7]\n",
      " [ 8  9 10 11]]\n",
      "\n",
      "[[ 1  2  3  4]\n",
      " [ 5  6  7  8]\n",
      " [ 9 10 11 12]]\n",
      "\n",
      "[[ 1  3  5  7]\n",
      " [ 5  7  9 11]\n",
      " [ 9 11 13 15]]\n",
      "\n"
     ]
    }
   ],
   "source": [
    "# [2\n",
    "# Broadcasting : array끼리 계산시 shape이 다르면 맞춰주기\n",
    "# item수가 1인 배열이 상대편 동일축 item 수 만큼 확장\n",
    "# 우측 align, 확장된 축은 요소수 1로 생성\n",
    "\n",
    "a1 = np.array([1,2,3,4])\n",
    "a3 = np.arange(12).reshape(3,4)  # [[0,1,2,3],[4,5,6,7],[8,9,10,11]]\n",
    "r2 = a3 + 1   # [[1,2,3,4],[5,6,7,8],[9,10,11,12]]\n",
    "r3 = a3 + a1  # [[1,3,5,7],[5,7,9,11],[9,11,13,15]]\n",
    "\n",
    "prt(a1, a3, r2, r3)"
   ]
  },
  {
   "cell_type": "code",
   "execution_count": 12,
   "metadata": {},
   "outputs": [
    {
     "name": "stdout",
     "output_type": "stream",
     "text": [
      "[[False False False  True]\n",
      " [ True  True  True  True]\n",
      " [ True  True  True  True]]\n",
      "\n"
     ]
    }
   ],
   "source": [
    "# [3] \n",
    "# boolean array : 연산 결과가 bool인 경우 boolean array 생성\n",
    "\n",
    "a3 = np.arange(12).reshape(3,4)  # [[0,1,2,3],[4,5,6,7],[8,9,10,11]]\n",
    "r4 = a3 > 2  # scalar 2를 (3,4) array로 broadcasting\n",
    "             # 연산결과 bool이므로 \"boolean array\" 생성\n",
    "prt(r4) "
   ]
  },
  {
   "cell_type": "code",
   "execution_count": 13,
   "metadata": {},
   "outputs": [
    {
     "name": "stdout",
     "output_type": "stream",
     "text": [
      "[1 2]\n",
      "\n",
      "[1. 2.]\n",
      "\n",
      "[1. 4.]\n",
      "\n"
     ]
    }
   ],
   "source": [
    "# [4] \n",
    "# Upcasting : 다른 타입 간 연산 시 큰 타입으로 upcasting 되어 연산\n",
    "\n",
    "a4 = np.array([1,2]) # type = int\n",
    "a5 = np.array([1.0,2.0]) # type = float\n",
    "r5 = a4 * a5 # 더 큰 타입인 float로 upcasting되어 연산\n",
    "\n",
    "prt(a4, a5, r5)"
   ]
  }
 ],
 "metadata": {
  "kernelspec": {
   "display_name": "Python 3 (ipykernel)",
   "language": "python",
   "name": "python3"
  },
  "language_info": {
   "codemirror_mode": {
    "name": "ipython",
    "version": 3
   },
   "file_extension": ".py",
   "mimetype": "text/x-python",
   "name": "python",
   "nbconvert_exporter": "python",
   "pygments_lexer": "ipython3",
   "version": "3.7.7"
  }
 },
 "nbformat": 4,
 "nbformat_minor": 4
}
