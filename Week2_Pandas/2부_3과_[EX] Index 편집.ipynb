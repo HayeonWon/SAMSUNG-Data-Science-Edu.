{
 "cells": [
  {
   "cell_type": "code",
   "execution_count": 1,
   "metadata": {},
   "outputs": [],
   "source": [
    "from IPython.core.interactiveshell import InteractiveShell\n",
    "InteractiveShell.ast_node_interactivity = \"all\"\n",
    "\n",
    "class disp(object):\n",
    "    template = '<div style=\"float: left;padding:10px;\"> <b>[{0}]</b> {1}</div>'\n",
    "    def __init__(self, *args):\n",
    "        self.args = args\n",
    "        \n",
    "    def _repr_html_(self):\n",
    "        return '\\n'.join( self.template.format(a, eval(a)._repr_html_()) \n",
    "                        for a in self.args)\n",
    "\n",
    "def prt(*pVPK) :\n",
    "    print(*pVPK, sep = '\\n\\n', end = '\\n\\n')\n",
    "\n",
    "    \n",
    "import pandas as pd\n",
    "import numpy as np   "
   ]
  },
  {
   "cell_type": "markdown",
   "metadata": {},
   "source": [
    "### [예제1] rename(): Index 변경"
   ]
  },
  {
   "cell_type": "code",
   "execution_count": null,
   "metadata": {},
   "outputs": [],
   "source": [
    "# [1]\n",
    "\n",
    "df = pd.DataFrame([['kim',90],['lee',80]], columns=['n','s'], index=[10,11])\n",
    "\n",
    "r1 = df.rename({10:'A'}).rename({'n':'name','s':'score'},axis=1)\n",
    "r2 = df.rename(index={10:'A'}, columns={'n':'name','s':'score'}) \n",
    "\n",
    "disp('df', 'r1', 'r2')"
   ]
  },
  {
   "cell_type": "code",
   "execution_count": null,
   "metadata": {},
   "outputs": [],
   "source": [
    "# [2]\n",
    "\n",
    "df = pd.DataFrame([['kim',90],['lee',80]], columns=['n','s'], index=[10,11])\n",
    "\n",
    "r3 = df.rename(index = float)\n",
    "r4 = df.rename(index = lambda x: x+1, columns=str.upper)\n",
    "\n",
    "disp('df', 'r3', 'r4')"
   ]
  },
  {
   "cell_type": "code",
   "execution_count": null,
   "metadata": {},
   "outputs": [],
   "source": [
    "# [3]\n",
    "\n",
    "df = pd.DataFrame([['kim',90],['lee',80]], columns=['n','s'], index=[10,11])\n",
    "r5 = df.add_prefix('@').add_suffix('#')\n",
    "\n",
    "disp('df', 'r5')"
   ]
  },
  {
   "cell_type": "code",
   "execution_count": null,
   "metadata": {},
   "outputs": [],
   "source": [
    "# [4]\n",
    "\n",
    "df = pd.DataFrame([['kim',90],['lee',80]], columns=['n','s'], index=[10,11])\n",
    "\n",
    "sr = df['n']\n",
    "r6 = sr.rename('name')\n",
    "r7 = sr.set_axis([500, 501])\n",
    "sr; r6; r7"
   ]
  },
  {
   "cell_type": "markdown",
   "metadata": {},
   "source": [
    "### [예제2] copy와 inplace parameter"
   ]
  },
  {
   "cell_type": "code",
   "execution_count": null,
   "metadata": {},
   "outputs": [],
   "source": [
    "# [1] \n",
    "\n",
    "df = pd.DataFrame([['kim',90],['lee',80]], columns=['n','s'], index=[10,11])\n",
    "df\n",
    "df1 = df.rename(columns = {'n':'name1'}) #inplace=False, copy=True\n",
    "df.loc[10, 's'] = 100\n",
    "\n",
    "disp('df', 'df1')"
   ]
  },
  {
   "cell_type": "code",
   "execution_count": null,
   "metadata": {},
   "outputs": [],
   "source": [
    "# [2] \n",
    "\n",
    "df = pd.DataFrame([['kim',90],['lee',80]], columns=['n','s'], index=[10,11])\n",
    "df\n",
    "df2 = df.rename(columns = {'n':'name2','s':'score'}, copy=False) #inplace=False\n",
    "df.loc[10, 's'] = 100\n",
    "\n",
    "disp('df', 'df2')"
   ]
  },
  {
   "cell_type": "code",
   "execution_count": null,
   "metadata": {},
   "outputs": [],
   "source": [
    "# [3]\n",
    "\n",
    "df = pd.DataFrame([['kim',90],['lee',80]], columns=['n','s'], index=[10,11])\n",
    "\n",
    "df3 = df.rename(columns = {'n':'이름'}, inplace = True) # copy무의미 \n",
    "df.loc[10, 's'] = 100\n",
    "\n",
    "print(df3)"
   ]
  },
  {
   "cell_type": "markdown",
   "metadata": {},
   "source": [
    "### [예제3] set_index() 메서드 이해\n"
   ]
  },
  {
   "cell_type": "markdown",
   "metadata": {},
   "source": [
    "* 새로운 index 설정 후 dataframe 반환(copy)"
   ]
  },
  {
   "cell_type": "code",
   "execution_count": 5,
   "metadata": {},
   "outputs": [
    {
     "data": {
      "text/html": [
       "<div>\n",
       "<style scoped>\n",
       "    .dataframe tbody tr th:only-of-type {\n",
       "        vertical-align: middle;\n",
       "    }\n",
       "\n",
       "    .dataframe tbody tr th {\n",
       "        vertical-align: top;\n",
       "    }\n",
       "\n",
       "    .dataframe thead th {\n",
       "        text-align: right;\n",
       "    }\n",
       "</style>\n",
       "<table border=\"1\" class=\"dataframe\">\n",
       "  <thead>\n",
       "    <tr style=\"text-align: right;\">\n",
       "      <th></th>\n",
       "      <th>name</th>\n",
       "      <th>id</th>\n",
       "      <th>age</th>\n",
       "    </tr>\n",
       "  </thead>\n",
       "  <tbody>\n",
       "    <tr>\n",
       "      <th>0</th>\n",
       "      <td>kim</td>\n",
       "      <td>1</td>\n",
       "      <td>20</td>\n",
       "    </tr>\n",
       "    <tr>\n",
       "      <th>1</th>\n",
       "      <td>lee</td>\n",
       "      <td>2</td>\n",
       "      <td>30</td>\n",
       "    </tr>\n",
       "  </tbody>\n",
       "</table>\n",
       "</div>"
      ],
      "text/plain": [
       "  name  id  age\n",
       "0  kim   1   20\n",
       "1  lee   2   30"
      ]
     },
     "execution_count": 5,
     "metadata": {},
     "output_type": "execute_result"
    },
    {
     "data": {
      "text/html": [
       "<div style=\"float: left;padding:10px;\"> <b>[r1]</b> <div>\n",
       "<style scoped>\n",
       "    .dataframe tbody tr th:only-of-type {\n",
       "        vertical-align: middle;\n",
       "    }\n",
       "\n",
       "    .dataframe tbody tr th {\n",
       "        vertical-align: top;\n",
       "    }\n",
       "\n",
       "    .dataframe thead th {\n",
       "        text-align: right;\n",
       "    }\n",
       "</style>\n",
       "<table border=\"1\" class=\"dataframe\">\n",
       "  <thead>\n",
       "    <tr style=\"text-align: right;\">\n",
       "      <th></th>\n",
       "      <th>name</th>\n",
       "      <th>id</th>\n",
       "      <th>age</th>\n",
       "    </tr>\n",
       "  </thead>\n",
       "  <tbody>\n",
       "    <tr>\n",
       "      <th>A</th>\n",
       "      <td>kim</td>\n",
       "      <td>1</td>\n",
       "      <td>20</td>\n",
       "    </tr>\n",
       "    <tr>\n",
       "      <th>B</th>\n",
       "      <td>lee</td>\n",
       "      <td>2</td>\n",
       "      <td>30</td>\n",
       "    </tr>\n",
       "  </tbody>\n",
       "</table>\n",
       "</div></div>\n",
       "<div style=\"float: left;padding:10px;\"> <b>[r2]</b> <div>\n",
       "<style scoped>\n",
       "    .dataframe tbody tr th:only-of-type {\n",
       "        vertical-align: middle;\n",
       "    }\n",
       "\n",
       "    .dataframe tbody tr th {\n",
       "        vertical-align: top;\n",
       "    }\n",
       "\n",
       "    .dataframe thead th {\n",
       "        text-align: right;\n",
       "    }\n",
       "</style>\n",
       "<table border=\"1\" class=\"dataframe\">\n",
       "  <thead>\n",
       "    <tr style=\"text-align: right;\">\n",
       "      <th></th>\n",
       "      <th>name</th>\n",
       "      <th>id</th>\n",
       "      <th>age</th>\n",
       "    </tr>\n",
       "    <tr>\n",
       "      <th>id</th>\n",
       "      <th></th>\n",
       "      <th></th>\n",
       "      <th></th>\n",
       "    </tr>\n",
       "  </thead>\n",
       "  <tbody>\n",
       "    <tr>\n",
       "      <th>10</th>\n",
       "      <td>kim</td>\n",
       "      <td>1</td>\n",
       "      <td>20</td>\n",
       "    </tr>\n",
       "    <tr>\n",
       "      <th>11</th>\n",
       "      <td>lee</td>\n",
       "      <td>2</td>\n",
       "      <td>30</td>\n",
       "    </tr>\n",
       "  </tbody>\n",
       "</table>\n",
       "</div></div>\n",
       "<div style=\"float: left;padding:10px;\"> <b>[r3]</b> <div>\n",
       "<style scoped>\n",
       "    .dataframe tbody tr th:only-of-type {\n",
       "        vertical-align: middle;\n",
       "    }\n",
       "\n",
       "    .dataframe tbody tr th {\n",
       "        vertical-align: top;\n",
       "    }\n",
       "\n",
       "    .dataframe thead th {\n",
       "        text-align: right;\n",
       "    }\n",
       "</style>\n",
       "<table border=\"1\" class=\"dataframe\">\n",
       "  <thead>\n",
       "    <tr style=\"text-align: right;\">\n",
       "      <th></th>\n",
       "      <th>name</th>\n",
       "      <th>id</th>\n",
       "      <th>age</th>\n",
       "    </tr>\n",
       "    <tr>\n",
       "      <th>id</th>\n",
       "      <th></th>\n",
       "      <th></th>\n",
       "      <th></th>\n",
       "    </tr>\n",
       "  </thead>\n",
       "  <tbody>\n",
       "    <tr>\n",
       "      <th>10</th>\n",
       "      <td>kim</td>\n",
       "      <td>1</td>\n",
       "      <td>20</td>\n",
       "    </tr>\n",
       "    <tr>\n",
       "      <th>11</th>\n",
       "      <td>lee</td>\n",
       "      <td>2</td>\n",
       "      <td>30</td>\n",
       "    </tr>\n",
       "  </tbody>\n",
       "</table>\n",
       "</div></div>"
      ],
      "text/plain": [
       "<__main__.disp at 0x2721e2765b0>"
      ]
     },
     "execution_count": 5,
     "metadata": {},
     "output_type": "execute_result"
    }
   ],
   "source": [
    "# [1]\n",
    "\n",
    "df = pd.DataFrame([['kim',1,20],['lee',2,30]], columns=['name','id','age'])\n",
    "\n",
    "r1 = df.set_index(np.array(['A','B']))  # np.array dtype=string 가능\n",
    "r2 = df.set_index(pd.RangeIndex(10,12, name='id'))\n",
    "r3 = df.set_index(pd.Series([10,11], name='id'))\n",
    "\n",
    "df; disp('r1', 'r2', 'r3')"
   ]
  },
  {
   "cell_type": "code",
   "execution_count": 6,
   "metadata": {},
   "outputs": [
    {
     "name": "stdout",
     "output_type": "stream",
     "text": [
      "MultiIndex([('kim', 1),\n",
      "            ('lee', 2)],\n",
      "           names=['name', 'id'])\n",
      "\n",
      "MultiIndex([('kim', 1),\n",
      "            ('lee', 2)],\n",
      "           names=['name', 'id'])\n",
      "\n"
     ]
    },
    {
     "data": {
      "text/html": [
       "<div style=\"float: left;padding:10px;\"> <b>[df]</b> <div>\n",
       "<style scoped>\n",
       "    .dataframe tbody tr th:only-of-type {\n",
       "        vertical-align: middle;\n",
       "    }\n",
       "\n",
       "    .dataframe tbody tr th {\n",
       "        vertical-align: top;\n",
       "    }\n",
       "\n",
       "    .dataframe thead th {\n",
       "        text-align: right;\n",
       "    }\n",
       "</style>\n",
       "<table border=\"1\" class=\"dataframe\">\n",
       "  <thead>\n",
       "    <tr style=\"text-align: right;\">\n",
       "      <th></th>\n",
       "      <th>name</th>\n",
       "      <th>id</th>\n",
       "      <th>age</th>\n",
       "    </tr>\n",
       "  </thead>\n",
       "  <tbody>\n",
       "    <tr>\n",
       "      <th>0</th>\n",
       "      <td>kim</td>\n",
       "      <td>1</td>\n",
       "      <td>80</td>\n",
       "    </tr>\n",
       "    <tr>\n",
       "      <th>1</th>\n",
       "      <td>lee</td>\n",
       "      <td>2</td>\n",
       "      <td>70</td>\n",
       "    </tr>\n",
       "  </tbody>\n",
       "</table>\n",
       "</div></div>\n",
       "<div style=\"float: left;padding:10px;\"> <b>[r4]</b> <div>\n",
       "<style scoped>\n",
       "    .dataframe tbody tr th:only-of-type {\n",
       "        vertical-align: middle;\n",
       "    }\n",
       "\n",
       "    .dataframe tbody tr th {\n",
       "        vertical-align: top;\n",
       "    }\n",
       "\n",
       "    .dataframe thead th {\n",
       "        text-align: right;\n",
       "    }\n",
       "</style>\n",
       "<table border=\"1\" class=\"dataframe\">\n",
       "  <thead>\n",
       "    <tr style=\"text-align: right;\">\n",
       "      <th></th>\n",
       "      <th>id</th>\n",
       "      <th>age</th>\n",
       "    </tr>\n",
       "    <tr>\n",
       "      <th>name</th>\n",
       "      <th></th>\n",
       "      <th></th>\n",
       "    </tr>\n",
       "  </thead>\n",
       "  <tbody>\n",
       "    <tr>\n",
       "      <th>kim</th>\n",
       "      <td>1</td>\n",
       "      <td>80</td>\n",
       "    </tr>\n",
       "    <tr>\n",
       "      <th>lee</th>\n",
       "      <td>2</td>\n",
       "      <td>70</td>\n",
       "    </tr>\n",
       "  </tbody>\n",
       "</table>\n",
       "</div></div>\n",
       "<div style=\"float: left;padding:10px;\"> <b>[r5]</b> <div>\n",
       "<style scoped>\n",
       "    .dataframe tbody tr th:only-of-type {\n",
       "        vertical-align: middle;\n",
       "    }\n",
       "\n",
       "    .dataframe tbody tr th {\n",
       "        vertical-align: top;\n",
       "    }\n",
       "\n",
       "    .dataframe thead th {\n",
       "        text-align: right;\n",
       "    }\n",
       "</style>\n",
       "<table border=\"1\" class=\"dataframe\">\n",
       "  <thead>\n",
       "    <tr style=\"text-align: right;\">\n",
       "      <th></th>\n",
       "      <th></th>\n",
       "      <th>age</th>\n",
       "    </tr>\n",
       "    <tr>\n",
       "      <th>name</th>\n",
       "      <th>id</th>\n",
       "      <th></th>\n",
       "    </tr>\n",
       "  </thead>\n",
       "  <tbody>\n",
       "    <tr>\n",
       "      <th>kim</th>\n",
       "      <th>1</th>\n",
       "      <td>80</td>\n",
       "    </tr>\n",
       "    <tr>\n",
       "      <th>lee</th>\n",
       "      <th>2</th>\n",
       "      <td>70</td>\n",
       "    </tr>\n",
       "  </tbody>\n",
       "</table>\n",
       "</div></div>\n",
       "<div style=\"float: left;padding:10px;\"> <b>[r6]</b> <div>\n",
       "<style scoped>\n",
       "    .dataframe tbody tr th:only-of-type {\n",
       "        vertical-align: middle;\n",
       "    }\n",
       "\n",
       "    .dataframe tbody tr th {\n",
       "        vertical-align: top;\n",
       "    }\n",
       "\n",
       "    .dataframe thead th {\n",
       "        text-align: right;\n",
       "    }\n",
       "</style>\n",
       "<table border=\"1\" class=\"dataframe\">\n",
       "  <thead>\n",
       "    <tr style=\"text-align: right;\">\n",
       "      <th></th>\n",
       "      <th></th>\n",
       "      <th>name</th>\n",
       "      <th>age</th>\n",
       "    </tr>\n",
       "    <tr>\n",
       "      <th>name</th>\n",
       "      <th>id</th>\n",
       "      <th></th>\n",
       "      <th></th>\n",
       "    </tr>\n",
       "  </thead>\n",
       "  <tbody>\n",
       "    <tr>\n",
       "      <th>kim</th>\n",
       "      <th>1</th>\n",
       "      <td>kim</td>\n",
       "      <td>80</td>\n",
       "    </tr>\n",
       "    <tr>\n",
       "      <th>lee</th>\n",
       "      <th>2</th>\n",
       "      <td>lee</td>\n",
       "      <td>70</td>\n",
       "    </tr>\n",
       "  </tbody>\n",
       "</table>\n",
       "</div></div>"
      ],
      "text/plain": [
       "<__main__.disp at 0x2721e276ac0>"
      ]
     },
     "execution_count": 6,
     "metadata": {},
     "output_type": "execute_result"
    }
   ],
   "source": [
    "# [2]\n",
    "\n",
    "df = pd.DataFrame([['kim',1,80],['lee',2,70]], columns=['name','id','age'])\n",
    "\n",
    "r4 = df.set_index('name')\n",
    "r5 = df.set_index(['name','id']) # multi-index 생성. name : level=0, id : level=1\n",
    "r6 = df.set_index('name',drop=False).set_index('id',append=True) # name을 index로 & name열그대로 -> id도 index로 추가\n",
    "\n",
    "prt(r5.index, r6.index)\n",
    "disp('df', 'r4', 'r5', 'r6')"
   ]
  },
  {
   "cell_type": "markdown",
   "metadata": {},
   "source": [
    "### [예제4] reset_index() 메서드 이해"
   ]
  },
  {
   "cell_type": "code",
   "execution_count": null,
   "metadata": {},
   "outputs": [],
   "source": [
    "df = pd.DataFrame([['kim',1,80],['lee',2,70]], columns=['name','id','exam'])\n",
    "df = df.set_index(['name', 'id'])\n",
    "\n",
    "r1 = df.reset_index(level = 0)  # level=0인 name을 column으로 넣음\n",
    "r2 = df.reset_index(0)          # level=0인 name을 column으로 넣음\n",
    "r3 = df.reset_index('name')     # level=0인 name을 column으로 넣음\n",
    "r4 = df.reset_index(level = (0,1)) # level=0,1인 name과 id를 column으로 넣고, 새로운 rangeindex 생성\n",
    "r5 = df.reset_index()              # level=0,1인 name과 id를 column으로 넣고, 새로운 rangeindex 생성\n",
    "r6 = df.reset_index(level = 1, drop = True) # level=1인 id를 column으로 넣고, 그 컬럼 drop\n",
    "\n",
    "disp('df', 'r1', 'r2', 'r3')\n",
    "disp('r4', 'r5', 'r6')"
   ]
  },
  {
   "cell_type": "markdown",
   "metadata": {},
   "source": [
    "### [예제5] reindex() 동작"
   ]
  },
  {
   "cell_type": "code",
   "execution_count": null,
   "metadata": {},
   "outputs": [],
   "source": [
    "# [1]\n",
    "\n",
    "d = {'name':['kim','lee','park'], 'id':[10,12,15],'kor':[100,90,80], 'eng':[88,66,99]}\n",
    "df = pd.DataFrame(d).set_index('name')\n",
    "df\n",
    "\n",
    "r1 = df.reindex(['park', 'song', 'kim'])\n",
    "r2 = df.reindex(['park', 'song', 'kim'], fill_value=0)\n",
    "r3 = df.reindex(['id', 'eng'], axis=1)\n",
    "r4 = df.reindex(index=['park', 'kim'], columns=['id','eng'])\n",
    "\n",
    "disp('r1', 'r2', 'r3', 'r4')"
   ]
  },
  {
   "cell_type": "code",
   "execution_count": null,
   "metadata": {},
   "outputs": [],
   "source": [
    "# [2]\n",
    "\n",
    "d = {'name':['kim','lee'],'id':[11,12],'day':['2020-12-22','2020-12-24']}\n",
    "df2 = pd.DataFrame(d).set_index('day').rename(index=np.datetime64)\n",
    "\n",
    "day = pd.date_range('2020-12-21','2020-12-25')\n",
    "r5 = df2.reindex(day, fill_value=0)\n",
    "\n",
    "disp('df2', 'r5')"
   ]
  },
  {
   "cell_type": "markdown",
   "metadata": {},
   "source": [
    "### [예제6] sort_index(), sort_value() 동작"
   ]
  },
  {
   "cell_type": "code",
   "execution_count": null,
   "metadata": {},
   "outputs": [],
   "source": [
    "# [1]\n",
    "\n",
    "df = pd.DataFrame({'id':[10,20,15,25], 'sex':list('WWMM'), \n",
    "                   'age':[30,50,20,10]}, index=['kim','lee',np.nan,'park'])\n",
    "\n",
    "r1 = df.sort_index()\n",
    "r2 = df.sort_index(axis=1, ascending=False)\n",
    "r3 = df.sort_index(na_position='first')\n",
    "\n",
    "disp('df','r1', 'r2', 'r3')"
   ]
  },
  {
   "cell_type": "code",
   "execution_count": null,
   "metadata": {
    "scrolled": true
   },
   "outputs": [],
   "source": [
    "# [2-1]\n",
    "\n",
    "r4 = df.sort_values('id', ascending=False)\n",
    "r5 = df.sort_values(['sex','id'])\n",
    "r6 = df.sort_values(['sex','id'],ascending=[True,False])\n",
    "\n",
    "disp('r4', 'r5', 'r6')"
   ]
  },
  {
   "cell_type": "code",
   "execution_count": null,
   "metadata": {},
   "outputs": [],
   "source": [
    "# [2-2]\n",
    "\n",
    "r7 = df.sort_values('park', axis=1) #error\n",
    "r8 = df.loc[:, ['id','age']].sort_values('park', axis=1)\n",
    "\n",
    "disp('df', 'r8')"
   ]
  },
  {
   "cell_type": "markdown",
   "metadata": {},
   "source": [
    "### [예제7]  df.T attrribute의 동작"
   ]
  },
  {
   "cell_type": "code",
   "execution_count": null,
   "metadata": {
    "scrolled": true
   },
   "outputs": [],
   "source": [
    "df = pd.DataFrame({'id':[10,20,15,25], 'sex':list('WWMM'), \n",
    "                   'age':[30,50,20,10]}, index=['park','kim','lee','song'])\n",
    "\n",
    "r1 = df.T\n",
    "r2 = df.T.sort_index(axis=1)\n",
    "\n",
    "disp('df', 'r1', 'r2')"
   ]
  }
 ],
 "metadata": {
  "colab": {
   "collapsed_sections": [
    "X9j6NHSVvIB7"
   ],
   "name": "DF_basic_Indexing_kim.ipynb",
   "provenance": []
  },
  "kernelspec": {
   "display_name": "Python 3 (ipykernel)",
   "language": "python",
   "name": "python3"
  },
  "language_info": {
   "codemirror_mode": {
    "name": "ipython",
    "version": 3
   },
   "file_extension": ".py",
   "mimetype": "text/x-python",
   "name": "python",
   "nbconvert_exporter": "python",
   "pygments_lexer": "ipython3",
   "version": "3.10.9"
  },
  "toc": {
   "base_numbering": 1,
   "nav_menu": {},
   "number_sections": true,
   "sideBar": true,
   "skip_h1_title": false,
   "title_cell": "Table of Contents",
   "title_sidebar": "Contents",
   "toc_cell": false,
   "toc_position": {
    "height": "calc(100% - 180px)",
    "left": "10px",
    "top": "150px",
    "width": "171.275px"
   },
   "toc_section_display": true,
   "toc_window_display": true
  }
 },
 "nbformat": 4,
 "nbformat_minor": 1
}
