{
 "cells": [
  {
   "cell_type": "code",
   "execution_count": 1,
   "metadata": {},
   "outputs": [],
   "source": [
    "from IPython.core.interactiveshell import InteractiveShell\n",
    "InteractiveShell.ast_node_interactivity = \"all\"\n",
    "\n",
    "def prt(*pVPK) :\n",
    "    print(*pVPK, sep = '\\n', end = '\\n')\n",
    "\n",
    "class disp(object):\n",
    "    template = '<div style=\"float: left;padding:10px;\"> <b>[{0}]</b> {1}</div>'\n",
    "    def __init__(self, *args):\n",
    "        self.args = args\n",
    "        \n",
    "    def _repr_html_(self):\n",
    "        return '\\n'.join( self.template.format(a, eval(a)._repr_html_()) \n",
    "                        for a in self.args)\n",
    "    \n",
    "import pandas as pd\n",
    "import numpy as np \n",
    "from datetime import datetime, timedelta, date,time\n",
    "import calendar"
   ]
  },
  {
   "cell_type": "markdown",
   "metadata": {},
   "source": [
    "### [예제1] datetime 모듈"
   ]
  },
  {
   "cell_type": "code",
   "execution_count": 2,
   "metadata": {},
   "outputs": [
    {
     "name": "stdout",
     "output_type": "stream",
     "text": [
      "r1=> 2020-01-15\n",
      "r2=> 10:30:50.445566\n",
      "r3=> 2020-01-15 10:30:45.445566\n",
      "r4=> 14 days, 0:00:00\n",
      "type(r4)=> <class 'datetime.timedelta'>\n",
      "r5=> 2020-01-25 00:00:00\n",
      "r6=> 2023-07-10 14:58:53.689756\n",
      "r7=> 2023-07-10\n",
      "r8=> 14:58:53.689756\n",
      "r9=> (2023, 7, 10)\n",
      "r10=> (14, 58, 53)\n"
     ]
    }
   ],
   "source": [
    "# [1]\n",
    "\n",
    "from datetime import datetime, timedelta, date, time\n",
    "r1 = date(2020, 1,15)\n",
    "r2 = time(10,30,50,445566)\n",
    "r3 = datetime(2020,1,15,10,30,45,445566)\n",
    "r4 = datetime(2020,1,15) - datetime(2020,1,1)\n",
    "r5 = datetime(2020,1,15) + timedelta(days=10)\n",
    "r6 = datetime.now()\n",
    "r7, r8 = r6.date(), r6.time()\n",
    "r9 = r6.year, r6.month, r7.day\n",
    "r10 = r6.hour, r6.minute, r6.second\n",
    "\n",
    "print('r1=>', r1)\n",
    "print('r2=>', r2)\n",
    "print('r3=>', r3)\n",
    "print('r4=>', r4)\n",
    "print('type(r4)=>', type(r4))\n",
    "print('r5=>', r5)\n",
    "print('r6=>', r6)\n",
    "print('r7=>', r7)\n",
    "print('r8=>', r8)\n",
    "print('r9=>', r9)\n",
    "print('r10=>', r10)"
   ]
  },
  {
   "cell_type": "markdown",
   "metadata": {},
   "source": [
    "### [예제2] Timestamp 객체"
   ]
  },
  {
   "cell_type": "code",
   "execution_count": 3,
   "metadata": {},
   "outputs": [
    {
     "data": {
      "text/plain": [
       "Timestamp('2023-03-01 00:00:00')"
      ]
     },
     "execution_count": 3,
     "metadata": {},
     "output_type": "execute_result"
    },
    {
     "data": {
      "text/plain": [
       "Timestamp('2023-03-01 00:00:00')"
      ]
     },
     "execution_count": 3,
     "metadata": {},
     "output_type": "execute_result"
    },
    {
     "data": {
      "text/plain": [
       "Timestamp('2023-03-01 12:30:50')"
      ]
     },
     "execution_count": 3,
     "metadata": {},
     "output_type": "execute_result"
    },
    {
     "data": {
      "text/plain": [
       "Timestamp('1970-04-11 00:00:00')"
      ]
     },
     "execution_count": 3,
     "metadata": {},
     "output_type": "execute_result"
    }
   ],
   "source": [
    "# [1]\n",
    "\n",
    "r1 = pd.Timestamp('2023-3-1')\n",
    "r2 = pd.Timestamp(year=2023,month=3,day=1) \n",
    "r3 = pd.Timestamp(2023, 3, 1, 12, 30, 50)\n",
    "r4 = pd.Timestamp(100, unit='d')\n",
    "r1; r2; r3; r4"
   ]
  },
  {
   "cell_type": "code",
   "execution_count": 4,
   "metadata": {},
   "outputs": [
    {
     "name": "stdout",
     "output_type": "stream",
     "text": [
      "60 9\n",
      "2023 3 1\n",
      "True False\n",
      "Wednesday March\n",
      "2023/03/01\n",
      "2023-07-10 14:59:27.327737\n"
     ]
    }
   ],
   "source": [
    "# [2]\n",
    "\n",
    "ts = pd.Timestamp('2023-3-1')\n",
    "print(ts.dayofyear, ts.weekofyear)\n",
    "print(ts.year, ts.month, ts.day)\n",
    "print(ts.is_month_start, ts.is_leap_year)\n",
    "print(ts.day_name(), ts.month_name())\n",
    "print(ts.strftime('%Y/%m/%d'))\n",
    "print(pd.Timestamp.now())"
   ]
  },
  {
   "cell_type": "markdown",
   "metadata": {},
   "source": [
    "### [예제3] Timestamp.strftime()메서드"
   ]
  },
  {
   "cell_type": "code",
   "execution_count": 5,
   "metadata": {},
   "outputs": [
    {
     "name": "stdout",
     "output_type": "stream",
     "text": [
      "01-15-20\n",
      "January-15-20 Wed\n",
      "01/15/20 12:20:45\n",
      "2020-01-15 12:20:45\n"
     ]
    }
   ],
   "source": [
    "t = pd.Timestamp('2020-1-15 12:20:45')\n",
    "print( t.strftime('%m-%d-%y') )\n",
    "print( t.strftime('%B-%d-%y %a') )\n",
    "print( t.strftime('%x %X') )\n",
    "print( t.strftime('%Y-%m-%d %H:%M:%S') )"
   ]
  },
  {
   "cell_type": "markdown",
   "metadata": {},
   "source": [
    "### [예제4] Timedelta() 함수"
   ]
  },
  {
   "cell_type": "code",
   "execution_count": 6,
   "metadata": {
    "scrolled": true
   },
   "outputs": [
    {
     "data": {
      "text/plain": [
       "Timedelta('59 days 00:00:00')"
      ]
     },
     "execution_count": 6,
     "metadata": {},
     "output_type": "execute_result"
    },
    {
     "data": {
      "text/plain": [
       "Timestamp('2020-03-21 00:00:00')"
      ]
     },
     "execution_count": 6,
     "metadata": {},
     "output_type": "execute_result"
    },
    {
     "data": {
      "text/plain": [
       "Timestamp('2020-03-21 00:00:00')"
      ]
     },
     "execution_count": 6,
     "metadata": {},
     "output_type": "execute_result"
    },
    {
     "data": {
      "text/plain": [
       "TimedeltaIndex(['5 days', '7 days', '10 days'], dtype='timedelta64[ns]', freq=None)"
      ]
     },
     "execution_count": 6,
     "metadata": {},
     "output_type": "execute_result"
    }
   ],
   "source": [
    "# [1-1]\n",
    "\n",
    "r1 = pd.Timestamp('2023-3-1') - pd.Timestamp('2023-1-1')\n",
    "r2 = pd.Timestamp('2020-3-1') + pd.Timedelta(days=20)\n",
    "r3 = pd.Timestamp('2020-3-1') + pd.Timedelta(20, unit='d')\n",
    "r4 = pd.to_timedelta([5, 7, 10], unit='d')\n",
    "r1; r2; r3; r4"
   ]
  },
  {
   "cell_type": "code",
   "execution_count": 7,
   "metadata": {},
   "outputs": [
    {
     "data": {
      "text/plain": [
       "DatetimeIndex(['2023-03-05', '2023-03-19'], dtype='datetime64[ns]', freq='2W-SUN')"
      ]
     },
     "execution_count": 7,
     "metadata": {},
     "output_type": "execute_result"
    },
    {
     "data": {
      "text/plain": [
       "DatetimeIndex(['2023-03-06 02:03:00', '2023-03-20 02:03:00'], dtype='datetime64[ns]', freq=None)"
      ]
     },
     "execution_count": 7,
     "metadata": {},
     "output_type": "execute_result"
    },
    {
     "data": {
      "text/plain": [
       "DatetimeIndex(['2023-03-05 00:00:05', '2023-03-19 00:00:10'], dtype='datetime64[ns]', freq=None)"
      ]
     },
     "execution_count": 7,
     "metadata": {},
     "output_type": "execute_result"
    },
    {
     "data": {
      "text/plain": [
       "TimedeltaIndex(['0 days', '14 days'], dtype='timedelta64[ns]', freq=None)"
      ]
     },
     "execution_count": 7,
     "metadata": {},
     "output_type": "execute_result"
    }
   ],
   "source": [
    "# [1-2]\n",
    "# date_range(start,end,periods,freq) : 고정빈도로 연속된 날짜/시간으로 구성된 DatetimeIndex 객체를 반환\n",
    "\n",
    "dt = pd.date_range('2023-3-1', '2023-3-31', freq='2W')\n",
    "r5 = dt + pd.Timedelta('1 days 2 hours 3 minutes')\n",
    "r6 = dt + pd.to_timedelta([5, 10], unit='s')\n",
    "r7 = dt - dt[0]\n",
    "dt; r5; r6; r7"
   ]
  },
  {
   "cell_type": "markdown",
   "metadata": {},
   "source": [
    "### [예제5] pd.to_datetime() 함수"
   ]
  },
  {
   "cell_type": "code",
   "execution_count": 10,
   "metadata": {
    "scrolled": false
   },
   "outputs": [
    {
     "data": {
      "text/plain": [
       "Timestamp('2023-03-01 00:00:00')"
      ]
     },
     "execution_count": 10,
     "metadata": {},
     "output_type": "execute_result"
    },
    {
     "data": {
      "text/plain": [
       "Timestamp('2023-03-01 00:00:00')"
      ]
     },
     "execution_count": 10,
     "metadata": {},
     "output_type": "execute_result"
    },
    {
     "data": {
      "text/plain": [
       "DatetimeIndex(['2023-03-01', 'NaT'], dtype='datetime64[ns]', freq=None)"
      ]
     },
     "execution_count": 10,
     "metadata": {},
     "output_type": "execute_result"
    },
    {
     "data": {
      "text/plain": [
       "DatetimeIndex(['2023-03-02', '2023-03-03'], dtype='datetime64[ns]', freq=None)"
      ]
     },
     "execution_count": 10,
     "metadata": {},
     "output_type": "execute_result"
    }
   ],
   "source": [
    "# [1-1]\n",
    "\n",
    "r1 = pd.to_datetime('01-03-2023', dayfirst=True)\n",
    "r2 = pd.to_datetime('01/03/2023', format='%d/%m/%Y')\n",
    "r3 = pd.to_datetime(['2023-3-1', '2023-13-2'], errors='coerce') # errors='coerce: 잘못된구문은 NaT로\n",
    "r4 = pd.to_datetime([1,2], unit='D', origin='2023-03-01') # \n",
    "r1; r2; r3; r4"
   ]
  },
  {
   "cell_type": "code",
   "execution_count": 11,
   "metadata": {},
   "outputs": [
    {
     "data": {
      "text/plain": [
       "DatetimeIndex(['2023-03-05', '2023-03-19'], dtype='datetime64[ns]', freq='2W-SUN')"
      ]
     },
     "execution_count": 11,
     "metadata": {},
     "output_type": "execute_result"
    },
    {
     "data": {
      "text/plain": [
       "Int64Index([5, 19], dtype='int64')"
      ]
     },
     "execution_count": 11,
     "metadata": {},
     "output_type": "execute_result"
    },
    {
     "data": {
      "text/plain": [
       "Index(['Sunday', 'Sunday'], dtype='object')"
      ]
     },
     "execution_count": 11,
     "metadata": {},
     "output_type": "execute_result"
    },
    {
     "data": {
      "text/plain": [
       "Index(['Mar-05', 'Mar-19'], dtype='object')"
      ]
     },
     "execution_count": 11,
     "metadata": {},
     "output_type": "execute_result"
    }
   ],
   "source": [
    "# [1-2]\n",
    "\n",
    "r5 = pd.date_range('2023-3-1', '2023-3-31',freq='2W') # 3월1일 있는 주의 일요일부터 2W\n",
    "r6 = r5.day\n",
    "r7 = r5.day_name()\n",
    "r8 = r5.strftime('%b-%d')\n",
    "r5; r6; r7; r8"
   ]
  },
  {
   "cell_type": "code",
   "execution_count": 12,
   "metadata": {
    "scrolled": true
   },
   "outputs": [
    {
     "data": {
      "text/html": [
       "<div>\n",
       "<style scoped>\n",
       "    .dataframe tbody tr th:only-of-type {\n",
       "        vertical-align: middle;\n",
       "    }\n",
       "\n",
       "    .dataframe tbody tr th {\n",
       "        vertical-align: top;\n",
       "    }\n",
       "\n",
       "    .dataframe thead th {\n",
       "        text-align: right;\n",
       "    }\n",
       "</style>\n",
       "<table border=\"1\" class=\"dataframe\">\n",
       "  <thead>\n",
       "    <tr style=\"text-align: right;\">\n",
       "      <th></th>\n",
       "      <th>year</th>\n",
       "      <th>month</th>\n",
       "      <th>day</th>\n",
       "    </tr>\n",
       "  </thead>\n",
       "  <tbody>\n",
       "    <tr>\n",
       "      <th>0</th>\n",
       "      <td>2023</td>\n",
       "      <td>3</td>\n",
       "      <td>1</td>\n",
       "    </tr>\n",
       "    <tr>\n",
       "      <th>1</th>\n",
       "      <td>2023</td>\n",
       "      <td>3</td>\n",
       "      <td>5</td>\n",
       "    </tr>\n",
       "    <tr>\n",
       "      <th>2</th>\n",
       "      <td>2023</td>\n",
       "      <td>3</td>\n",
       "      <td>7</td>\n",
       "    </tr>\n",
       "  </tbody>\n",
       "</table>\n",
       "</div>"
      ],
      "text/plain": [
       "   year  month  day\n",
       "0  2023      3    1\n",
       "1  2023      3    5\n",
       "2  2023      3    7"
      ]
     },
     "execution_count": 12,
     "metadata": {},
     "output_type": "execute_result"
    },
    {
     "data": {
      "text/plain": [
       "0    March 1, 2023\n",
       "1       03/02/2023\n",
       "dtype: object"
      ]
     },
     "execution_count": 12,
     "metadata": {},
     "output_type": "execute_result"
    },
    {
     "data": {
      "text/plain": [
       "0   2023-03-01\n",
       "1   2023-03-05\n",
       "2   2023-03-07\n",
       "dtype: datetime64[ns]"
      ]
     },
     "execution_count": 12,
     "metadata": {},
     "output_type": "execute_result"
    },
    {
     "data": {
      "text/plain": [
       "0   2023-03-01\n",
       "1   2023-03-02\n",
       "dtype: datetime64[ns]"
      ]
     },
     "execution_count": 12,
     "metadata": {},
     "output_type": "execute_result"
    }
   ],
   "source": [
    "# [2]\n",
    "\n",
    "df = pd.DataFrame({'year':2023,'month':3,'day':[1,5,7]})\n",
    "sr = pd.Series(['March 1, 2023','03/02/2023'])\n",
    "r9 = pd.to_datetime(df)\n",
    "r10 = pd.to_datetime(sr)\n",
    "df; sr; r9; r10"
   ]
  },
  {
   "cell_type": "markdown",
   "metadata": {},
   "source": [
    "### [예제6] read_csv()로 파일을 읽어와 DatetimeIndex객체로 변환"
   ]
  },
  {
   "cell_type": "code",
   "execution_count": 13,
   "metadata": {
    "scrolled": true
   },
   "outputs": [
    {
     "name": "stdout",
     "output_type": "stream",
     "text": [
      "<class 'pandas.core.indexes.datetimes.DatetimeIndex'>\n",
      "<class 'pandas.core.indexes.datetimes.DatetimeIndex'>\n"
     ]
    },
    {
     "data": {
      "text/html": [
       "<div style=\"float: left;padding:10px;\"> <b>[r1]</b> <div>\n",
       "<style scoped>\n",
       "    .dataframe tbody tr th:only-of-type {\n",
       "        vertical-align: middle;\n",
       "    }\n",
       "\n",
       "    .dataframe tbody tr th {\n",
       "        vertical-align: top;\n",
       "    }\n",
       "\n",
       "    .dataframe thead th {\n",
       "        text-align: right;\n",
       "    }\n",
       "</style>\n",
       "<table border=\"1\" class=\"dataframe\">\n",
       "  <thead>\n",
       "    <tr style=\"text-align: right;\">\n",
       "      <th></th>\n",
       "      <th>names</th>\n",
       "      <th>age</th>\n",
       "    </tr>\n",
       "    <tr>\n",
       "      <th>birth</th>\n",
       "      <th></th>\n",
       "      <th></th>\n",
       "    </tr>\n",
       "  </thead>\n",
       "  <tbody>\n",
       "    <tr>\n",
       "      <th>2002-10-01</th>\n",
       "      <td>kim</td>\n",
       "      <td>19</td>\n",
       "    </tr>\n",
       "    <tr>\n",
       "      <th>2001-05-11</th>\n",
       "      <td>lee</td>\n",
       "      <td>20</td>\n",
       "    </tr>\n",
       "  </tbody>\n",
       "</table>\n",
       "</div></div>\n",
       "<div style=\"float: left;padding:10px;\"> <b>[r2]</b> <div>\n",
       "<style scoped>\n",
       "    .dataframe tbody tr th:only-of-type {\n",
       "        vertical-align: middle;\n",
       "    }\n",
       "\n",
       "    .dataframe tbody tr th {\n",
       "        vertical-align: top;\n",
       "    }\n",
       "\n",
       "    .dataframe thead th {\n",
       "        text-align: right;\n",
       "    }\n",
       "</style>\n",
       "<table border=\"1\" class=\"dataframe\">\n",
       "  <thead>\n",
       "    <tr style=\"text-align: right;\">\n",
       "      <th></th>\n",
       "      <th>names</th>\n",
       "      <th>age</th>\n",
       "    </tr>\n",
       "    <tr>\n",
       "      <th>birth</th>\n",
       "      <th></th>\n",
       "      <th></th>\n",
       "    </tr>\n",
       "  </thead>\n",
       "  <tbody>\n",
       "    <tr>\n",
       "      <th>2002-10-01</th>\n",
       "      <td>kim</td>\n",
       "      <td>19</td>\n",
       "    </tr>\n",
       "    <tr>\n",
       "      <th>2001-05-11</th>\n",
       "      <td>lee</td>\n",
       "      <td>20</td>\n",
       "    </tr>\n",
       "  </tbody>\n",
       "</table>\n",
       "</div></div>"
      ],
      "text/plain": [
       "<__main__.disp at 0x1fd1fbb4bc8>"
      ]
     },
     "execution_count": 13,
     "metadata": {},
     "output_type": "execute_result"
    }
   ],
   "source": [
    "r1 = pd.read_csv('data/05_01_01.csv',parse_dates=True,index_col='birth')\n",
    "r2 = pd.read_csv('data/05_01_01.csv',parse_dates=['birth'],index_col='birth')\n",
    "prt(type(r1.index), type(r2.index))\n",
    "disp('r1', 'r2')"
   ]
  },
  {
   "cell_type": "markdown",
   "metadata": {},
   "source": [
    "### [예제7] DateOffset()"
   ]
  },
  {
   "cell_type": "code",
   "execution_count": 14,
   "metadata": {},
   "outputs": [
    {
     "data": {
      "text/plain": [
       "DatetimeIndex(['2021-01-01', '2021-01-03'], dtype='datetime64[ns]', freq='<DateOffset: days=2>')"
      ]
     },
     "execution_count": 14,
     "metadata": {},
     "output_type": "execute_result"
    },
    {
     "data": {
      "text/plain": [
       "DatetimeIndex(['2021-01-01', '2021-01-03'], dtype='datetime64[ns]', freq='2D')"
      ]
     },
     "execution_count": 14,
     "metadata": {},
     "output_type": "execute_result"
    },
    {
     "data": {
      "text/plain": [
       "DatetimeIndex(['2021-01-01', '2021-01-03'], dtype='datetime64[ns]', freq='2D')"
      ]
     },
     "execution_count": 14,
     "metadata": {},
     "output_type": "execute_result"
    }
   ],
   "source": [
    "r1 = pd.date_range('2021-1-1',periods=2, freq=pd.DateOffset(days=2))\n",
    "r2 = pd.date_range('2021-1-1',periods=2, freq=pd.offsets.Day(2))\n",
    "r3 = pd.date_range('2021-1-1',periods=2, freq='2D')\n",
    "r1; r2; r3"
   ]
  },
  {
   "cell_type": "markdown",
   "metadata": {},
   "source": [
    "### [예제8] DateOffset 객체의 이해"
   ]
  },
  {
   "cell_type": "code",
   "execution_count": 15,
   "metadata": {},
   "outputs": [
    {
     "name": "stdout",
     "output_type": "stream",
     "text": [
      "    January 2021\n",
      "Mo Tu We Th Fr Sa Su\n",
      "             1  2  3\n",
      " 4  5  6  7  8  9 10\n",
      "11 12 13 14 15 16 17\n",
      "18 19 20 21 22 23 24\n",
      "25 26 27 28 29 30 31\n",
      "\n"
     ]
    }
   ],
   "source": [
    "import calendar\n",
    "print(calendar.month(2021,1)) # 2021-1월 달력"
   ]
  },
  {
   "cell_type": "code",
   "execution_count": 17,
   "metadata": {},
   "outputs": [
    {
     "name": "stdout",
     "output_type": "stream",
     "text": [
      "2021-01-06 09:00:00\n",
      "2021-01-06 09:00:00\n",
      "2021-01-22 09:00:00\n",
      "2021-01-31 09:00:00\n",
      "2021-06-30 09:00:00\n"
     ]
    }
   ],
   "source": [
    "# [1]\n",
    "\n",
    "ts = pd.Timestamp('2021-1-10 09:00:00') \n",
    "# r1 = ts - 4 # error\n",
    "r2 = ts - pd.DateOffset(days=4)\n",
    "r3 = ts - pd.offsets.Day(4)\n",
    "r4 = ts + pd.offsets.Week(2, weekday=4)\n",
    "r5 = ts + pd.offsets.MonthEnd()\n",
    "r6 = ts + pd.offsets.YearEnd(month=6)\n",
    "prt(r2, r3, r4, r5, r6)"
   ]
  },
  {
   "cell_type": "code",
   "execution_count": 18,
   "metadata": {},
   "outputs": [
    {
     "name": "stdout",
     "output_type": "stream",
     "text": [
      "<class 'pandas._libs.tslibs.offsets.DateOffset'>\n"
     ]
    },
    {
     "data": {
      "text/plain": [
       "DatetimeIndex(['2021-03-01', '2021-03-02'], dtype='datetime64[ns]', freq=None)"
      ]
     },
     "execution_count": 18,
     "metadata": {},
     "output_type": "execute_result"
    },
    {
     "data": {
      "text/plain": [
       "0   2021-03-01\n",
       "1   2021-03-02\n",
       "dtype: datetime64[ns]"
      ]
     },
     "execution_count": 18,
     "metadata": {},
     "output_type": "execute_result"
    }
   ],
   "source": [
    "# [2]\n",
    "\n",
    "dt = pd.to_datetime(['2021-1-1','2021-1-2'])\n",
    "r7 = dt + pd.DateOffset(months=2)\n",
    "r8 = pd.Series(dt) + pd.DateOffset(months=2)\n",
    "print(type(pd.DateOffset(months=2)))\n",
    "r7;r8"
   ]
  },
  {
   "cell_type": "markdown",
   "metadata": {},
   "source": [
    "### [예제9] Frequency alias"
   ]
  },
  {
   "cell_type": "code",
   "execution_count": 19,
   "metadata": {},
   "outputs": [
    {
     "name": "stdout",
     "output_type": "stream",
     "text": [
      "   February 2021\n",
      "Mo Tu We Th Fr Sa Su\n",
      " 1  2  3  4  5  6  7\n",
      " 8  9 10 11 12 13 14\n",
      "15 16 17 18 19 20 21\n",
      "22 23 24 25 26 27 28\n",
      "\n"
     ]
    },
    {
     "data": {
      "text/plain": [
       "DatetimeIndex(['2021-02-13', '2021-02-20'], dtype='datetime64[ns]', freq='W-SAT')"
      ]
     },
     "execution_count": 19,
     "metadata": {},
     "output_type": "execute_result"
    },
    {
     "data": {
      "text/plain": [
       "DatetimeIndex(['2021-02-13', '2021-03-13'], dtype='datetime64[ns]', freq='WOM-2SAT')"
      ]
     },
     "execution_count": 19,
     "metadata": {},
     "output_type": "execute_result"
    },
    {
     "data": {
      "text/plain": [
       "DatetimeIndex(['2021-02-28', '2021-05-31'], dtype='datetime64[ns]', freq='Q-FEB')"
      ]
     },
     "execution_count": 19,
     "metadata": {},
     "output_type": "execute_result"
    },
    {
     "data": {
      "text/plain": [
       "DatetimeIndex(['2021-02-26', '2022-02-28'], dtype='datetime64[ns]', freq='BA-FEB')"
      ]
     },
     "execution_count": 19,
     "metadata": {},
     "output_type": "execute_result"
    }
   ],
   "source": [
    "print(calendar.month(2021,2)) # 2021년 2월 달력\n",
    "\n",
    "t = pd.Timestamp('2021-2-12') \n",
    "r1 = pd.date_range(t,periods=2, freq='W-Sat')\n",
    "r2 = pd.date_range(t,periods=2, freq='WOM-2Sat')\n",
    "r3 = pd.date_range(t,periods=2, freq='Q-FEB')\n",
    "r4 = pd.date_range(t,periods=2, freq='BA-FEB')\n",
    "r1; r2; r3; r4"
   ]
  },
  {
   "cell_type": "markdown",
   "metadata": {},
   "source": [
    "### [예제10] Period 객체"
   ]
  },
  {
   "cell_type": "code",
   "execution_count": 20,
   "metadata": {},
   "outputs": [
    {
     "data": {
      "text/plain": [
       "Period('2021-05', 'M')"
      ]
     },
     "execution_count": 20,
     "metadata": {},
     "output_type": "execute_result"
    },
    {
     "data": {
      "text/plain": [
       "Period('2021-07', 'M')"
      ]
     },
     "execution_count": 20,
     "metadata": {},
     "output_type": "execute_result"
    }
   ],
   "source": [
    "# [1]\n",
    "\n",
    "p1 = pd.Period('2021-5', freq='M')\n",
    "r1 = p1 + 2\n",
    "p1; r1"
   ]
  },
  {
   "cell_type": "code",
   "execution_count": 21,
   "metadata": {},
   "outputs": [
    {
     "data": {
      "text/plain": [
       "DatetimeIndex(['2021-01-31', '2021-02-28'], dtype='datetime64[ns]', freq='M')"
      ]
     },
     "execution_count": 21,
     "metadata": {},
     "output_type": "execute_result"
    },
    {
     "data": {
      "text/plain": [
       "PeriodIndex(['2021-01', '2021-02'], dtype='period[M]')"
      ]
     },
     "execution_count": 21,
     "metadata": {},
     "output_type": "execute_result"
    },
    {
     "data": {
      "text/plain": [
       "PeriodIndex(['2021-01', '2021-02'], dtype='period[M]')"
      ]
     },
     "execution_count": 21,
     "metadata": {},
     "output_type": "execute_result"
    },
    {
     "data": {
      "text/plain": [
       "PeriodIndex(['2021-03', '2021-04'], dtype='period[M]')"
      ]
     },
     "execution_count": 21,
     "metadata": {},
     "output_type": "execute_result"
    },
    {
     "data": {
      "text/plain": [
       "DatetimeIndex(['2021-01-31 23:59:59.999999999', '2021-02-28 23:59:59.999999999'], dtype='datetime64[ns]', freq=None)"
      ]
     },
     "execution_count": 21,
     "metadata": {},
     "output_type": "execute_result"
    },
    {
     "data": {
      "text/plain": [
       "PeriodIndex(['2021-01', '2021-02'], dtype='period[M]')"
      ]
     },
     "execution_count": 21,
     "metadata": {},
     "output_type": "execute_result"
    }
   ],
   "source": [
    "# [2]\n",
    "\n",
    "dt = pd.date_range('2021-01', periods=2, freq='M')\n",
    "p2 = pd.PeriodIndex(['2021-01', '2021-02'], freq='M')\n",
    "p3 = pd.period_range('2021-01', periods=2, freq='M')\n",
    "\n",
    "r3 = p2 + pd.offsets.MonthEnd(2)\n",
    "r4 = p2.to_timestamp(how='end')\n",
    "r5 = dt.to_period()\n",
    "dt; p2; p3; r3; r4; r5"
   ]
  }
 ],
 "metadata": {
  "kernelspec": {
   "display_name": "Python 3 (ipykernel)",
   "language": "python",
   "name": "python3"
  },
  "language_info": {
   "codemirror_mode": {
    "name": "ipython",
    "version": 3
   },
   "file_extension": ".py",
   "mimetype": "text/x-python",
   "name": "python",
   "nbconvert_exporter": "python",
   "pygments_lexer": "ipython3",
   "version": "3.7.7"
  }
 },
 "nbformat": 4,
 "nbformat_minor": 4
}
