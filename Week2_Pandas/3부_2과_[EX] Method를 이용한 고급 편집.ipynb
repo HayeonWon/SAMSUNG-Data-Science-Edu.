{
 "cells": [
  {
   "cell_type": "code",
   "execution_count": 4,
   "metadata": {
    "scrolled": true
   },
   "outputs": [],
   "source": [
    "from IPython.core.interactiveshell import InteractiveShell\n",
    "InteractiveShell.ast_node_interactivity = \"all\"\n",
    "\n",
    "class disp(object):\n",
    "    template = '<div style=\"float: left;padding:10px;\"> <b>[{0}]</b> {1}</div>'\n",
    "    def __init__(self, *args):\n",
    "        self.args = args\n",
    "        \n",
    "    def _repr_html_(self):\n",
    "        return '\\n'.join(self.template.format(a, eval(a)._repr_html_())\n",
    "                         for a in self.args)\n",
    "\n",
    "import pandas as pd\n",
    "import numpy as np"
   ]
  },
  {
   "cell_type": "markdown",
   "metadata": {},
   "source": [
    "### [예제1] query() 메서드 이해"
   ]
  },
  {
   "cell_type": "markdown",
   "metadata": {},
   "source": [
    "* query는 비트연산(&,|,~)과 논리연산(and,or,not) 동일시\n",
    "* df[df['age'] >= 20 and df['age'] <= 30] -> ERROR\n",
    "* **df.query('age >= 20 and age <= 30') -> OK!**"
   ]
  },
  {
   "cell_type": "code",
   "execution_count": null,
   "metadata": {},
   "outputs": [],
   "source": [
    "# [1]\n",
    "# 조건식은 논리연산자와 범위연산 불가능\n",
    "\n",
    "df = pd.DataFrame({'name':['kim','lee','park','song'], 'age':[20, 40, 35, 25]})\n",
    "\n",
    "r1 = df[df['age'] >= 20 and df['age'] <= 30] #error. 논리연산 불가\n",
    "r2 = df[20 <= df['age'] <= 30] #error. 범위연산 불가\n",
    "r3 = df[(df['age'] >= 20) & (df['age'] <= 30)]\n",
    "\n",
    "disp('df', 'r3')"
   ]
  },
  {
   "cell_type": "code",
   "execution_count": null,
   "metadata": {},
   "outputs": [],
   "source": [
    "# [2]\n",
    "# 그러나, query는 논리연산과 범위연산 사용 가능\n",
    "\n",
    "df = pd.DataFrame({'name':['kim','lee','park','song'], 'age':[20, 40, 35, 25]})\n",
    "\n",
    "r4 = df.query('age >= 20 & age <= 30') \n",
    "r5 = df.query('age >= 20 and age <= 30')\n",
    "r6 = df.query('20 <= age <= 30')\n",
    "\n",
    "disp('r4', 'r5', 'r6')"
   ]
  },
  {
   "cell_type": "code",
   "execution_count": null,
   "metadata": {
    "scrolled": true
   },
   "outputs": [],
   "source": [
    "# [3]\n",
    "# 조건식은 in, not in 연산자 불가능\n",
    "\n",
    "df = pd.DataFrame({'name':['kim','lee','park','song'], 'age':[20, 40, 35, 25]})\n",
    "\n",
    "r7 = df[df['name'] in ['kim', 'park']] #error\n",
    "r8 = df[(df['name'] == 'kim') | (df['name'] == 'park')]\n",
    "r9 = df[df['name'].isin(['kim', 'park'])]\n",
    "\n",
    "disp('r8', 'r9')"
   ]
  },
  {
   "cell_type": "code",
   "execution_count": null,
   "metadata": {},
   "outputs": [],
   "source": [
    "# [4]\n",
    "# query는 in, not in 연산 가능\n",
    "\n",
    "df = pd.DataFrame({'name':['kim','lee','park','song'], 'age':[20, 40, 35, 25]})\n",
    "\n",
    "r10 = df.query('name in [\"kim\", \"park\"]')\n",
    "r11 = df.query('name == [\"kim\", \"park\"]')\n",
    "r12 = df.query('name.isin([\"kim\", \"park\"])', engine='python')\n",
    "\n",
    "disp('r10', 'r11', 'r12')"
   ]
  },
  {
   "cell_type": "markdown",
   "metadata": {},
   "source": [
    "### [예제2] query() 메서드 이해2"
   ]
  },
  {
   "cell_type": "code",
   "execution_count": null,
   "metadata": {},
   "outputs": [],
   "source": [
    "# [1]\n",
    "\n",
    "d = {'class':['A','B','A','C'],'name':['kim','lee','park','song'],'id':range(11,15),'exam':[80,50,90,60]}\n",
    "df = pd.DataFrame(d).set_index('id')\n",
    "\n",
    "r1 = df[df.index == 11]\n",
    "r2 = df.query('id == 11')\n",
    "r3 = df.query('index == 11') \n",
    "\n",
    "disp('df', 'r1', 'r2', 'r3')"
   ]
  },
  {
   "cell_type": "code",
   "execution_count": null,
   "metadata": {
    "scrolled": true
   },
   "outputs": [],
   "source": [
    "# [2]\n",
    "\n",
    "d = {'class':['A','B','A','C'],'name':['kim','lee','park','song'],'id':range(11,15),'exam':[80,50,90,60]}\n",
    "df = pd.DataFrame(d).set_index('id')\n",
    "\n",
    "x, y = df['class'], 'A'\n",
    "r4 = df.query('class == \"A\"') #error\n",
    "r5 = df.query('`class` == \"A\"')\n",
    "r6 = df.query('@x == @y')\n",
    "\n",
    "disp('df', 'r5', 'r6')"
   ]
  },
  {
   "cell_type": "code",
   "execution_count": null,
   "metadata": {
    "scrolled": true
   },
   "outputs": [],
   "source": [
    "# [3]\n",
    "\n",
    "d = {'class':['A','B','A','C'],'name':['kim','lee','park','song'],'id':range(11,15),'exam':[80,50,90,60]}\n",
    "df = pd.DataFrame(d).set_index('id')\n",
    "\n",
    "x = df['exam'].mean()\n",
    "y = ['A', 'C']\n",
    "r7 = df.query('exam <= @x')\n",
    "r8 = df.query('`class` in @y ')['exam'].max()\n",
    "\n",
    "disp('df','r7'); r8"
   ]
  },
  {
   "cell_type": "markdown",
   "metadata": {},
   "source": [
    "### [예제3] filter() 메서드 이해"
   ]
  },
  {
   "cell_type": "code",
   "execution_count": null,
   "metadata": {},
   "outputs": [],
   "source": [
    "# [1]\n",
    "\n",
    "d = {'kor':[80,50,90,60],'eng':[70,100,80,50]}\n",
    "df = pd.DataFrame(d, index=['kim','lee','park','ki'])\n",
    "\n",
    "r1 = df.filter(items = ['kor'])\n",
    "r2 = df.filter(like = 'k')\n",
    "\n",
    "disp('df', 'r1', 'r2')"
   ]
  },
  {
   "cell_type": "code",
   "execution_count": null,
   "metadata": {
    "scrolled": true
   },
   "outputs": [],
   "source": [
    "# [2]\n",
    "\n",
    "d = {'kor':[80,50,90,60],'eng':[70,100,80,50]}\n",
    "df = pd.DataFrame(d, index=['kim','lee','park','ki'])\n",
    "\n",
    "r3 = df.filter(items = ['kim', 'ki'], axis=0)\n",
    "r4 = df.filter(regex = '^k', axis=0) \n",
    "r5 = df.loc[df.index.isin(['kim', 'ki'])]\n",
    "r6 = df[ df.index.str.startswith('k') ]\n",
    "\n",
    "disp('df', 'r3', 'r4', 'r5', 'r6')"
   ]
  },
  {
   "cell_type": "code",
   "execution_count": null,
   "metadata": {},
   "outputs": [],
   "source": [
    "# [3]\n",
    "\n",
    "d = {'kor':[80,50,90,60],'eng':[70,100,80,50]}\n",
    "df = pd.DataFrame(d, index=['kim','lee','park','ki'])\n",
    "\n",
    "r7 = df.filter(regex='a$', like='K', axis=0) #error"
   ]
  },
  {
   "cell_type": "code",
   "execution_count": null,
   "metadata": {},
   "outputs": [],
   "source": [
    "# [4]\n",
    "\n",
    "d = {'kor':[80,50,90,60],'eng':[70,100,80,50]}\n",
    "df2 = pd.DataFrame(d, index=['kim','lee','park','kim'])\n",
    "\n",
    "r8 = df2.filter(items=['kim'], axis=0) #error\n",
    "r9 = df2.filter(like='m', axis=0)\n",
    "r10 = df2.filter(regex='^k', axis=0)\n",
    "\n",
    "disp('df2', 'r9', 'r10')"
   ]
  },
  {
   "cell_type": "markdown",
   "metadata": {},
   "source": [
    "### [예제4] sr.apply() 메서드 이해 1"
   ]
  },
  {
   "cell_type": "markdown",
   "metadata": {},
   "source": [
    "**sr.apply()**\n",
    "* series의 각 values에 지정 함수를 일괄 적용\n",
    "\n",
    "**df.apply()**\n",
    "* df의 axis에 따른 series에 대하여 함수를 일괄 적용\n",
    "* axis = 0 : 행방향 / axis = 1: 열방향\n",
    "\n",
    "**df.applymap()**\n",
    "* df의 각 values에 지정 함수를 일괄 적용"
   ]
  },
  {
   "cell_type": "code",
   "execution_count": 3,
   "metadata": {},
   "outputs": [
    {
     "data": {
      "text/plain": [
       "0    10.0\n",
       "1    20.0\n",
       "2    16.0\n",
       "Name: B, dtype: float64"
      ]
     },
     "execution_count": 3,
     "metadata": {},
     "output_type": "execute_result"
    },
    {
     "data": {
      "text/plain": [
       "0    10.0\n",
       "1    20.0\n",
       "2    16.0\n",
       "Name: B, dtype: float64"
      ]
     },
     "execution_count": 3,
     "metadata": {},
     "output_type": "execute_result"
    },
    {
     "data": {
      "text/plain": [
       "0    10\n",
       "1    20\n",
       "2    16\n",
       "Name: B, dtype: int64"
      ]
     },
     "execution_count": 3,
     "metadata": {},
     "output_type": "execute_result"
    }
   ],
   "source": [
    "# [1]\n",
    "# pandas의 round는 문자열 형태로 전달\n",
    "\n",
    "df = pd.DataFrame({'A': [2, 5, 9], 'B':[10.5, 20.5, 15.5]})\n",
    "\n",
    "r1 = df['B'].round()        # pandas 함수. 10.0, 20.0, 16.0\n",
    "r2 = df['B'].apply('round') # pandas 함수. 10.0, 20.0, 16.0\n",
    "\n",
    "r3 = df['B'].apply(round)   # python built-in 함수 사용. 10, 20, 16\n",
    "\n",
    "r1; r2; r3"
   ]
  },
  {
   "cell_type": "code",
   "execution_count": 5,
   "metadata": {},
   "outputs": [
    {
     "data": {
      "text/plain": [
       "0     4\n",
       "1    25\n",
       "2    81\n",
       "Name: A, dtype: int64"
      ]
     },
     "execution_count": 5,
     "metadata": {},
     "output_type": "execute_result"
    },
    {
     "data": {
      "text/plain": [
       "5.333333333333333"
      ]
     },
     "execution_count": 5,
     "metadata": {},
     "output_type": "execute_result"
    }
   ],
   "source": [
    "# [2]\n",
    "\n",
    "df = pd.DataFrame({'A': [2, 5, 9], 'B':[10.5, 20.5, 15.5]})\n",
    "\n",
    "r4 = df['A'].apply(np.square)\n",
    "r5 = df['A'].apply('mean')\n",
    "# r6 = df['A'].apply(mean) #error. python built-in 함수에 없음\n",
    "r4; r5"
   ]
  },
  {
   "cell_type": "code",
   "execution_count": 2,
   "metadata": {},
   "outputs": [
    {
     "name": "stdout",
     "output_type": "stream",
     "text": [
      "<class 'int'> 2\n",
      "<class 'int'> 5\n",
      "<class 'int'> 9\n"
     ]
    },
    {
     "data": {
      "text/plain": [
       "0     4\n",
       "1    25\n",
       "2    81\n",
       "Name: A, dtype: int64"
      ]
     },
     "execution_count": 2,
     "metadata": {},
     "output_type": "execute_result"
    }
   ],
   "source": [
    "# [3]\n",
    "\n",
    "df = pd.DataFrame({'A': [2, 5, 9], 'B':[10.5, 20.5, 15.5]})\n",
    "\n",
    "def func(x):\n",
    "    print(type(x), x)\n",
    "    return x*x\n",
    "\n",
    "r7 = df['A'].apply(func)  # 4, 25, 81 series 반환\n",
    "r7"
   ]
  },
  {
   "cell_type": "markdown",
   "metadata": {},
   "source": [
    "### [예제5] sr.apply() 메서드 이해 2"
   ]
  },
  {
   "cell_type": "code",
   "execution_count": 4,
   "metadata": {},
   "outputs": [
    {
     "data": {
      "text/html": [
       "<div>\n",
       "<style scoped>\n",
       "    .dataframe tbody tr th:only-of-type {\n",
       "        vertical-align: middle;\n",
       "    }\n",
       "\n",
       "    .dataframe tbody tr th {\n",
       "        vertical-align: top;\n",
       "    }\n",
       "\n",
       "    .dataframe thead th {\n",
       "        text-align: right;\n",
       "    }\n",
       "</style>\n",
       "<table border=\"1\" class=\"dataframe\">\n",
       "  <thead>\n",
       "    <tr style=\"text-align: right;\">\n",
       "      <th></th>\n",
       "      <th>model</th>\n",
       "      <th>price</th>\n",
       "    </tr>\n",
       "  </thead>\n",
       "  <tbody>\n",
       "    <tr>\n",
       "      <th>0</th>\n",
       "      <td>TV</td>\n",
       "      <td>400</td>\n",
       "    </tr>\n",
       "    <tr>\n",
       "      <th>1</th>\n",
       "      <td>PC</td>\n",
       "      <td>200</td>\n",
       "    </tr>\n",
       "    <tr>\n",
       "      <th>2</th>\n",
       "      <td>HP</td>\n",
       "      <td>100</td>\n",
       "    </tr>\n",
       "  </tbody>\n",
       "</table>\n",
       "</div>"
      ],
      "text/plain": [
       "  model  price\n",
       "0    TV    400\n",
       "1    PC    200\n",
       "2    HP    100"
      ]
     },
     "execution_count": 4,
     "metadata": {},
     "output_type": "execute_result"
    },
    {
     "data": {
      "text/plain": [
       "0    245.0\n",
       "1    145.0\n",
       "2     95.0\n",
       "Name: price, dtype: float64"
      ]
     },
     "execution_count": 4,
     "metadata": {},
     "output_type": "execute_result"
    },
    {
     "data": {
      "text/plain": [
       "0    245.0\n",
       "1    145.0\n",
       "2     95.0\n",
       "Name: price, dtype: float64"
      ]
     },
     "execution_count": 4,
     "metadata": {},
     "output_type": "execute_result"
    },
    {
     "data": {
      "text/plain": [
       "0    245.0\n",
       "1    145.0\n",
       "2     95.0\n",
       "Name: price, dtype: float64"
      ]
     },
     "execution_count": 4,
     "metadata": {},
     "output_type": "execute_result"
    },
    {
     "data": {
      "text/plain": [
       "0    245.0\n",
       "1    145.0\n",
       "2     95.0\n",
       "Name: price, dtype: float64"
      ]
     },
     "execution_count": 4,
     "metadata": {},
     "output_type": "execute_result"
    }
   ],
   "source": [
    "# [1]\n",
    "\n",
    "df = pd.DataFrame({'model':['TV','PC','HP'], 'price':[400,200,100]})\n",
    "\n",
    "def func1(t, x, y, z):\n",
    "    return t * x + y - z\n",
    "\n",
    "r1 = df['price'].apply(func1, x=0.5, y=50, z=5)    # t = df['price']\n",
    "r2 = df['price'].apply(func1, args=(0.5, 50, 5))   # arg를 통해 function의 parameter 전달\n",
    "r3 = df['price'].apply(func1, args=[0.5, 50], z=5)\n",
    "r4 = df['price'].apply(func1, args=(0.5,), y=50, z=5)\n",
    "df; r1; r2; r3; r4"
   ]
  },
  {
   "cell_type": "code",
   "execution_count": null,
   "metadata": {
    "scrolled": true
   },
   "outputs": [],
   "source": [
    "# [2]\n",
    "\n",
    "df = pd.DataFrame({'model':['TV','PC','HP'], 'price':[400,200,100]})\n",
    "df\n",
    "\n",
    "def func2(x, y):\n",
    "    return x-50 if x<y else x-100\n",
    "\n",
    "df['sale'] = df['price'].apply(func2, y=300)\n",
    "df"
   ]
  },
  {
   "cell_type": "markdown",
   "metadata": {},
   "source": [
    "### [예제6] sr.apply() 활용 예"
   ]
  },
  {
   "cell_type": "code",
   "execution_count": null,
   "metadata": {},
   "outputs": [],
   "source": [
    "d = {'model':['TV','COMPUTER','PHONE'],'price':[4000000,2000000,1000000]}\n",
    "df = pd.DataFrame(d)\n",
    "\n",
    "r1 = df['model'].apply(lambda x: x if len(x)<=4 else (x[:3]+'~'))\n",
    "r2 = df['price'].apply('{:,}원'.format)\n",
    "df; r1; r2"
   ]
  },
  {
   "cell_type": "markdown",
   "metadata": {},
   "source": [
    "### [예제7] df.apply() 이해 1"
   ]
  },
  {
   "cell_type": "code",
   "execution_count": 10,
   "metadata": {},
   "outputs": [
    {
     "name": "stdout",
     "output_type": "stream",
     "text": [
      "0    1\n",
      "1    2\n",
      "2    3\n",
      "Name: A, dtype: int64\n",
      "0    4\n",
      "1    5\n",
      "2    6\n",
      "Name: B, dtype: int64\n"
     ]
    },
    {
     "data": {
      "text/html": [
       "<div>\n",
       "<style scoped>\n",
       "    .dataframe tbody tr th:only-of-type {\n",
       "        vertical-align: middle;\n",
       "    }\n",
       "\n",
       "    .dataframe tbody tr th {\n",
       "        vertical-align: top;\n",
       "    }\n",
       "\n",
       "    .dataframe thead th {\n",
       "        text-align: right;\n",
       "    }\n",
       "</style>\n",
       "<table border=\"1\" class=\"dataframe\">\n",
       "  <thead>\n",
       "    <tr style=\"text-align: right;\">\n",
       "      <th></th>\n",
       "      <th>A</th>\n",
       "      <th>B</th>\n",
       "    </tr>\n",
       "  </thead>\n",
       "  <tbody>\n",
       "    <tr>\n",
       "      <th>0</th>\n",
       "      <td>1</td>\n",
       "      <td>16</td>\n",
       "    </tr>\n",
       "    <tr>\n",
       "      <th>1</th>\n",
       "      <td>4</td>\n",
       "      <td>25</td>\n",
       "    </tr>\n",
       "    <tr>\n",
       "      <th>2</th>\n",
       "      <td>9</td>\n",
       "      <td>36</td>\n",
       "    </tr>\n",
       "  </tbody>\n",
       "</table>\n",
       "</div>"
      ],
      "text/plain": [
       "   A   B\n",
       "0  1  16\n",
       "1  4  25\n",
       "2  9  36"
      ]
     },
     "execution_count": 10,
     "metadata": {},
     "output_type": "execute_result"
    }
   ],
   "source": [
    "df = pd.DataFrame({'A': [1, 2, 3], 'B':[4, 5, 6]})\n",
    "\n",
    "def f1(x):\n",
    "    print(x)\n",
    "    return x*x\n",
    "\n",
    "r1 = df.apply(f1)  \n",
    "r1"
   ]
  },
  {
   "cell_type": "markdown",
   "metadata": {},
   "source": [
    "### [예제8] df.apply() 이해 2"
   ]
  },
  {
   "cell_type": "code",
   "execution_count": 5,
   "metadata": {
    "scrolled": true
   },
   "outputs": [
    {
     "data": {
      "text/html": [
       "<div>\n",
       "<style scoped>\n",
       "    .dataframe tbody tr th:only-of-type {\n",
       "        vertical-align: middle;\n",
       "    }\n",
       "\n",
       "    .dataframe tbody tr th {\n",
       "        vertical-align: top;\n",
       "    }\n",
       "\n",
       "    .dataframe thead th {\n",
       "        text-align: right;\n",
       "    }\n",
       "</style>\n",
       "<table border=\"1\" class=\"dataframe\">\n",
       "  <thead>\n",
       "    <tr style=\"text-align: right;\">\n",
       "      <th></th>\n",
       "      <th>A</th>\n",
       "      <th>B</th>\n",
       "      <th>C</th>\n",
       "    </tr>\n",
       "  </thead>\n",
       "  <tbody>\n",
       "    <tr>\n",
       "      <th>0</th>\n",
       "      <td>1</td>\n",
       "      <td>4</td>\n",
       "      <td>7</td>\n",
       "    </tr>\n",
       "    <tr>\n",
       "      <th>1</th>\n",
       "      <td>2</td>\n",
       "      <td>5</td>\n",
       "      <td>8</td>\n",
       "    </tr>\n",
       "    <tr>\n",
       "      <th>2</th>\n",
       "      <td>3</td>\n",
       "      <td>6</td>\n",
       "      <td>9</td>\n",
       "    </tr>\n",
       "  </tbody>\n",
       "</table>\n",
       "</div>"
      ],
      "text/plain": [
       "   A  B  C\n",
       "0  1  4  7\n",
       "1  2  5  8\n",
       "2  3  6  9"
      ]
     },
     "execution_count": 5,
     "metadata": {},
     "output_type": "execute_result"
    },
    {
     "data": {
      "text/plain": [
       "A     6\n",
       "B    15\n",
       "C    24\n",
       "dtype: int64"
      ]
     },
     "execution_count": 5,
     "metadata": {},
     "output_type": "execute_result"
    },
    {
     "data": {
      "text/plain": [
       "0    12\n",
       "1    15\n",
       "2    18\n",
       "dtype: int64"
      ]
     },
     "execution_count": 5,
     "metadata": {},
     "output_type": "execute_result"
    }
   ],
   "source": [
    "# [1]\n",
    "\n",
    "df = pd.DataFrame({'A': [1, 2, 3], 'B':[4, 5, 6], 'C':[7, 8, 9]})\n",
    "\n",
    "r1 = df.apply(np.sum)          # axis=0. 행방향으로 sum\n",
    "r2 = df.apply(np.sum, axis=1)  # axis=1. 열방향으로 sum\n",
    "df; r1; r2"
   ]
  },
  {
   "cell_type": "code",
   "execution_count": 6,
   "metadata": {
    "scrolled": true
   },
   "outputs": [
    {
     "data": {
      "text/html": [
       "<div style=\"float: left;padding:10px;\"> <b>[df]</b> <div>\n",
       "<style scoped>\n",
       "    .dataframe tbody tr th:only-of-type {\n",
       "        vertical-align: middle;\n",
       "    }\n",
       "\n",
       "    .dataframe tbody tr th {\n",
       "        vertical-align: top;\n",
       "    }\n",
       "\n",
       "    .dataframe thead th {\n",
       "        text-align: right;\n",
       "    }\n",
       "</style>\n",
       "<table border=\"1\" class=\"dataframe\">\n",
       "  <thead>\n",
       "    <tr style=\"text-align: right;\">\n",
       "      <th></th>\n",
       "      <th>A</th>\n",
       "      <th>B</th>\n",
       "      <th>C</th>\n",
       "    </tr>\n",
       "  </thead>\n",
       "  <tbody>\n",
       "    <tr>\n",
       "      <th>0</th>\n",
       "      <td>1</td>\n",
       "      <td>4</td>\n",
       "      <td>7</td>\n",
       "    </tr>\n",
       "    <tr>\n",
       "      <th>1</th>\n",
       "      <td>2</td>\n",
       "      <td>5</td>\n",
       "      <td>8</td>\n",
       "    </tr>\n",
       "    <tr>\n",
       "      <th>2</th>\n",
       "      <td>3</td>\n",
       "      <td>6</td>\n",
       "      <td>9</td>\n",
       "    </tr>\n",
       "  </tbody>\n",
       "</table>\n",
       "</div></div>\n",
       "<div style=\"float: left;padding:10px;\"> <b>[r3]</b> <div>\n",
       "<style scoped>\n",
       "    .dataframe tbody tr th:only-of-type {\n",
       "        vertical-align: middle;\n",
       "    }\n",
       "\n",
       "    .dataframe tbody tr th {\n",
       "        vertical-align: top;\n",
       "    }\n",
       "\n",
       "    .dataframe thead th {\n",
       "        text-align: right;\n",
       "    }\n",
       "</style>\n",
       "<table border=\"1\" class=\"dataframe\">\n",
       "  <thead>\n",
       "    <tr style=\"text-align: right;\">\n",
       "      <th></th>\n",
       "      <th>A</th>\n",
       "      <th>B</th>\n",
       "      <th>C</th>\n",
       "    </tr>\n",
       "  </thead>\n",
       "  <tbody>\n",
       "    <tr>\n",
       "      <th>0</th>\n",
       "      <td>1</td>\n",
       "      <td>16</td>\n",
       "      <td>49</td>\n",
       "    </tr>\n",
       "    <tr>\n",
       "      <th>1</th>\n",
       "      <td>4</td>\n",
       "      <td>25</td>\n",
       "      <td>64</td>\n",
       "    </tr>\n",
       "    <tr>\n",
       "      <th>2</th>\n",
       "      <td>9</td>\n",
       "      <td>36</td>\n",
       "      <td>81</td>\n",
       "    </tr>\n",
       "  </tbody>\n",
       "</table>\n",
       "</div></div>"
      ],
      "text/plain": [
       "<__main__.disp at 0x244fd7578e0>"
      ]
     },
     "execution_count": 6,
     "metadata": {},
     "output_type": "execute_result"
    },
    {
     "data": {
      "text/plain": [
       "0    11\n",
       "1    18\n",
       "2    27\n",
       "dtype: int64"
      ]
     },
     "execution_count": 6,
     "metadata": {},
     "output_type": "execute_result"
    }
   ],
   "source": [
    "# [2]\n",
    "\n",
    "df = pd.DataFrame({'A': [1, 2, 3], 'B':[4, 5, 6], 'C':[7, 8, 9]})\n",
    "\n",
    "r3 = df.apply(np.square)\n",
    "r4 = df.apply(lambda x: x['A']*x['B']+x['C'], axis=1)\n",
    "\n",
    "disp('df', 'r3'); r4"
   ]
  },
  {
   "cell_type": "markdown",
   "metadata": {},
   "source": [
    "### [예제9] df.apply(): result_type 옵션"
   ]
  },
  {
   "cell_type": "markdown",
   "metadata": {},
   "source": [
    "axis=1(column)일 때만 적용 -> 즉, 결과가 행 series로 나오는 경우만 적용 가능\n",
    "* None(default) : 함수의 반환 타입 따름 (단, list-like인 경우 series로 반환)\n",
    "* reduce : 함수 반환 타입이 list-like인 경우 series로 반환\n",
    "* expand : 함수 반환 타입이 list-like인 경우 column으로 확장\n",
    "* broadcast : 원래 dataframe 모양으로 broadcast됨"
   ]
  },
  {
   "cell_type": "code",
   "execution_count": 17,
   "metadata": {
    "scrolled": true
   },
   "outputs": [
    {
     "data": {
      "text/plain": [
       "1    [200, 100, 10]\n",
       "2     [190, 80, 50]\n",
       "3     [130, 70, 20]\n",
       "dtype: object"
      ]
     },
     "execution_count": 17,
     "metadata": {},
     "output_type": "execute_result"
    },
    {
     "data": {
      "text/plain": [
       "1    [200, 100, 10]\n",
       "2     [190, 80, 50]\n",
       "3     [130, 70, 20]\n",
       "dtype: object"
      ]
     },
     "execution_count": 17,
     "metadata": {},
     "output_type": "execute_result"
    },
    {
     "data": {
      "text/html": [
       "<div style=\"float: left;padding:10px;\"> <b>[df]</b> <div>\n",
       "<style scoped>\n",
       "    .dataframe tbody tr th:only-of-type {\n",
       "        vertical-align: middle;\n",
       "    }\n",
       "\n",
       "    .dataframe tbody tr th {\n",
       "        vertical-align: top;\n",
       "    }\n",
       "\n",
       "    .dataframe thead th {\n",
       "        text-align: right;\n",
       "    }\n",
       "</style>\n",
       "<table border=\"1\" class=\"dataframe\">\n",
       "  <thead>\n",
       "    <tr style=\"text-align: right;\">\n",
       "      <th></th>\n",
       "      <th>A</th>\n",
       "      <th>B</th>\n",
       "      <th>C</th>\n",
       "    </tr>\n",
       "  </thead>\n",
       "  <tbody>\n",
       "    <tr>\n",
       "      <th>1</th>\n",
       "      <td>100</td>\n",
       "      <td>90</td>\n",
       "      <td>10</td>\n",
       "    </tr>\n",
       "    <tr>\n",
       "      <th>2</th>\n",
       "      <td>50</td>\n",
       "      <td>80</td>\n",
       "      <td>60</td>\n",
       "    </tr>\n",
       "    <tr>\n",
       "      <th>3</th>\n",
       "      <td>70</td>\n",
       "      <td>20</td>\n",
       "      <td>40</td>\n",
       "    </tr>\n",
       "  </tbody>\n",
       "</table>\n",
       "</div></div>\n",
       "<div style=\"float: left;padding:10px;\"> <b>[r3]</b> <div>\n",
       "<style scoped>\n",
       "    .dataframe tbody tr th:only-of-type {\n",
       "        vertical-align: middle;\n",
       "    }\n",
       "\n",
       "    .dataframe tbody tr th {\n",
       "        vertical-align: top;\n",
       "    }\n",
       "\n",
       "    .dataframe thead th {\n",
       "        text-align: right;\n",
       "    }\n",
       "</style>\n",
       "<table border=\"1\" class=\"dataframe\">\n",
       "  <thead>\n",
       "    <tr style=\"text-align: right;\">\n",
       "      <th></th>\n",
       "      <th>0</th>\n",
       "      <th>1</th>\n",
       "      <th>2</th>\n",
       "    </tr>\n",
       "  </thead>\n",
       "  <tbody>\n",
       "    <tr>\n",
       "      <th>1</th>\n",
       "      <td>200</td>\n",
       "      <td>100</td>\n",
       "      <td>10</td>\n",
       "    </tr>\n",
       "    <tr>\n",
       "      <th>2</th>\n",
       "      <td>190</td>\n",
       "      <td>80</td>\n",
       "      <td>50</td>\n",
       "    </tr>\n",
       "    <tr>\n",
       "      <th>3</th>\n",
       "      <td>130</td>\n",
       "      <td>70</td>\n",
       "      <td>20</td>\n",
       "    </tr>\n",
       "  </tbody>\n",
       "</table>\n",
       "</div></div>\n",
       "<div style=\"float: left;padding:10px;\"> <b>[r4]</b> <div>\n",
       "<style scoped>\n",
       "    .dataframe tbody tr th:only-of-type {\n",
       "        vertical-align: middle;\n",
       "    }\n",
       "\n",
       "    .dataframe tbody tr th {\n",
       "        vertical-align: top;\n",
       "    }\n",
       "\n",
       "    .dataframe thead th {\n",
       "        text-align: right;\n",
       "    }\n",
       "</style>\n",
       "<table border=\"1\" class=\"dataframe\">\n",
       "  <thead>\n",
       "    <tr style=\"text-align: right;\">\n",
       "      <th></th>\n",
       "      <th>A</th>\n",
       "      <th>B</th>\n",
       "      <th>C</th>\n",
       "    </tr>\n",
       "  </thead>\n",
       "  <tbody>\n",
       "    <tr>\n",
       "      <th>1</th>\n",
       "      <td>200</td>\n",
       "      <td>100</td>\n",
       "      <td>10</td>\n",
       "    </tr>\n",
       "    <tr>\n",
       "      <th>2</th>\n",
       "      <td>190</td>\n",
       "      <td>80</td>\n",
       "      <td>50</td>\n",
       "    </tr>\n",
       "    <tr>\n",
       "      <th>3</th>\n",
       "      <td>130</td>\n",
       "      <td>70</td>\n",
       "      <td>20</td>\n",
       "    </tr>\n",
       "  </tbody>\n",
       "</table>\n",
       "</div></div>"
      ],
      "text/plain": [
       "<__main__.disp at 0x24481d3c6d0>"
      ]
     },
     "execution_count": 17,
     "metadata": {},
     "output_type": "execute_result"
    }
   ],
   "source": [
    "# [1]\n",
    "\n",
    "df = pd.DataFrame({'A': [100,50,70], 'B':[90,80,20], 'C':[10,60,40]}, index=[1,2,3]) \n",
    "\n",
    "func1 = lambda x:[ x.sum(), x.max(), x.min()]\n",
    "\n",
    "r1 = df.apply(func1, axis=1)  # 열방향으로 함수 적용 후, series로 반환\n",
    "r2 = df.apply(func1, axis=1, result_type='reduce')  # r2와 같음\n",
    "\n",
    "# series로 반환된 후, column 확장 -> 그래서 컬럼 이름이 0,1,2\n",
    "r3 = df.apply(func1, axis=1, result_type='expand')\n",
    "\n",
    "# 원래 dataframe 모양으로 broadcast\n",
    "r4 = df.apply(func1, axis=1, result_type='broadcast')\n",
    "\n",
    "r1; r2\n",
    "disp('df', 'r3', 'r4')"
   ]
  },
  {
   "cell_type": "code",
   "execution_count": 19,
   "metadata": {},
   "outputs": [
    {
     "data": {
      "text/html": [
       "<div style=\"float: left;padding:10px;\"> <b>[df]</b> <div>\n",
       "<style scoped>\n",
       "    .dataframe tbody tr th:only-of-type {\n",
       "        vertical-align: middle;\n",
       "    }\n",
       "\n",
       "    .dataframe tbody tr th {\n",
       "        vertical-align: top;\n",
       "    }\n",
       "\n",
       "    .dataframe thead th {\n",
       "        text-align: right;\n",
       "    }\n",
       "</style>\n",
       "<table border=\"1\" class=\"dataframe\">\n",
       "  <thead>\n",
       "    <tr style=\"text-align: right;\">\n",
       "      <th></th>\n",
       "      <th>A</th>\n",
       "      <th>B</th>\n",
       "      <th>C</th>\n",
       "    </tr>\n",
       "  </thead>\n",
       "  <tbody>\n",
       "    <tr>\n",
       "      <th>1</th>\n",
       "      <td>100</td>\n",
       "      <td>90</td>\n",
       "      <td>10</td>\n",
       "    </tr>\n",
       "    <tr>\n",
       "      <th>2</th>\n",
       "      <td>50</td>\n",
       "      <td>80</td>\n",
       "      <td>60</td>\n",
       "    </tr>\n",
       "    <tr>\n",
       "      <th>3</th>\n",
       "      <td>70</td>\n",
       "      <td>20</td>\n",
       "      <td>40</td>\n",
       "    </tr>\n",
       "  </tbody>\n",
       "</table>\n",
       "</div></div>\n",
       "<div style=\"float: left;padding:10px;\"> <b>[r5]</b> <div>\n",
       "<style scoped>\n",
       "    .dataframe tbody tr th:only-of-type {\n",
       "        vertical-align: middle;\n",
       "    }\n",
       "\n",
       "    .dataframe tbody tr th {\n",
       "        vertical-align: top;\n",
       "    }\n",
       "\n",
       "    .dataframe thead th {\n",
       "        text-align: right;\n",
       "    }\n",
       "</style>\n",
       "<table border=\"1\" class=\"dataframe\">\n",
       "  <thead>\n",
       "    <tr style=\"text-align: right;\">\n",
       "      <th></th>\n",
       "      <th>0</th>\n",
       "      <th>1</th>\n",
       "    </tr>\n",
       "  </thead>\n",
       "  <tbody>\n",
       "    <tr>\n",
       "      <th>1</th>\n",
       "      <td>100</td>\n",
       "      <td>10</td>\n",
       "    </tr>\n",
       "    <tr>\n",
       "      <th>2</th>\n",
       "      <td>80</td>\n",
       "      <td>50</td>\n",
       "    </tr>\n",
       "    <tr>\n",
       "      <th>3</th>\n",
       "      <td>70</td>\n",
       "      <td>20</td>\n",
       "    </tr>\n",
       "  </tbody>\n",
       "</table>\n",
       "</div></div>"
      ],
      "text/plain": [
       "<__main__.disp at 0x244828326b0>"
      ]
     },
     "execution_count": 19,
     "metadata": {},
     "output_type": "execute_result"
    }
   ],
   "source": [
    "# [2]\n",
    "\n",
    "df = pd.DataFrame({'A': [100,50,70], 'B':[90,80,20], 'C':[10,60,40]}, index=[1,2,3]) \n",
    "\n",
    "func2 = lambda x:[ x.max(), x.min()]\n",
    "r5 = df.apply(func2, axis=1, result_type='expand')\n",
    "# r6 = df.apply(func2, axis=1, result_type='broadcast') # error\n",
    "\n",
    "disp('df', 'r5')"
   ]
  },
  {
   "cell_type": "markdown",
   "metadata": {},
   "source": [
    "### [예제10] applymap()의 이해"
   ]
  },
  {
   "cell_type": "code",
   "execution_count": 9,
   "metadata": {},
   "outputs": [
    {
     "data": {
      "text/html": [
       "<div>\n",
       "<style scoped>\n",
       "    .dataframe tbody tr th:only-of-type {\n",
       "        vertical-align: middle;\n",
       "    }\n",
       "\n",
       "    .dataframe tbody tr th {\n",
       "        vertical-align: top;\n",
       "    }\n",
       "\n",
       "    .dataframe thead th {\n",
       "        text-align: right;\n",
       "    }\n",
       "</style>\n",
       "<table border=\"1\" class=\"dataframe\">\n",
       "  <thead>\n",
       "    <tr style=\"text-align: right;\">\n",
       "      <th></th>\n",
       "      <th>A</th>\n",
       "      <th>B</th>\n",
       "      <th>C</th>\n",
       "    </tr>\n",
       "  </thead>\n",
       "  <tbody>\n",
       "    <tr>\n",
       "      <th>1</th>\n",
       "      <td>0.070</td>\n",
       "      <td>0.78</td>\n",
       "      <td>0.88</td>\n",
       "    </tr>\n",
       "    <tr>\n",
       "      <th>2</th>\n",
       "      <td>0.234</td>\n",
       "      <td>0.95</td>\n",
       "      <td>0.95</td>\n",
       "    </tr>\n",
       "    <tr>\n",
       "      <th>3</th>\n",
       "      <td>0.680</td>\n",
       "      <td>0.05</td>\n",
       "      <td>0.35</td>\n",
       "    </tr>\n",
       "  </tbody>\n",
       "</table>\n",
       "</div>"
      ],
      "text/plain": [
       "       A     B     C\n",
       "1  0.070  0.78  0.88\n",
       "2  0.234  0.95  0.95\n",
       "3  0.680  0.05  0.35"
      ]
     },
     "execution_count": 9,
     "metadata": {},
     "output_type": "execute_result"
    },
    {
     "data": {
      "text/html": [
       "<div>\n",
       "<style scoped>\n",
       "    .dataframe tbody tr th:only-of-type {\n",
       "        vertical-align: middle;\n",
       "    }\n",
       "\n",
       "    .dataframe tbody tr th {\n",
       "        vertical-align: top;\n",
       "    }\n",
       "\n",
       "    .dataframe thead th {\n",
       "        text-align: right;\n",
       "    }\n",
       "</style>\n",
       "<table border=\"1\" class=\"dataframe\">\n",
       "  <thead>\n",
       "    <tr style=\"text-align: right;\">\n",
       "      <th></th>\n",
       "      <th>A</th>\n",
       "      <th>B</th>\n",
       "      <th>C</th>\n",
       "    </tr>\n",
       "  </thead>\n",
       "  <tbody>\n",
       "    <tr>\n",
       "      <th>1</th>\n",
       "      <td>0</td>\n",
       "      <td>1</td>\n",
       "      <td>1</td>\n",
       "    </tr>\n",
       "    <tr>\n",
       "      <th>2</th>\n",
       "      <td>0</td>\n",
       "      <td>1</td>\n",
       "      <td>1</td>\n",
       "    </tr>\n",
       "    <tr>\n",
       "      <th>3</th>\n",
       "      <td>1</td>\n",
       "      <td>0</td>\n",
       "      <td>0</td>\n",
       "    </tr>\n",
       "  </tbody>\n",
       "</table>\n",
       "</div>"
      ],
      "text/plain": [
       "   A  B  C\n",
       "1  0  1  1\n",
       "2  0  1  1\n",
       "3  1  0  0"
      ]
     },
     "execution_count": 9,
     "metadata": {},
     "output_type": "execute_result"
    },
    {
     "data": {
      "text/html": [
       "<div>\n",
       "<style scoped>\n",
       "    .dataframe tbody tr th:only-of-type {\n",
       "        vertical-align: middle;\n",
       "    }\n",
       "\n",
       "    .dataframe tbody tr th {\n",
       "        vertical-align: top;\n",
       "    }\n",
       "\n",
       "    .dataframe thead th {\n",
       "        text-align: right;\n",
       "    }\n",
       "</style>\n",
       "<table border=\"1\" class=\"dataframe\">\n",
       "  <thead>\n",
       "    <tr style=\"text-align: right;\">\n",
       "      <th></th>\n",
       "      <th>A</th>\n",
       "      <th>B</th>\n",
       "      <th>C</th>\n",
       "    </tr>\n",
       "  </thead>\n",
       "  <tbody>\n",
       "    <tr>\n",
       "      <th>1</th>\n",
       "      <td>7.0%</td>\n",
       "      <td>78.0%</td>\n",
       "      <td>88.0%</td>\n",
       "    </tr>\n",
       "    <tr>\n",
       "      <th>2</th>\n",
       "      <td>23.4%</td>\n",
       "      <td>95.0%</td>\n",
       "      <td>95.0%</td>\n",
       "    </tr>\n",
       "    <tr>\n",
       "      <th>3</th>\n",
       "      <td>68.0%</td>\n",
       "      <td>5.0%</td>\n",
       "      <td>35.0%</td>\n",
       "    </tr>\n",
       "  </tbody>\n",
       "</table>\n",
       "</div>"
      ],
      "text/plain": [
       "       A      B      C\n",
       "1   7.0%  78.0%  88.0%\n",
       "2  23.4%  95.0%  95.0%\n",
       "3  68.0%   5.0%  35.0%"
      ]
     },
     "execution_count": 9,
     "metadata": {},
     "output_type": "execute_result"
    }
   ],
   "source": [
    "# df의 각 value에 함수 적용\n",
    "\n",
    "df = pd.DataFrame({'A': [0.07, 0.234, 0.68], 'B':[0.78,0.95,0.05], 'C':[0.88,0.95,0.35]}, index=[1,2,3]) \n",
    "df\n",
    "\n",
    "r1 = df.applymap(round)\n",
    "r2 = df.applymap('{:.1%}'.format )\n",
    "# r3 = df.apply('{:.1%}'.format ) # error\n",
    "r1; r2"
   ]
  },
  {
   "cell_type": "markdown",
   "metadata": {},
   "source": [
    "### [예제11] map() 메서드의 이해"
   ]
  },
  {
   "cell_type": "markdown",
   "metadata": {},
   "source": [
    "* pandas와 python의 map은 다름\n",
    "* pandas map : series의 각 value들에 대하여 특정 동작을 수행\n",
    "* python map : 배열 내의 모든 요소 각각에 대하여 주어진 함수를 호출한 결과를 모아 새로운 배열을 반환"
   ]
  },
  {
   "cell_type": "code",
   "execution_count": 5,
   "metadata": {},
   "outputs": [
    {
     "data": {
      "text/html": [
       "<div>\n",
       "<style scoped>\n",
       "    .dataframe tbody tr th:only-of-type {\n",
       "        vertical-align: middle;\n",
       "    }\n",
       "\n",
       "    .dataframe tbody tr th {\n",
       "        vertical-align: top;\n",
       "    }\n",
       "\n",
       "    .dataframe thead th {\n",
       "        text-align: right;\n",
       "    }\n",
       "</style>\n",
       "<table border=\"1\" class=\"dataframe\">\n",
       "  <thead>\n",
       "    <tr style=\"text-align: right;\">\n",
       "      <th></th>\n",
       "      <th>model</th>\n",
       "      <th>price</th>\n",
       "    </tr>\n",
       "  </thead>\n",
       "  <tbody>\n",
       "    <tr>\n",
       "      <th>0</th>\n",
       "      <td>tv</td>\n",
       "      <td>200</td>\n",
       "    </tr>\n",
       "    <tr>\n",
       "      <th>1</th>\n",
       "      <td>com</td>\n",
       "      <td>300</td>\n",
       "    </tr>\n",
       "    <tr>\n",
       "      <th>2</th>\n",
       "      <td>audio</td>\n",
       "      <td>150</td>\n",
       "    </tr>\n",
       "    <tr>\n",
       "      <th>3</th>\n",
       "      <td>phone</td>\n",
       "      <td>450</td>\n",
       "    </tr>\n",
       "  </tbody>\n",
       "</table>\n",
       "</div>"
      ],
      "text/plain": [
       "   model  price\n",
       "0     tv    200\n",
       "1    com    300\n",
       "2  audio    150\n",
       "3  phone    450"
      ]
     },
     "execution_count": 5,
     "metadata": {},
     "output_type": "execute_result"
    },
    {
     "data": {
      "text/plain": [
       "0     low\n",
       "1    high\n",
       "2     low\n",
       "3    high\n",
       "Name: price, dtype: object"
      ]
     },
     "execution_count": 5,
     "metadata": {},
     "output_type": "execute_result"
    },
    {
     "data": {
      "text/plain": [
       "0    200.0\n",
       "1    300.0\n",
       "2    150.0\n",
       "3    450.0\n",
       "Name: price, dtype: float64"
      ]
     },
     "execution_count": 5,
     "metadata": {},
     "output_type": "execute_result"
    },
    {
     "data": {
      "text/plain": [
       "0    TV\n",
       "1    PC\n",
       "2    AD\n",
       "3    HP\n",
       "Name: model, dtype: object"
      ]
     },
     "execution_count": 5,
     "metadata": {},
     "output_type": "execute_result"
    },
    {
     "data": {
      "text/plain": [
       "0    TV\n",
       "1    PC\n",
       "2    AD\n",
       "3    HP\n",
       "Name: model, dtype: object"
      ]
     },
     "execution_count": 5,
     "metadata": {},
     "output_type": "execute_result"
    }
   ],
   "source": [
    "d = {'model':['tv','com','audio','phone'], 'price':[200,300,150,450]}\n",
    "df = pd.DataFrame(d)\n",
    "\n",
    "code = {'tv':'TV','com':'PC','phone':'HP','audio':'AD'}\n",
    "r1 = df['price'].map(lambda x:'high' if x>=300 else'low')\n",
    "r2 = df['price'].map(float)\n",
    "r3 = df['model'].map(pd.Series(code))\n",
    "r4 = df['model'].map(code)\n",
    "df; r1; r2; r3; r4"
   ]
  },
  {
   "cell_type": "markdown",
   "metadata": {},
   "source": [
    "### [예제12] map()을 이용한 mapping 활용"
   ]
  },
  {
   "cell_type": "code",
   "execution_count": null,
   "metadata": {},
   "outputs": [],
   "source": [
    "# [1]\n",
    "\n",
    "d = {'model':['tv','com','audio','phone'], 'price':[np.nan,300,150,450]}\n",
    "df = pd.DataFrame(d)\n",
    "\n",
    "code = {'tv':'TV','com':'PC','audio':'AD'}\n",
    "r1 = df['model'].map(code)\n",
    "r2 = df['model'].replace(code)\n",
    "r3 = df['model'].apply(code.get)\n",
    "r4 = df['model'].apply(code.get, args = (0,))\n",
    "df; r1; r2; r3; r4"
   ]
  },
  {
   "cell_type": "code",
   "execution_count": null,
   "metadata": {},
   "outputs": [],
   "source": [
    "# [2]\n",
    "\n",
    "d = {'model':['tv','com','audio','phone'], 'price':[np.nan,300,150,450]}\n",
    "df = pd.DataFrame(d)\n",
    "\n",
    "r5 = df['price'].map('{:,}만원'.format)\n",
    "r6 = df['price'].map('{:,}만원'.format, na_action='ignore')\n",
    "r7 = df['price'].fillna(0).map('{:,}만원'.format)\n",
    "df; r5; r6; r7"
   ]
  },
  {
   "cell_type": "markdown",
   "metadata": {},
   "source": [
    "### [예제13] where(), mask() 메서드의 이해"
   ]
  },
  {
   "cell_type": "markdown",
   "metadata": {},
   "source": [
    "* where : 조건이 거짓인 행 또는 값 변경\n",
    "* mask  : 조건이 참인 행 또는 값 변경"
   ]
  },
  {
   "cell_type": "code",
   "execution_count": 6,
   "metadata": {
    "scrolled": true
   },
   "outputs": [
    {
     "data": {
      "text/html": [
       "<div>\n",
       "<style scoped>\n",
       "    .dataframe tbody tr th:only-of-type {\n",
       "        vertical-align: middle;\n",
       "    }\n",
       "\n",
       "    .dataframe tbody tr th {\n",
       "        vertical-align: top;\n",
       "    }\n",
       "\n",
       "    .dataframe thead th {\n",
       "        text-align: right;\n",
       "    }\n",
       "</style>\n",
       "<table border=\"1\" class=\"dataframe\">\n",
       "  <thead>\n",
       "    <tr style=\"text-align: right;\">\n",
       "      <th></th>\n",
       "      <th>model</th>\n",
       "      <th>price</th>\n",
       "    </tr>\n",
       "  </thead>\n",
       "  <tbody>\n",
       "    <tr>\n",
       "      <th>0</th>\n",
       "      <td>TV</td>\n",
       "      <td>200</td>\n",
       "    </tr>\n",
       "    <tr>\n",
       "      <th>1</th>\n",
       "      <td>PC</td>\n",
       "      <td>300</td>\n",
       "    </tr>\n",
       "    <tr>\n",
       "      <th>2</th>\n",
       "      <td>HP</td>\n",
       "      <td>150</td>\n",
       "    </tr>\n",
       "    <tr>\n",
       "      <th>3</th>\n",
       "      <td>AD</td>\n",
       "      <td>450</td>\n",
       "    </tr>\n",
       "  </tbody>\n",
       "</table>\n",
       "</div>"
      ],
      "text/plain": [
       "  model  price\n",
       "0    TV    200\n",
       "1    PC    300\n",
       "2    HP    150\n",
       "3    AD    450"
      ]
     },
     "execution_count": 6,
     "metadata": {},
     "output_type": "execute_result"
    },
    {
     "data": {
      "text/plain": [
       "0    low\n",
       "1    300\n",
       "2    low\n",
       "3    450\n",
       "Name: price, dtype: object"
      ]
     },
     "execution_count": 6,
     "metadata": {},
     "output_type": "execute_result"
    },
    {
     "data": {
      "text/plain": [
       "0     200\n",
       "1    high\n",
       "2     150\n",
       "3    high\n",
       "Name: price, dtype: object"
      ]
     },
     "execution_count": 6,
     "metadata": {},
     "output_type": "execute_result"
    },
    {
     "data": {
      "text/plain": [
       "0      NaN\n",
       "1    300.0\n",
       "2      NaN\n",
       "3    450.0\n",
       "Name: price, dtype: float64"
      ]
     },
     "execution_count": 6,
     "metadata": {},
     "output_type": "execute_result"
    },
    {
     "data": {
      "text/plain": [
       "array(['low', 'high', 'low', 'high'], dtype='<U4')"
      ]
     },
     "execution_count": 6,
     "metadata": {},
     "output_type": "execute_result"
    }
   ],
   "source": [
    "# [1]\n",
    "\n",
    "df = pd.DataFrame({'model':['TV', 'PC', 'HP', 'AD'], 'price':[200,300,150,450]})\n",
    "\n",
    "r1 = df['price'].where(df['price'] >= 300, 'low') # price 300 이상이 아니면 low로 변경\n",
    "r2 = df['price'].mask(df['price'] >= 300, 'high') # price 300 이상이면 high로 변경\n",
    "r3 = df['price'].where(df['price'] >= 300)\n",
    "r4 = np.where(df['price']>=300, 'high', 'low')\n",
    "df; r1; r2; r3; r4"
   ]
  },
  {
   "cell_type": "code",
   "execution_count": 7,
   "metadata": {},
   "outputs": [
    {
     "data": {
      "text/html": [
       "<div>\n",
       "<style scoped>\n",
       "    .dataframe tbody tr th:only-of-type {\n",
       "        vertical-align: middle;\n",
       "    }\n",
       "\n",
       "    .dataframe tbody tr th {\n",
       "        vertical-align: top;\n",
       "    }\n",
       "\n",
       "    .dataframe thead th {\n",
       "        text-align: right;\n",
       "    }\n",
       "</style>\n",
       "<table border=\"1\" class=\"dataframe\">\n",
       "  <thead>\n",
       "    <tr style=\"text-align: right;\">\n",
       "      <th></th>\n",
       "      <th>model</th>\n",
       "      <th>price</th>\n",
       "    </tr>\n",
       "  </thead>\n",
       "  <tbody>\n",
       "    <tr>\n",
       "      <th>0</th>\n",
       "      <td>TV</td>\n",
       "      <td>200</td>\n",
       "    </tr>\n",
       "    <tr>\n",
       "      <th>1</th>\n",
       "      <td>PC</td>\n",
       "      <td>300</td>\n",
       "    </tr>\n",
       "    <tr>\n",
       "      <th>2</th>\n",
       "      <td>HP</td>\n",
       "      <td>150</td>\n",
       "    </tr>\n",
       "    <tr>\n",
       "      <th>3</th>\n",
       "      <td>AD</td>\n",
       "      <td>450</td>\n",
       "    </tr>\n",
       "  </tbody>\n",
       "</table>\n",
       "</div>"
      ],
      "text/plain": [
       "  model  price\n",
       "0    TV    200\n",
       "1    PC    300\n",
       "2    HP    150\n",
       "3    AD    450"
      ]
     },
     "execution_count": 7,
     "metadata": {},
     "output_type": "execute_result"
    },
    {
     "data": {
      "text/html": [
       "<div>\n",
       "<style scoped>\n",
       "    .dataframe tbody tr th:only-of-type {\n",
       "        vertical-align: middle;\n",
       "    }\n",
       "\n",
       "    .dataframe tbody tr th {\n",
       "        vertical-align: top;\n",
       "    }\n",
       "\n",
       "    .dataframe thead th {\n",
       "        text-align: right;\n",
       "    }\n",
       "</style>\n",
       "<table border=\"1\" class=\"dataframe\">\n",
       "  <thead>\n",
       "    <tr style=\"text-align: right;\">\n",
       "      <th></th>\n",
       "      <th>model</th>\n",
       "      <th>price</th>\n",
       "    </tr>\n",
       "  </thead>\n",
       "  <tbody>\n",
       "    <tr>\n",
       "      <th>0</th>\n",
       "      <td>*</td>\n",
       "      <td>*</td>\n",
       "    </tr>\n",
       "    <tr>\n",
       "      <th>1</th>\n",
       "      <td>PC</td>\n",
       "      <td>300</td>\n",
       "    </tr>\n",
       "    <tr>\n",
       "      <th>2</th>\n",
       "      <td>*</td>\n",
       "      <td>*</td>\n",
       "    </tr>\n",
       "    <tr>\n",
       "      <th>3</th>\n",
       "      <td>AD</td>\n",
       "      <td>450</td>\n",
       "    </tr>\n",
       "  </tbody>\n",
       "</table>\n",
       "</div>"
      ],
      "text/plain": [
       "  model price\n",
       "0     *     *\n",
       "1    PC   300\n",
       "2     *     *\n",
       "3    AD   450"
      ]
     },
     "execution_count": 7,
     "metadata": {},
     "output_type": "execute_result"
    },
    {
     "data": {
      "text/html": [
       "<div>\n",
       "<style scoped>\n",
       "    .dataframe tbody tr th:only-of-type {\n",
       "        vertical-align: middle;\n",
       "    }\n",
       "\n",
       "    .dataframe tbody tr th {\n",
       "        vertical-align: top;\n",
       "    }\n",
       "\n",
       "    .dataframe thead th {\n",
       "        text-align: right;\n",
       "    }\n",
       "</style>\n",
       "<table border=\"1\" class=\"dataframe\">\n",
       "  <thead>\n",
       "    <tr style=\"text-align: right;\">\n",
       "      <th></th>\n",
       "      <th>model</th>\n",
       "      <th>price</th>\n",
       "    </tr>\n",
       "  </thead>\n",
       "  <tbody>\n",
       "    <tr>\n",
       "      <th>0</th>\n",
       "      <td>-</td>\n",
       "      <td>0</td>\n",
       "    </tr>\n",
       "    <tr>\n",
       "      <th>1</th>\n",
       "      <td>PC</td>\n",
       "      <td>300</td>\n",
       "    </tr>\n",
       "    <tr>\n",
       "      <th>2</th>\n",
       "      <td>-</td>\n",
       "      <td>0</td>\n",
       "    </tr>\n",
       "    <tr>\n",
       "      <th>3</th>\n",
       "      <td>AD</td>\n",
       "      <td>450</td>\n",
       "    </tr>\n",
       "  </tbody>\n",
       "</table>\n",
       "</div>"
      ],
      "text/plain": [
       "  model  price\n",
       "0     -      0\n",
       "1    PC    300\n",
       "2     -      0\n",
       "3    AD    450"
      ]
     },
     "execution_count": 7,
     "metadata": {},
     "output_type": "execute_result"
    }
   ],
   "source": [
    "# [2]\n",
    "\n",
    "df = pd.DataFrame({'model':['TV', 'PC', 'HP', 'AD'], 'price':[200,300,150,450]})\n",
    "    \n",
    "r5 = df.mask(df['price']<=200, '*')\n",
    "\n",
    "f1 = lambda x : x['price'] <= 200\n",
    "sr = pd.Series(['-', 0], index=['model','price'])\n",
    "r6 = df.mask(f1, sr, axis=1)\n",
    "df; r5; r6"
   ]
  }
 ],
 "metadata": {
  "kernelspec": {
   "display_name": "Python 3 (ipykernel)",
   "language": "python",
   "name": "python3"
  },
  "language_info": {
   "codemirror_mode": {
    "name": "ipython",
    "version": 3
   },
   "file_extension": ".py",
   "mimetype": "text/x-python",
   "name": "python",
   "nbconvert_exporter": "python",
   "pygments_lexer": "ipython3",
   "version": "3.10.9"
  },
  "toc": {
   "base_numbering": 1,
   "nav_menu": {},
   "number_sections": true,
   "sideBar": true,
   "skip_h1_title": true,
   "title_cell": "Table of Contents",
   "title_sidebar": "Contents",
   "toc_cell": false,
   "toc_position": {
    "height": "calc(100% - 180px)",
    "left": "10px",
    "top": "150px",
    "width": "165px"
   },
   "toc_section_display": true,
   "toc_window_display": false
  },
  "varInspector": {
   "cols": {
    "lenName": 16,
    "lenType": 16,
    "lenVar": 40
   },
   "kernels_config": {
    "python": {
     "delete_cmd_postfix": "",
     "delete_cmd_prefix": "del ",
     "library": "var_list.py",
     "varRefreshCmd": "print(var_dic_list())"
    },
    "r": {
     "delete_cmd_postfix": ") ",
     "delete_cmd_prefix": "rm(",
     "library": "var_list.r",
     "varRefreshCmd": "cat(var_dic_list()) "
    }
   },
   "types_to_exclude": [
    "module",
    "function",
    "builtin_function_or_method",
    "instance",
    "_Feature"
   ],
   "window_display": false
  }
 },
 "nbformat": 4,
 "nbformat_minor": 2
}
